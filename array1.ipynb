{
 "cells": [
  {
   "cell_type": "markdown",
   "metadata": {},
   "source": [
    "### Begreppet 'array' i linjär algebra\n",
    "\n",
    "Vi utgår från dina kunskaper om listor i python. Element i en array måste vara av samma typ, till skillnad från listor där elementen kan vara av olika datatyper.\n",
    "\n",
    "\n",
    "\n",
    "#### Vektor\n",
    "\n",
    "Först gör vi en vektor `v` genom"
   ]
  },
  {
   "cell_type": "code",
   "execution_count": 2,
   "metadata": {},
   "outputs": [
    {
     "name": "stdout",
     "output_type": "stream",
     "text": [
      "[1.  2.  2.  1.  4.2]\n",
      "<class 'numpy.ndarray'>\n"
     ]
    }
   ],
   "source": [
    "import numpy as np\n",
    "\n",
    "v = np.array([1., 2., 2., 1., 4.2])\n",
    "print(v)\n",
    "print(type(v)) #vilken datatyp"
   ]
  },
  {
   "cell_type": "markdown",
   "metadata": {},
   "source": [
    "`ndarray` står för n-dimensional array.\n",
    "\n",
    "Kommandot `array()` gör om listan `[1.,2.,2.,1.,4.2]` till en vektor.\n",
    "\n",
    "\n",
    "Vektorer har för addition, subtraktion, division och multiplikation *elementvisa* operationer (i kontrast med listor).\n",
    "\n",
    "Det innebär att element på samma plats (samma index) adderas, subtraheras, divideras eller multipliceras. Vi definierar två vektorer med fyra element vardera och utför de 4 räknesätten."
   ]
  },
  {
   "cell_type": "code",
   "execution_count": 3,
   "metadata": {},
   "outputs": [
    {
     "name": "stdout",
     "output_type": "stream",
     "text": [
      "[ 4.  1.  0. -4.]\n",
      "[-2. -1. -2. 12.]\n",
      "[ 0.33333333  0.         -1.         -0.5       ]\n",
      "[  3.   0.  -1. -32.]\n",
      "[2. 1. 0. 5.]\n"
     ]
    }
   ],
   "source": [
    "import numpy as np\n",
    "\n",
    "v1 = np.array([1., 0., -1., 4.])\n",
    "v2 = np.array([3., 1., 1., -8.])\n",
    "\n",
    "print(v1+v2)\n",
    "print(v1-v2)\n",
    "print(v1/v2)\n",
    "print(v1*v2)\n",
    "print(v1+1)  # Broadcasting. En etta adderas till alla element"
   ]
  },
  {
   "cell_type": "markdown",
   "metadata": {},
   "source": [
    "Lägg märke till skillnaden mot listor. Om L1 och L2 är listor med tal som element så gäller att:\n",
    "\n",
    "- L1+L2 är då konkatenering\n",
    "- L1-L2 är inte definierad\n",
    "- L1/L2 är inte definierad\n",
    "- L1\\*L2 är inte definierad\n",
    "\n",
    "\n",
    "\n",
    "Prova själv i nedanstående cell:"
   ]
  },
  {
   "cell_type": "code",
   "execution_count": 4,
   "metadata": {},
   "outputs": [
    {
     "name": "stdout",
     "output_type": "stream",
     "text": [
      "[2, 3, 1, 1]\n",
      "[2, 3, 2, 3]\n"
     ]
    }
   ],
   "source": [
    "import numpy as np\n",
    "\n",
    "L1 = [2, 3]\n",
    "L2 = [1, 1]\n",
    "print(L1+L2) #fungerar\n",
    "#print(L1-L2) #fel\n",
    "#print(L1/L2) #fel\n",
    "#print(L1*L2) #fel\n",
    "print(2*L1) #konkatenering"
   ]
  },
  {
   "cell_type": "markdown",
   "metadata": {},
   "source": [
    "Däremot kan man ta sinus för en array och en lista och det blir samma resultat för elementen."
   ]
  },
  {
   "cell_type": "code",
   "execution_count": 5,
   "metadata": {},
   "outputs": [
    {
     "name": "stdout",
     "output_type": "stream",
     "text": [
      "sinus för en Lista [ 0.00159265 -0.63126664]\n",
      "sinus för en Vektor [ 0.00159265 -0.63126664]\n"
     ]
    }
   ],
   "source": [
    "import numpy as np\n",
    "\n",
    "Lista = [3.14, 5.6]\n",
    "Vektor = np.array([3.14, 5.6])\n",
    "print(\"sinus för en Lista\", np.sin(Lista))\n",
    "print(\"sinus för en Vektor\", np.sin(Vektor))"
   ]
  },
  {
   "cell_type": "markdown",
   "metadata": {},
   "source": [
    "Några behändiga enkla kommandon. Endast nollor:"
   ]
  },
  {
   "cell_type": "code",
   "execution_count": 6,
   "metadata": {},
   "outputs": [
    {
     "name": "stdout",
     "output_type": "stream",
     "text": [
      "a= [0. 0. 0. 0. 0. 0. 0.]\n",
      "<class 'numpy.ndarray'>\n"
     ]
    }
   ],
   "source": [
    "import numpy as np\n",
    "\n",
    "a = np.zeros(7)\n",
    "print(\"a=\", a)\n",
    "print(type(a)) #vilken datatyp"
   ]
  },
  {
   "cell_type": "code",
   "execution_count": 7,
   "metadata": {},
   "outputs": [
    {
     "name": "stdout",
     "output_type": "stream",
     "text": [
      "a= [1. 1. 1. 1.]\n",
      "[2. 2. 2. 2.]\n"
     ]
    }
   ],
   "source": [
    "import numpy as np\n",
    "\n",
    "a = np.ones(4)\n",
    "print(\"a=\", a)\n",
    "print(a+a)"
   ]
  },
  {
   "cell_type": "code",
   "execution_count": 8,
   "metadata": {},
   "outputs": [
    {
     "name": "stdout",
     "output_type": "stream",
     "text": [
      "a= [2 5 8]\n"
     ]
    }
   ],
   "source": [
    "import numpy as np\n",
    "\n",
    "a = np.arange(2, 9, 3)\n",
    "print(\"a=\", a)"
   ]
  },
  {
   "cell_type": "markdown",
   "metadata": {},
   "source": [
    "Naturligtvis kan arrays konkateneras om det behövs."
   ]
  },
  {
   "cell_type": "code",
   "execution_count": 9,
   "metadata": {},
   "outputs": [
    {
     "name": "stdout",
     "output_type": "stream",
     "text": [
      "[2 2 4]\n",
      "[1 2 3 1 0 1]\n"
     ]
    }
   ],
   "source": [
    "import numpy as np\n",
    "\n",
    "a = np.array([1, 2, 3])\n",
    "b = np.array([1, 0, 1])\n",
    "print(a+b)\n",
    "c = np.concatenate((a,b))\n",
    "print(c)"
   ]
  },
  {
   "cell_type": "markdown",
   "metadata": {},
   "source": [
    "#### Matris\n",
    "\n",
    "En matris, tex.\n",
    "\n",
    "$$\n",
    "\\left(\\begin{array}{cccc}\n",
    "1 & 1 &  0\\\\\n",
    "2 & 1 &  -1\\\\\n",
    "0 & 1 & 1\n",
    "\\end{array}\\right)\n",
    "$$\n",
    "\n",
    "skrivs som"
   ]
  },
  {
   "cell_type": "code",
   "execution_count": 10,
   "metadata": {},
   "outputs": [
    {
     "name": "stdout",
     "output_type": "stream",
     "text": [
      "M= [[ 1  1  0]\n",
      " [ 2  1 -1]\n",
      " [ 0  1  1]]\n"
     ]
    }
   ],
   "source": [
    "import numpy as np\n",
    "M=np.array([[1, 1, 0], [2, 1, -1], [0, 1, 1]])\n",
    "print(\"M=\", M)"
   ]
  },
  {
   "cell_type": "markdown",
   "metadata": {},
   "source": [
    "Matriser skrivs som `array([[rad1],[rad2],[rad3]])`. De yttre hakparenteserna omger hela matrisen. Observera att det ska tolkas som listor i listor som sedan omvandlas till en matris med hjälp av array(). Från andra tankegångar i linjär algebra skulle man kanske önska sig att kolonner skrevs i uttrycket eftersom litteraturen ofta tänker kolonner som vektorer, men så är det inte.\n",
    "\n",
    "\n",
    "\n",
    "\n",
    "Skilj på vektor, radmatris och kolonnmatris. Vi använder kommandot `shape()` för att ta reda på antalet rader och kolonner."
   ]
  },
  {
   "cell_type": "code",
   "execution_count": 11,
   "metadata": {},
   "outputs": [
    {
     "name": "stdout",
     "output_type": "stream",
     "text": [
      "vektor (4,)\n",
      "radmatris (1, 4)\n",
      "kolonnmatris (4, 1)\n"
     ]
    }
   ],
   "source": [
    "import numpy as np\n",
    "\n",
    "# Vektor\n",
    "v = np.array([3, 3, 2, 5]) # en nivå med hakparenteser\n",
    "print(\"vektor\", np.shape(v))\n",
    "# Radmatris\n",
    "rm = np.array([[4, 1, 0, 2]]) # två nivåer med hakparenteser\n",
    "print(\"radmatris\", np.shape(rm)) #antalet rader och kolonner\n",
    "\n",
    "# Kolonnmatris\n",
    "km = np.array([[5], [5], [2], [1]]) # två nivåer med hakparenteser\n",
    "print(\"kolonnmatris\", np.shape(km))"
   ]
  },
  {
   "cell_type": "markdown",
   "metadata": {},
   "source": [
    "Observera att för att skapa kolonnmatrisen går det lika bra att börja med en radmatris och använda `.reshape()`:"
   ]
  },
  {
   "cell_type": "code",
   "execution_count": 12,
   "metadata": {},
   "outputs": [
    {
     "name": "stdout",
     "output_type": "stream",
     "text": [
      "[[5]\n",
      " [5]\n",
      " [2]\n",
      " [1]]\n",
      "(4, 1)\n"
     ]
    }
   ],
   "source": [
    "import numpy as np\n",
    "\n",
    "km = np.array([5, 5, 2, 1]).reshape(4, 1)\n",
    "print(km)\n",
    "print(np.shape(km))"
   ]
  },
  {
   "cell_type": "markdown",
   "metadata": {},
   "source": [
    "'Ettan' för matriser har ettor på diagonalen och nollor på övriga platser och erhålls genom `A.identity(n)`.\n",
    "array adresseras med index på samma sätt som listor i listor."
   ]
  },
  {
   "cell_type": "code",
   "execution_count": 13,
   "metadata": {},
   "outputs": [
    {
     "name": "stdout",
     "output_type": "stream",
     "text": [
      "[[1. 0. 0. 0. 0.]\n",
      " [0. 1. 0. 0. 0.]\n",
      " [0. 0. 1. 0. 0.]\n",
      " [0. 0. 0. 1. 0.]\n",
      " [0. 0. 0. 0. 1.]] \n",
      "\n",
      "1 -1\n",
      "[0 1 0]\n",
      "[[ 0  1  0]\n",
      " [-1  2 -1]]\n"
     ]
    }
   ],
   "source": [
    "import numpy as np\n",
    "\n",
    "A = np.identity(5)\n",
    "print(A,\"\\n\")\n",
    "\n",
    "B = np.array([[1, 2, 3], [0, 1, 0], [-1, 2, -1]])\n",
    "print(B[1][1], B[2][0])\n",
    "print(B[1])\n",
    "print(B[1:])"
   ]
  },
  {
   "cell_type": "markdown",
   "metadata": {},
   "source": [
    "### Intro till linjär algebra användning\n",
    "\n",
    "Vi tar upp några begrepp från linjär algebra.\n",
    "\n",
    "#### Matrismultiplikation\n",
    "Börjar med `dot(M,N)` som är matrismultiplikation mellan matriserna `M` och`N` (inte elementvis multiplikation, det fås genom M*N).\n",
    "\n",
    "Vi utför\n",
    "$$\n",
    "MN=\n",
    "\\left(\\begin{array}{cccc}\n",
    "1 & 1 \\\\\n",
    "2 & 1 \\\\\n",
    "\\end{array}\\right)\n",
    "\\left( \\begin{array}{ccc}\n",
    "1 & 1\\\\\n",
    "0 & -1\\\\\n",
    "\\end{array}\\right)\n",
    "$$"
   ]
  },
  {
   "cell_type": "code",
   "execution_count": 14,
   "metadata": {},
   "outputs": [
    {
     "name": "stdout",
     "output_type": "stream",
     "text": [
      "[[1 0]\n",
      " [2 1]]\n"
     ]
    }
   ],
   "source": [
    "import numpy as np\n",
    "\n",
    "M = np.array([[1, 1], [2, 1]])\n",
    "N = np.array([[1, 1], [0, -1]])\n",
    "D = np.dot(M,N)\n",
    "print(D)"
   ]
  },
  {
   "cell_type": "markdown",
   "metadata": {},
   "source": [
    "Symbolen `@` kan också användas."
   ]
  },
  {
   "cell_type": "code",
   "execution_count": 15,
   "metadata": {},
   "outputs": [
    {
     "name": "stdout",
     "output_type": "stream",
     "text": [
      "[[1 0]\n",
      " [2 1]]\n"
     ]
    }
   ],
   "source": [
    "import numpy as np\n",
    "\n",
    "E = M@N\n",
    "print(E)"
   ]
  },
  {
   "cell_type": "markdown",
   "metadata": {},
   "source": [
    "#### Transponat\n",
    "\n",
    "Transponatet är en metod"
   ]
  },
  {
   "cell_type": "code",
   "execution_count": 16,
   "metadata": {},
   "outputs": [
    {
     "name": "stdout",
     "output_type": "stream",
     "text": [
      "B= [[1 2]\n",
      " [1 1]] \n",
      "\n",
      " M= [[1 1]\n",
      " [2 1]]\n"
     ]
    }
   ],
   "source": [
    "import numpy as np\n",
    "\n",
    "M = np.array([[1, 1], [2, 1]])\n",
    "B = M.T\n",
    "print(\"B=\",B,\"\\n\\n\",\"M=\",M)"
   ]
  },
  {
   "cell_type": "markdown",
   "metadata": {},
   "source": [
    "#### Storlek i rader och kolonner\n",
    "\n",
    "Likaså är storleken en metod enligt tidigare"
   ]
  },
  {
   "cell_type": "code",
   "execution_count": 17,
   "metadata": {},
   "outputs": [
    {
     "name": "stdout",
     "output_type": "stream",
     "text": [
      "(3, 2)\n",
      "3\n"
     ]
    }
   ],
   "source": [
    "import numpy as np\n",
    "\n",
    "M = np.array([[1, 1], [2, 1], [3, 3]])\n",
    "s = M.shape\n",
    "print(s)\n",
    "print(s[0])"
   ]
  },
  {
   "cell_type": "markdown",
   "metadata": {},
   "source": [
    "#### Determinant\n",
    "\n",
    "Determinanten i numpy erhålls från"
   ]
  },
  {
   "cell_type": "code",
   "execution_count": 18,
   "metadata": {},
   "outputs": [
    {
     "name": "stdout",
     "output_type": "stream",
     "text": [
      "-1.0\n"
     ]
    }
   ],
   "source": [
    "import numpy as np\n",
    "\n",
    "M = np.array([[1, 1], [2, 1]])\n",
    "dtr = np.linalg.det(M)\n",
    "print(dtr)"
   ]
  },
  {
   "cell_type": "markdown",
   "metadata": {},
   "source": [
    "#### Invers\n",
    "\n",
    "Beräkning av invers."
   ]
  },
  {
   "cell_type": "code",
   "execution_count": 19,
   "metadata": {},
   "outputs": [
    {
     "name": "stdout",
     "output_type": "stream",
     "text": [
      "Matrisen är\n",
      " [[1 1]\n",
      " [2 1]]\n",
      "Inversen är\n",
      " [[-1.  1.]\n",
      " [ 2. -1.]]\n",
      "Matrisen gånger inversen är enhetsmatrisen\n",
      " [[1. 0.]\n",
      " [0. 1.]]\n"
     ]
    }
   ],
   "source": [
    "import numpy as np\n",
    "\n",
    "M = np.array([[1, 1], [2, 1]])\n",
    "print(\"Matrisen är\\n\", M)\n",
    "Minv = np.linalg.inv(M)\n",
    "print(\"Inversen är\\n\", Minv)\n",
    "C = np.dot(M,Minv)\n",
    "print(\"Matrisen gånger inversen är enhetsmatrisen\\n\",C)\n"
   ]
  },
  {
   "cell_type": "markdown",
   "metadata": {},
   "source": [
    "#### Skalärprodukt med vektorer\n",
    "\n",
    "`dot(M,N)` hanterar även vektorer så den kan användas för att beräkna skalärprodukter. Vi beräknar skalärprodukten mellan $\\overline u=(1,3,5)$ och $\\overline v=(2,0,-1)$ med hjälp av matrismultiplikation som\n",
    "\n",
    "$$ \\left(\\begin{array}{ccc}\n",
    "1 & 3 & 5\\end{array}\\right)\\left(\\begin{array}{c}\n",
    "2\\\\\n",
    "0\\\\\n",
    "-1\n",
    "\\end{array}\\right)\n",
    "$$\n",
    "\n",
    "Vi låter numpy göra skalärprodukten:"
   ]
  },
  {
   "cell_type": "code",
   "execution_count": 20,
   "metadata": {},
   "outputs": [
    {
     "name": "stdout",
     "output_type": "stream",
     "text": [
      "[-3]\n"
     ]
    }
   ],
   "source": [
    "import numpy as np\n",
    "\n",
    "u = np.array([1, 3, 5])\n",
    "v = np.array([2, 0, -1]).reshape(3,1)  # Praktiskt med reshape\n",
    "C=np.dot(u,v)\n",
    "print(C)\n"
   ]
  },
  {
   "cell_type": "markdown",
   "metadata": {},
   "source": [
    "#### Norm\n",
    "Längden av en vektor beräknas med `.norm`. I läroböcker svarar det mot beloppstecknet $\\left|\\overline u\\right|$ eller tecknet för norm $\\left\\Vert \\overline u \\right\\Vert $. (förinställt på $L_2$ normen)"
   ]
  },
  {
   "cell_type": "code",
   "execution_count": 21,
   "metadata": {},
   "outputs": [
    {
     "name": "stdout",
     "output_type": "stream",
     "text": [
      "5.916079783099616\n",
      "2.23606797749979\n"
     ]
    }
   ],
   "source": [
    "import numpy as np\n",
    "\n",
    "u = np.array([1, 3, 5])\n",
    "v = np.array([2, 0, -1]).reshape(3,1)\n",
    "\n",
    "print(np.linalg.norm(u))\n",
    "print(np.linalg.norm(v))"
   ]
  },
  {
   "cell_type": "markdown",
   "metadata": {},
   "source": [
    "Vi kan nu beräkna vinkeln mellan vektorerna ur definitionen av skalärprodukt. Vi använder ett ortonormerat system.\n",
    "$$\n",
    "\\overline{u}\\bullet\\overline{v}=\\left\\{ \\begin{array}{c}\n",
    "\\left|\\overline{u}\\right|\\left|\\overline{v}\\right|\\cos\\left[\\overline{u},\\overline{v}\\right]\\,\\,\\textrm{om }\\overline{u}\\neq\\overline{0},\\textrm{ och }\\overline{v}\\neq\\overline{0}\\\\\n",
    "0\\,\\,\\textrm{om }\\overline{u}=\\overline{0}\\,\\textrm{eller }\\overline{v}=\\overline{0}\n",
    "\\end{array}\\right.\n",
    "$$\n",
    "\n",
    "som ger oss formeln för vinkeln \n",
    "\n",
    "$$\n",
    "\\left[\\overline{u},\\overline{v}\\right]=\\cos^{-1}\\left(\\frac{\\overline{u}\\bullet\\overline{v}}{\\left|\\overline{u}\\right|\\left|\\overline{v}\\right|}\\right)\n",
    "$$"
   ]
  },
  {
   "cell_type": "code",
   "execution_count": 22,
   "metadata": {},
   "outputs": [
    {
     "name": "stdout",
     "output_type": "stream",
     "text": [
      "[103.10749324]\n"
     ]
    }
   ],
   "source": [
    "import numpy as np\n",
    "\n",
    "u = np.array([1, 3, 5])\n",
    "v = np.array([2, 0, -1]).reshape(3,1)\n",
    "\n",
    "# Kvoten ges av\n",
    "a = np.dot(u,v)/(np.linalg.norm(u)*np.linalg.norm(v))\n",
    "\n",
    "# Vinkeln ges av\n",
    "vinkelrad = np.arccos(a)  # Ger värden i [0, pi]\n",
    "\n",
    "# Förinställt är radianer, vi omvandlar till grader\n",
    "vinkeldeg = vinkelrad/np.pi*180.\n",
    "print(vinkeldeg)"
   ]
  },
  {
   "cell_type": "markdown",
   "metadata": {},
   "source": [
    "Den ovan beräknade vinkeln är inte minsta vinkeln mellan två räta linjer i 3D med vektorerna som riktningsvektorer. Vilken vinkel som är intressant får du själv hålla reda på."
   ]
  },
  {
   "cell_type": "markdown",
   "metadata": {},
   "source": [
    "#### Projektionsformeln\n",
    "\n",
    "$$\n",
    "\\overline{u}_{\\overline{v}}=\\frac{\\overline{u}\\bullet\\overline{v}}{\\left|\\overline{v}\\right|^{2}}\\overline{v}.\n",
    "$$"
   ]
  },
  {
   "cell_type": "code",
   "execution_count": 23,
   "metadata": {},
   "outputs": [
    {
     "name": "stdout",
     "output_type": "stream",
     "text": [
      "[[-1.2]\n",
      " [-0. ]\n",
      " [ 0.6]]\n"
     ]
    }
   ],
   "source": [
    "import numpy as np\n",
    "\n",
    "u = np.array([1, 3, 5])\n",
    "v = np.array([2, 0, -1]).reshape(3,1)\n",
    "\n",
    "# Enligt projektionsformeln\n",
    "u_on_v = np.dot(u,v)/(np.linalg.norm(v)*np.linalg.norm(v))*v\n",
    "\n",
    "print(u_on_v)"
   ]
  },
  {
   "cell_type": "markdown",
   "metadata": {},
   "source": [
    "#### Plan\n",
    "\n",
    "Vi bestämmer ett plan som är parallellt med de två vektorerna $\\overline u=(1,3,5)$, $\\overline v=(-1,1,0)$ och går igenom punkten $P: (3,3,4)$\n",
    "\n",
    "Vektorprodukten benämns $\\overline w$. Planet $ax+by+cz+d=0$ har koefficienterna $a=w[0]$, $b=w[1]$ och $c=w[2]$. Vi bestämmer $d=-(ax+by+cz)$ där $x$, $y$ och $z$ är från punkten $P$."
   ]
  },
  {
   "cell_type": "code",
   "execution_count": 24,
   "metadata": {},
   "outputs": [
    {
     "name": "stdout",
     "output_type": "stream",
     "text": [
      "a b c [-5 -5  4]\n",
      "d 14\n"
     ]
    }
   ],
   "source": [
    "import numpy as np\n",
    "\n",
    "# Punkten P ligger i planet\n",
    "P = [3, 3, 4]\n",
    "# Riktningsvektorer för planet\n",
    "u = np.array([1, 3, 5])\n",
    "v = np.array([-1, 1, 0])\n",
    "\n",
    "# Vektorprodukten till riktningsvektorerna är en normal till planet\n",
    "w = np.cross(u,v)\n",
    "\n",
    "print(\"a b c\", w)\n",
    "d = -(w[0]*P[0] + w[1]*P[1] + w[2]*P[2])\n",
    "print(\"d\", d)\n"
   ]
  },
  {
   "cell_type": "markdown",
   "metadata": {},
   "source": [
    "#### Vi löser ett ekvationssystem\n",
    "\n",
    "Ekvationssystemet\n",
    "\n",
    "$$\n",
    "\\left\\{ \\begin{array}{rcrcrcr}\n",
    "2x_{1} & + & x_{2} & - & x_{3} & = & 2\\\\\n",
    "x_{1} & - & 2x_{2} & + & 3x_{3} & = & 4\\\\\n",
    "2x_{1} & + & x_{2} & - & 4x_{3} & = & 1\n",
    "\\end{array}\\right.\n",
    "$$\n",
    "\n",
    "Kan skrivas med matriser\n",
    "$$\n",
    "A=\\left(\\begin{array}{rrr}\n",
    "2 & 1 & -1\\\\\n",
    "1 & -2 & 3\\\\\n",
    "2 & 1 & -4\n",
    "\\end{array}\\right)\n",
    "$$\n",
    "\n",
    "$$\n",
    "X=\\left(\\begin{array}{c}\n",
    "x_{1}\\\\\n",
    "x_{2}\\\\\n",
    "x_{3}\n",
    "\\end{array}\\right)\n",
    "$$\n",
    "\n",
    "och\n",
    "$$\n",
    "b=\\left(\\begin{array}{c}\n",
    "2\\\\\n",
    "4\\\\\n",
    "1\n",
    "\\end{array}\\right)\n",
    "$$\n",
    "\n",
    "explicit som\n",
    "\n",
    "$$\n",
    "\\left(\\begin{array}{rrr}\n",
    "2 & 1 & -1\\\\\n",
    "1 & -2 & 3\\\\\n",
    "2 & 1 & -4\n",
    "\\end{array}\\right)\\left(\\begin{array}{c}\n",
    "x_{1}\\\\\n",
    "x_{2}\\\\\n",
    "x_{3}\n",
    "\\end{array}\\right)=\\left(\\begin{array}{c}\n",
    "2\\\\\n",
    "4\\\\\n",
    "1\n",
    "\\end{array}\\right).\n",
    "$$\n",
    "\n",
    "\n",
    "Systemet $ AX=b $ löses formellt som $A^{-1} AX=A^{-1}b$ som är $X=A^{-1}b$.\n",
    "\n",
    "Vi ska således beräkna inversen och multiplicera med högerledet."
   ]
  },
  {
   "cell_type": "code",
   "execution_count": 25,
   "metadata": {},
   "outputs": [
    {
     "name": "stdout",
     "output_type": "stream",
     "text": [
      "Lösningarna är \n",
      " [[ 1.53333333]\n",
      " [-0.73333333]\n",
      " [ 0.33333333]]\n"
     ]
    }
   ],
   "source": [
    "import numpy as np\n",
    "\n",
    "# Koefficientmatrisen för ekvationssystemet\n",
    "A = np.array([[2, 1, -1], [1, -2, 3], [2, 1, -4]])\n",
    "\n",
    "# Högerledet i ekvationssystemet\n",
    "b = np.array([2, 4, 1]).reshape(3,1)\n",
    "\n",
    "# Inversen\n",
    "Ainv = np.linalg.inv(A)\n",
    "\n",
    "# De obekanta\n",
    "X = Ainv@b\n",
    "\n",
    "print(\"Lösningarna är \\n\", X)"
   ]
  },
  {
   "cell_type": "markdown",
   "metadata": {},
   "source": [
    "#### solve()\n",
    "\n",
    "Python har en färdig rutin för att lösa ekvationssystem. Vi använder samma data som föregående samt kommandot `solve(A,b)` ."
   ]
  },
  {
   "cell_type": "code",
   "execution_count": 26,
   "metadata": {},
   "outputs": [
    {
     "name": "stdout",
     "output_type": "stream",
     "text": [
      "[[ 1.53333333]\n",
      " [-0.73333333]\n",
      " [ 0.33333333]]\n"
     ]
    }
   ],
   "source": [
    "import numpy as np\n",
    "\n",
    "A = np.array([[2, 1, -1], [1, -2, 3], [2, 1, -4]])\n",
    "b = np.array([2, 4, 1]).reshape(3,1)\n",
    "x = np.linalg.solve(A,b)\n",
    "print(x)"
   ]
  },
  {
   "cell_type": "markdown",
   "metadata": {},
   "source": [
    "Med symbolic python har vi ett trevligt redskap.\n",
    "\n",
    "Vi kan lösa systemet nedan, som har determinanten 0, och erhålla en parameterlösning:\n",
    "\n",
    "$$\n",
    "\\left\\{ \\begin{array}{rcrcrcrcr}\n",
    "x_{1} &  &  &  &  & - & x_{4} & = & 900\\\\\n",
    "x_{1} & - & x_{2} &  &  &  &  & = & 1100\\\\\n",
    " & - & x_{2} & + & x_{3} &  &  & = & 700\\\\\n",
    " &  &  &  & x_{3} & - & x_{4} & = & 500\n",
    "\\end{array}\\right.\n",
    "$$\n",
    "\n",
    "Vilket vi ber sympy lösa."
   ]
  },
  {
   "cell_type": "code",
   "execution_count": 27,
   "metadata": {},
   "outputs": [
    {
     "data": {
      "text/latex": [
       "$\\displaystyle \\left\\{\\left( x_{4} + 900, \\  x_{4} - 200, \\  x_{4} + 500, \\  x_{4}\\right)\\right\\}$"
      ],
      "text/plain": [
       "{(x4 + 900, x4 - 200, x4 + 500, x4)}"
      ]
     },
     "execution_count": 27,
     "metadata": {},
     "output_type": "execute_result"
    }
   ],
   "source": [
    "import sympy as sp\n",
    "\n",
    "x1, x2, x3, x4 = sp.symbols('x1 x2 x3 x4') #definierar vad som är symboler\n",
    "\n",
    "# Kraftfullt kommando från symbolic python modulen\n",
    "# klarar av att ange parameterlösningar\n",
    "\n",
    "sp.linsolve([x1-x4-900, x1-x2-1100, -x2+x3-700, x3-x4-500], (x1, x2, x3, x4))"
   ]
  },
  {
   "cell_type": "markdown",
   "metadata": {},
   "source": [
    "Vi ser att $x_4$ används som parameter. Lösningarna är $t=x_4$, $x_3=t+500$, $x_2=t-200$, $x_1=t+900$.\n",
    "\n",
    "\n",
    "\n",
    "Finns mer om hur inmatningen kan ske på https://docs.sympy.org/latest/tutorial/solvers.html\n"
   ]
  },
  {
   "cell_type": "code",
   "execution_count": null,
   "metadata": {},
   "outputs": [],
   "source": []
  },
  {
   "cell_type": "markdown",
   "metadata": {},
   "source": [
    "#### Blockmatriser (stacking)\n",
    "\n",
    "Vektorer och matriser kan sättas ihop (staplas).\n",
    "De kan läggas ovanpå varandra, 'vertical', eller sidan om varandra, 'horisontal'."
   ]
  },
  {
   "cell_type": "code",
   "execution_count": 28,
   "metadata": {},
   "outputs": [
    {
     "name": "stdout",
     "output_type": "stream",
     "text": [
      "[[1 2 3]\n",
      " [2 3 4]] \n",
      "\n",
      " [1 2 3 2 3 4]\n"
     ]
    }
   ],
   "source": [
    "import numpy as np\n",
    "\n",
    "a = np.array([1, 2, 3])\n",
    "b = np.array([2, 3, 4])\n",
    "\n",
    "c = np.vstack((a,b)) #staplas vertikalt\n",
    "d = np.hstack((a,b)) #staplas horisontellt\n",
    "\n",
    "print(c,\"\\n\\n\",d)"
   ]
  },
  {
   "cell_type": "markdown",
   "metadata": {},
   "source": [
    "Observera att a, första argumentet i kommandona med `stack()` hamnar överst respektive längst till vänster.\n",
    "\n",
    "\n",
    "\n",
    "Ett exempel till"
   ]
  },
  {
   "cell_type": "code",
   "execution_count": 29,
   "metadata": {},
   "outputs": [
    {
     "name": "stdout",
     "output_type": "stream",
     "text": [
      "[[1]\n",
      " [2]\n",
      " [3]\n",
      " [2]\n",
      " [3]\n",
      " [4]] \n",
      "\n",
      " [[1 2]\n",
      " [2 3]\n",
      " [3 4]]\n"
     ]
    }
   ],
   "source": [
    "import numpy as np\n",
    "\n",
    "a = np.array([1, 2, 3]).reshape(3,1) #kolonnmatris\n",
    "b = np.array([2, 3, 4]).reshape(3,1) #kolonnmatris\n",
    "\n",
    "c = np.vstack((a,b))\n",
    "d = np.hstack((a,b)) # Vektorerna a och b placeras som kolonner!\n",
    "print(c,\"\\n\\n\",d)"
   ]
  },
  {
   "cell_type": "markdown",
   "metadata": {},
   "source": [
    "Observera att i föregående motsvarar d att lägga vektorerna i kolonner i en matris."
   ]
  },
  {
   "cell_type": "markdown",
   "metadata": {},
   "source": [
    "#### "
   ]
  },
  {
   "cell_type": "markdown",
   "metadata": {},
   "source": [
    "### Uppgift 1\n",
    "\n",
    "a) Lös ekvationen $A^3X=b$ där\n",
    "\n",
    "$$A=\\left(\\begin{array}{rrr}\n",
    "2 & 1 & 0\\\\\n",
    "0 & -1 & 2\\\\\n",
    "3 & 1 & 2\n",
    "\\end{array}\\right)$$\n",
    "\n",
    "och $b^T=(\\begin{array}{ccc}\n",
    "2 & 4 & 1)\\end{array}$\n",
    "\n",
    "genom att beräkna $A^{-1}$ och multiplicera med den 3 gånger.\n",
    "\n",
    "b) Beräkna $A^3$ och därefter inversen till denna, och multiplicera med den en gång.\n",
    "\n",
    "[Lösningsförslag](./uppg/array1Uppgift1.ipynb)\n",
    "\n",
    "\n",
    "\n",
    "### Uppgift 2\n",
    "\n",
    "En matris $A$ uppfyller $A^3+4A^2+5A+2I=0$. Matrisen är\n",
    "\n",
    "$$A=\\left(\\begin{array}{rrr}\n",
    "-1 & 4 & -4\\\\\n",
    "1 & -3 & 1\\\\\n",
    "1 & -2 & 0\n",
    "\\end{array}\\right)$$\n",
    "\n",
    "a) Visa att $A$ är en lösning till polynom-ekvationen genom direkt insättning; beräkning i python.\n",
    "\n",
    "b) Multiplicera ekvationen med $A^{-1}$ och lös ut $A^{-1}$ ur polynomet; beräkna $A^{-1}$ med hjälp av polynomet i $A$. Utgå från att $A^{-1}$ existerar.\n",
    "\n",
    "[Lösningsförslag](./uppg/array1Uppgift2.ipynb)\n",
    "\n",
    "\n",
    "### Uppgift 3\n",
    "\n",
    "(Efter boken Visual Linear Algebra av Eugene A. Herman och Michael D. Pepe.) En spelare har 60% chans att vinna och 40% chans att förlora. Spelaren startar med någon av följande tillgångar 0, 1, 2, 3, 4, 5 eller 6 enheter (dollar, yen, kronor...).\n",
    "Spelaren slutar då den har fått 6 enheter eller har 0 enheter. Matrisen som beskriver ändringen av tillståndet efter ett spel ges av\n",
    "\n",
    "$$P=\n",
    "\\left(\\begin{array}{rrrrrrr}\n",
    "1 & 0,4 & 0 & 0 & 0 & 0 & 0\\\\\n",
    "0 & 0 & 0,4 & 0 & 0 & 0 & 0\\\\\n",
    "0 & 0,6 & 0 & 0,4 & 0 & 0 & 0\\\\\n",
    "0 & 0 & 0,6 & 0 & 0,4 & 0 & 0\\\\\n",
    "0 & 0 & 0 & 0,6 & 0 & 0,4 & 0\\\\\n",
    "0 & 0 & 0 & 0 & 0,6 & 0 & 0\\\\\n",
    "0 & 0 & 0 & 0 & 0 & 0,6 & 1\n",
    "\\end{array}\\right)\n",
    "$$\n",
    "\n",
    "\n",
    "Startvektorn om spelaren har 2 enheter ges av $v_0^T=\\left(\\begin{array}{ccccccc}\n",
    "0 & 0 & 1 & 0 & 0 & 0 & 0\\end{array}\\right)$\n",
    "\n",
    "Efter första spelomgången ges spel-tillståndet av $v_1=Pv_0$; efter $k$ omgångar $v_k=P^kv_0$\n",
    "\n",
    "a) Antag att spelaren börjar med 2 enheter. Hur ser sannolikhetsfördelningen ut efter 3 spel?\n",
    "\n",
    "b) Vad är sannolikheten för att spelaren ska förlora (äger 0 enheter) eller vinner (äger 6 enheter).\n",
    "\n",
    "c) Hur förändras sannolikheten i det långa loppet om spelaren startar med 3 enheter i stället för 2?\n",
    "\n",
    "d)Vad innebär $P^k$ och verkar det finnas ett gränsvärde då $k$ ökar?\n",
    "\n",
    "[Lösningsförslag](./uppg/array1Uppgift3.ipynb)\n"
   ]
  }
 ],
 "metadata": {
  "kernelspec": {
   "display_name": "Python 3 (ipykernel)",
   "language": "python",
   "name": "python3"
  },
  "language_info": {
   "codemirror_mode": {
    "name": "ipython",
    "version": 3
   },
   "file_extension": ".py",
   "mimetype": "text/x-python",
   "name": "python",
   "nbconvert_exporter": "python",
   "pygments_lexer": "ipython3",
   "version": "3.9.7"
  },
  "toc-autonumbering": false,
  "toc-showtags": false
 },
 "nbformat": 4,
 "nbformat_minor": 4
}
