{
 "cells": [
  {
   "cell_type": "markdown",
   "metadata": {},
   "source": [
    "Derivata definieras med hjälp av en differenskvot. I regel används\n",
    "$$ \\frac{f\\left(x+h\\right)-f\\left(x\\right)}{\\left(x+h\\right)-x}= \\frac{f\\left(x+h\\right)-f\\left(x\\right)}{h}$$\n",
    "\n",
    "för en diskussion kring gränsvärde, men det kräver reella tal. Vad händer om man använder den för diskreta data, tex. mätresultat? \n",
    "\n",
    "Vid programmering, tex. när vi ritar grafer så finns inga kontinuerliga funktioner utan det finns värdetabeller med diskreta data tex. skapade med kommandon som `linspace()`.\n",
    "\n",
    "Att beräkna 'derivata' från diskreta data kan ge oväntade problem. En analys av så kallad felfortplantning visar att differenskvoter är känsliga; små variationer i värden kan ge stora förändringar i kvoten. I fysiken där läge mäts som funktion av tid ges hastighet som ändring i läge dividerat med ändring i tid, en differenskvot. När man sedan skall beräkna acceleration så är det ändring i hastighet dividerat med ändring i tid, ytterligare en differenskvot. Efter två differens-kvoter ser data inte så bra ut längre.\n",
    "\n",
    "Men det finns olika sätt att förbättra situationen. Ett är att använda andra differenskvoter som ger derivatan (som gränsvärde), men som inte är så känsliga för störningar i datamängden."
   ]
  },
  {
   "cell_type": "markdown",
   "metadata": {},
   "source": [
    "Differenskvoten ovan kallas Newtons differenskvot. En, i numeriska sammanhang, bättre differenskvot är den symmetriska differenskvoten som använder en punkt före och en efter den punkt som vi beräknar kvoten för\n",
    "\n",
    "$$\\frac{f\\left(x+h\\right)-f\\left(x-h\\right)}{\\left(x+h\\right)-\\left(x-h\\right)}=\\frac{f\\left(x+h\\right)-f\\left(x-h\\right)}{2h}$$\n",
    "\n",
    "\n",
    "\n",
    "För att studera fenomenet behöver vi generera data som ser ut som om de var hämtade från experiment. Detta kan göras genom att generera dem från en funktion och därefter addera slumptal. Ska man inte ha så mycket data kan man beräkna tex. sinusvärden och sedan ändra dem lite upp och lite ner för hand i en lista.\n",
    "\n"
   ]
  },
  {
   "cell_type": "markdown",
   "metadata": {},
   "source": [
    "Konstruera en rät linje som vanligt, utan brus.\n",
    "Beräknar 'derivatan' av den mha både Newtons kvot och den symmetriska kvoten, och plotta graferna."
   ]
  },
  {
   "cell_type": "markdown",
   "metadata": {},
   "source": [
    "Nedan följer några rader kod för att konstruera en rät linje med brus."
   ]
  },
  {
   "cell_type": "code",
   "execution_count": 3,
   "metadata": {},
   "outputs": [
    {
     "data": {
      "image/png": "[encoded data removed]",
      "text/plain": [
       "<Figure size 432x288 with 1 Axes>"
      ]
     },
     "metadata": {
      "needs_background": "light"
     },
     "output_type": "display_data"
    }
   ],
   "source": [
    "import matplotlib.pyplot as plt\n",
    "import random as r\n",
    "import numpy as np\n",
    "\n",
    "x=np.linspace(-20,20,10)\n",
    "#Vi måste arbeta med listor\n",
    "x=list(x)\n",
    "noise=[]\n",
    "y=[]\n",
    "for i in range(0,10):\n",
    "    noise.append(r.random()-0.5)\n",
    "for i in range(0,10):\n",
    "    y.append(2*x[i]+5+15*noise[i])\n",
    "    \n",
    "    \n",
    "plt.plot(x,y,'o')\n",
    "plt.show()"
   ]
  },
  {
   "cell_type": "markdown",
   "metadata": {},
   "source": [
    "Använd nu den genererade datamängden (rät linje med brus) och 'derivera' den med Newtons differenskvot respektive den symmetriska differenskvoten.\n",
    "\n",
    "[Lösningsförslag](./uppg/derivative1uppg1.ipynb)\n"
   ]
  },
  {
   "cell_type": "code",
   "execution_count": null,
   "metadata": {},
   "outputs": [],
   "source": []
  }
 ],
 "metadata": {
  "kernelspec": {
   "display_name": "Python 3",
   "language": "python",
   "name": "python3"
  },
  "language_info": {
   "codemirror_mode": {
    "name": "ipython",
    "version": 3
   },
   "file_extension": ".py",
   "mimetype": "text/x-python",
   "name": "python",
   "nbconvert_exporter": "python",
   "pygments_lexer": "ipython3",
   "version": "3.8.3"
  }
 },
 "nbformat": 4,
 "nbformat_minor": 4
}
