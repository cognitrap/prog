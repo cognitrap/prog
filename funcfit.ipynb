{
 "cells": [
  {
   "cell_type": "markdown",
   "id": "df78e348-f907-46a3-a53c-d54e080dd1b2",
   "metadata": {},
   "source": [
    "### Anpassning av kurva i allmänhet\n",
    "\n",
    "Scientific python kan anpassa en godtycklig kurva med givna parametrar till data.\n",
    "\n",
    "Kommandot som gör detta heter `curve_fit()` och finns i scipy.optimize.\n",
    "\n",
    "Kommandet har formen `curve_fit(funktionsnamn, xdata, ydata)`\n",
    "Det finns fler argument men de behövs inte nu.\n",
    "\n",
    "I exemplet nedan genererar vi data från en sinusfunktion och adderar lite normalfördelat brus till y-värdena. Sedan använder vi curve_fit för anpassningen. Sist plottar vi data och den framräknade anpassade kurvan."
   ]
  },
  {
   "cell_type": "code",
   "execution_count": 19,
   "id": "a95ab5ff-9bc0-4cd3-b172-1a6f917031c2",
   "metadata": {},
   "outputs": [
    {
     "name": "stdout",
     "output_type": "stream",
     "text": [
      "Koefficienter för sinus-funktionen:\n",
      "[3.44679175 1.32968558]\n"
     ]
    },
    {
     "data": {
      "image/png": "[encoded data removed]",
      "text/plain": [
       "<Figure size 432x288 with 1 Axes>"
      ]
     },
     "metadata": {
      "needs_background": "light"
     },
     "output_type": "display_data"
    }
   ],
   "source": [
    "import numpy as np\n",
    "from matplotlib import pyplot as plt\n",
    "\n",
    "# curve-fit() från scipy\n",
    "from scipy.optimize import curve_fit\n",
    "\n",
    "# 40 x-värden from 0 tom 10\n",
    "x = np.linspace(0, 10, num = 40)\n",
    "\n",
    "# Data att arbeta med. En sinuskurva med brus från normalfördelning\n",
    "y = 3.45 * np.sin(1.334 * x) + np.random.normal(size = 40)\n",
    "\n",
    "# Vi anger själv den exakta formen på den funktion som ska anpassas\n",
    "# Måste ange variabel(x-värden) först och parametrar därefter\n",
    "def test(x, a, b):\n",
    "\treturn a * np.sin(b * x)\n",
    "\n",
    "\n",
    "# curve-fit() tar som argument: funktionen, x-data och y-data\n",
    "# ut får vi parametrar i en lista (param namnger vi den till)\n",
    "# och kovarianser i en annan lista (som får heta param_cov)\n",
    "param, param_cov = curve_fit(test, x, y)\n",
    "\n",
    "# Vi skriver ut resultatet\n",
    "print(\"Koefficienter för sinus-funktionen:\")\n",
    "print(param)\n",
    "# print(\"Kovarians-matrisen för koefficienterna:\")\n",
    "# print(param_cov)\n",
    "\n",
    "# För att kunna rita vår anpassade funktion så skapar vi y-data (ans)\n",
    "ans = (param[0]*(np.sin(param[1]*x)))\n",
    "\n",
    "# Och så vill vi titta på det grafiskt\n",
    "plt.plot(x, y, '+', color ='red', label =\"data\")\n",
    "plt.plot(x, ans, '--', color ='blue', label =\"anpassad funktion\")\n",
    "plt.legend()\n",
    "plt.show()\n"
   ]
  },
  {
   "cell_type": "markdown",
   "id": "73e323ed-8010-4740-b9db-c6e748267735",
   "metadata": {},
   "source": [
    "## Uppgifter\n",
    "\n",
    "**Uppgift 1**\n",
    "\n",
    "Anpassa en Gauss-kurva till en statistisk fördelning.\n",
    "\n",
    "En normalfördelning eller Gauss-kurva beskrivs av\n",
    "\n",
    "$$G(x)=Ae^{-\\frac{\\left(x-\\mu\\right)^{2}}{2\\sigma^{2}}}$$\n",
    "\n",
    "Uttrycket har 3 parametrar: $A$ som anger maxvärdet; $\\sigma$ som är standardavvikelsen; $\\mu$ anger medelvärdet.\n",
    "\n",
    "Generera värden med formeln för Gauss-kurvan och adderar brus. Därefter anpassa en Gauss-kurva.\n",
    "\n",
    "\n",
    "<!--[Lösningsförslag](./uppg/funcfitUppgift1.ipynb)-->"
   ]
  },
  {
   "cell_type": "code",
   "execution_count": null,
   "id": "c7a715ba-01c5-4d02-94cf-719af7fed36e",
   "metadata": {},
   "outputs": [],
   "source": []
  }
 ],
 "metadata": {
  "kernelspec": {
   "display_name": "Python 3 (ipykernel)",
   "language": "python",
   "name": "python3"
  },
  "language_info": {
   "codemirror_mode": {
    "name": "ipython",
    "version": 3
   },
   "file_extension": ".py",
   "mimetype": "text/x-python",
   "name": "python",
   "nbconvert_exporter": "python",
   "pygments_lexer": "ipython3",
   "version": "3.8.12"
  }
 },
 "nbformat": 4,
 "nbformat_minor": 5
}
