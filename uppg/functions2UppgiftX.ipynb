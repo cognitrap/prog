{
 "cells": [
  {
   "cell_type": "markdown",
   "metadata": {},
   "source": [
    "Uppgift X\n",
    "\n",
    "\n",
    "Felmeddelande om du ger värden som går för långt är:\n",
    "\n",
    "RecursionError: maximum recursion depth exceeded in comparison\n",
    "\n",
    "tex. för A(4,2). Däremot går det bra med A(3,7), A(3,8) osv\n"
   ]
  },
  {
   "cell_type": "code",
   "execution_count": null,
   "metadata": {},
   "outputs": [],
   "source": []
  },
  {
   "cell_type": "code",
   "execution_count": 5,
   "metadata": {},
   "outputs": [
    {
     "name": "stdin",
     "output_type": "stream",
     "text": [
      "Ackerman för m=  3\n",
      "och n=  8\n"
     ]
    },
    {
     "name": "stdout",
     "output_type": "stream",
     "text": [
      "2045\n"
     ]
    }
   ],
   "source": [
    "\n",
    "\n",
    "def A(m,n):\n",
    "    if m==0: \n",
    "        return n+1\n",
    "    else:\n",
    "        if n==0:\n",
    "            return A(m-1,1)\n",
    "        else:\n",
    "            return A(m-1,A(m,n-1))\n",
    "\n",
    "        \n",
    "s=int(input(\"Ackerman för m= \"))\n",
    "t=int(input(\"och n= \"))\n",
    "print(A(s,t))\n",
    "        "
   ]
  },
  {
   "cell_type": "code",
   "execution_count": null,
   "metadata": {},
   "outputs": [],
   "source": []
  }
 ],
 "metadata": {
  "kernelspec": {
   "display_name": "Python 3",
   "language": "python",
   "name": "python3"
  },
  "language_info": {
   "codemirror_mode": {
    "name": "ipython",
    "version": 3
   },
   "file_extension": ".py",
   "mimetype": "text/x-python",
   "name": "python",
   "nbconvert_exporter": "python",
   "pygments_lexer": "ipython3",
   "version": "3.8.3"
  }
 },
 "nbformat": 4,
 "nbformat_minor": 4
}
