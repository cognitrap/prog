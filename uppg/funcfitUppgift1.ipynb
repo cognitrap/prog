{
 "cells": [
  {
   "cell_type": "code",
   "execution_count": 1,
   "id": "f04d5489-06ff-43c4-8f9d-3e4f57f39ab2",
   "metadata": {},
   "outputs": [
    {
     "name": "stdout",
     "output_type": "stream",
     "text": [
      "Koefficienter för gauss-funktionen:\n",
      "[4.96339626 2.97852279 1.73301456]\n"
     ]
    },
    {
     "data": {
      "image/png": "[encoded data removed]",
      "text/plain": [
       "<Figure size 432x288 with 1 Axes>"
      ]
     },
     "metadata": {
      "needs_background": "light"
     },
     "output_type": "display_data"
    }
   ],
   "source": [
    "import numpy as np\n",
    "from matplotlib import pyplot as plt\n",
    "\n",
    "# curve-fit() från scipy\n",
    "from scipy.optimize import curve_fit\n",
    "\n",
    "# 40 tal from -10 tom 10\n",
    "x = np.linspace(-10, 10, num = 40)\n",
    "\n",
    "# Data att arbeta med. En Gausskurva med brus från normalfördelning\n",
    "y = 5.0 * np.exp(-(x-3)**2/(2*1.7**2)) + 0.3*np.random.normal(size = 40)\n",
    "\n",
    "# Vi anger själv den exakta formen på den funktion som ska anpassas\n",
    "# Måste ange variabel först och parametrar därefter\n",
    "def gauss(x, A, mu, s):\n",
    "\treturn A * np.exp(-(x-mu)**2/(2*s**2))\n",
    "\n",
    "# curve_fit() function takes the test-function\n",
    "# x-data and y-data as argument and returns\n",
    "# the coefficients a and b in param and\n",
    "# the estimated covariance of param in param_cov\n",
    "\n",
    "# curve-fit() tar som argument: funktionen, x-data och y-data\n",
    "# ut får vi parametrar i en lista (param namnger vi den till)\n",
    "# och kovarianser i en annan lista (som får heta param_cov\n",
    "p, param_cov = curve_fit(gauss, x, y)\n",
    "\n",
    "# Vi skriver ut resultatet\n",
    "print(\"Koefficienter för gauss-funktionen:\")\n",
    "print(p)\n",
    "# print(\"Kovarians-matrisen för koefficienterna:\")\n",
    "# print(param_cov)\n",
    "\n",
    "# För att kunna rita vår anpassade funktion så skapar vi y-data (ans)\n",
    "ans = p[0]*np.exp(-(x-p[1])**2/(2*p[2]**2))\n",
    "\n",
    "# Och så vill vi titta på det grafiskt\n",
    "plt.plot(x, y, '+', color ='red', label =\"data\")\n",
    "plt.plot(x, ans, '--', color ='blue', label =\"anpassad funktion\")\n",
    "plt.legend()\n",
    "plt.show()\n"
   ]
  },
  {
   "cell_type": "code",
   "execution_count": null,
   "id": "b6135d12-ff18-4a16-b1e4-e62a25ef86c9",
   "metadata": {},
   "outputs": [],
   "source": []
  }
 ],
 "metadata": {
  "kernelspec": {
   "display_name": "Python 3 (ipykernel)",
   "language": "python",
   "name": "python3"
  },
  "language_info": {
   "codemirror_mode": {
    "name": "ipython",
    "version": 3
   },
   "file_extension": ".py",
   "mimetype": "text/x-python",
   "name": "python",
   "nbconvert_exporter": "python",
   "pygments_lexer": "ipython3",
   "version": "3.8.12"
  }
 },
 "nbformat": 4,
 "nbformat_minor": 5
}
