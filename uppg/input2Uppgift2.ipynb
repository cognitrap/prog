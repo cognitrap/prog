{
 "cells": [
  {
   "cell_type": "markdown",
   "id": "332bcfe1-93f3-47d8-b5de-c96cd207b03b",
   "metadata": {},
   "source": [
    "**Uppgift 2**\n",
    "\n",
    "\n",
    "Filen har data per månad 2021 1-12 och sedan följer 2022 1-4. Månaderna i 2022 har fått löpande nummer. Månad 1 i 2022 har x-värde 13 osv."
   ]
  },
  {
   "cell_type": "code",
   "execution_count": 16,
   "id": "9738810a-cc59-4893-b709-6de48ba41d2c",
   "metadata": {},
   "outputs": [
    {
     "data": {
      "image/png": "[encoded data removed]",
      "text/plain": [
       "<Figure size 432x288 with 1 Axes>"
      ]
     },
     "metadata": {
      "needs_background": "light"
     },
     "output_type": "display_data"
    }
   ],
   "source": [
    "import csv\n",
    "\n",
    "import matplotlib.pyplot as plt\n",
    "import numpy as np\n",
    "\n",
    "\n",
    "x=[]; y=[]\n",
    "\n",
    "# Filen på din dator har troligen en annan plats än den som används\n",
    "# i open-kommandot nedan.\n",
    "with open('./EN0108A3_20220618_102912.csv','r') as f:\n",
    "  data = csv.reader(f)\n",
    "  next(data)  # Hoppa över första raden som är en rubrik\n",
    "  for row in data:\n",
    "        x.append(float(row[0][5:7]))\n",
    "        if row[0][3:4] == '2': x[-1] = x[-1] + 12\n",
    "        y.append(float(row[1]))\n",
    "\n",
    "#print(x)\n",
    "#print(y)\n",
    "plt.plot(x, y, 'ro')\n",
    "#red circle\n",
    "\n",
    "plt.savefig('plot.png')\n",
    "plt.show()\n"
   ]
  },
  {
   "cell_type": "code",
   "execution_count": null,
   "id": "12eb5f1a-20bf-41bc-aa66-8dab06f418c6",
   "metadata": {},
   "outputs": [],
   "source": []
  }
 ],
 "metadata": {
  "kernelspec": {
   "display_name": "Python 3 (ipykernel)",
   "language": "python",
   "name": "python3"
  },
  "language_info": {
   "codemirror_mode": {
    "name": "ipython",
    "version": 3
   },
   "file_extension": ".py",
   "mimetype": "text/x-python",
   "name": "python",
   "nbconvert_exporter": "python",
   "pygments_lexer": "ipython3",
   "version": "3.9.7"
  }
 },
 "nbformat": 4,
 "nbformat_minor": 5
}
