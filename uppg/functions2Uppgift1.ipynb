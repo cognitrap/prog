{
 "cells": [
  {
   "cell_type": "markdown",
   "metadata": {},
   "source": [
    "**Uppgift 1**"
   ]
  },
  {
   "cell_type": "code",
   "execution_count": 10,
   "metadata": {},
   "outputs": [
    {
     "name": "stdout",
     "output_type": "stream",
     "text": [
      "Ange två positiva tal vars aritmetiska och geometriska medelvärde ska jämföras\n",
      "ange det första 1\n",
      "ange det andra 100000000\n",
      "aritmetiska=  50000000.5 geometriska=  10000.0\n"
     ]
    }
   ],
   "source": [
    "from math import sqrt\n",
    "def AG(x,y):\n",
    "    aritm=(x+y)/2.\n",
    "    geom=sqrt(x*y)\n",
    "    return(aritm, geom)\n",
    "\n",
    "print(\"Ange två positiva tal vars aritmetiska och geometriska medelvärde ska jämföras\")\n",
    "a=float(input(\"ange det första \"))\n",
    "b=float(input(\"ange det andra \"))\n",
    "\n",
    "L=AG(a,b)\n",
    "\n",
    "print(\"aritmetiska= \", L[0], \"geometriska= \", L[1])"
   ]
  },
  {
   "cell_type": "code",
   "execution_count": null,
   "metadata": {},
   "outputs": [],
   "source": []
  },
  {
   "cell_type": "code",
   "execution_count": null,
   "metadata": {},
   "outputs": [],
   "source": []
  }
 ],
 "metadata": {
  "kernelspec": {
   "display_name": "Python 3 (ipykernel)",
   "language": "python",
   "name": "python3"
  },
  "language_info": {
   "codemirror_mode": {
    "name": "ipython",
    "version": 3
   },
   "file_extension": ".py",
   "mimetype": "text/x-python",
   "name": "python",
   "nbconvert_exporter": "python",
   "pygments_lexer": "ipython3",
   "version": "3.11.5"
  }
 },
 "nbformat": 4,
 "nbformat_minor": 4
}
