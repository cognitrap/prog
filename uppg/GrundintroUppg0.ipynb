{
 "cells": [
  {
   "cell_type": "markdown",
   "id": "d0d6d4d7-a2c6-404c-a212-12c53702642a",
   "metadata": {},
   "source": [
    "**Uppgift 1**"
   ]
  },
  {
   "cell_type": "code",
   "execution_count": 1,
   "id": "7e0327c8-4286-4b90-b784-6f01d7673c59",
   "metadata": {},
   "outputs": [
    {
     "name": "stdout",
     "output_type": "stream",
     "text": [
      "Summan av 5 och 13 är 18\n",
      "Differensen mellan 5 och 13 är -8\n",
      "Heltalsresten vid division av 5 och 13 är 5\n",
      "13 går 0 gånger i 5\n"
     ]
    }
   ],
   "source": [
    "# a)\n",
    "\n",
    "a = 5\n",
    "b = 13\n",
    "summa = a + b\n",
    "print(\"Summan av\", a, \"och\", b, \"är\", summa)\n",
    "\n",
    "differens = a - b\n",
    "print(\"Differensen mellan\", a, \"och\", b, \"är\", differens)\n",
    "\n",
    "heltalsrest = a % b\n",
    "print(\"Heltalsresten vid division av\", a, \"och\", b,\"är\", heltalsrest)\n",
    "\n",
    "heltalskvot=a//b\n",
    "print(b,\"går\", heltalskvot,\"gånger i\",a)"
   ]
  },
  {
   "cell_type": "code",
   "execution_count": 2,
   "id": "7553cfc0-5600-4fbc-867d-4091ac2bf553",
   "metadata": {},
   "outputs": [
    {
     "name": "stdout",
     "output_type": "stream",
     "text": [
      "Summan av 5 och 13 är 18\n",
      "Differensen mellan 5 och 13 är -8\n",
      "Heltalsresten vid division av 5 och 13 är 5\n",
      "13 går 0 gånger i 5\n",
      "5 upphöjt till  13 är  1220703125\n"
     ]
    }
   ],
   "source": [
    "# b)\n",
    "\n",
    "a = 5\n",
    "b = 13\n",
    "summa = a + b\n",
    "print(\"Summan av\", a, \"och\", b, \"är\", summa)\n",
    "\n",
    "differens = a - b\n",
    "print(\"Differensen mellan\", a, \"och\", b, \"är\", differens)\n",
    "\n",
    "heltalsrest = a % b\n",
    "print(\"Heltalsresten vid division av\", a, \"och\", b,\"är\", heltalsrest)\n",
    "\n",
    "heltalskvot=a//b\n",
    "print(b,\"går\", heltalskvot,\"gånger i\",a)\n",
    "\n",
    "exponentiering=a**b\n",
    "print(a, \"upphöjt till \", b, \"är \", exponentiering) "
   ]
  },
  {
   "cell_type": "code",
   "execution_count": 3,
   "id": "54f40ee2-4968-411f-afa6-c2f5519b8301",
   "metadata": {},
   "outputs": [
    {
     "name": "stdout",
     "output_type": "stream",
     "text": [
      "Summan av 37.1 och 11.5 är 48.6\n",
      "Differensen mellan 37.1 och 11.5 är 25.6\n",
      "Heltalsresten vid division av 37.1 och 11.5 är 2.6000000000000014\n",
      "11.5 går 3.0 gånger i 37.1\n",
      "37.1 upphöjt till  11.5 är  1.1163489303126563e+18\n"
     ]
    }
   ],
   "source": [
    "# c) python kommentarer inte detta\n",
    "# Hur fungerar heltalsresten?\n",
    "\n",
    "a = 37.1\n",
    "b = 11.5\n",
    "summa = a + b\n",
    "print(\"Summan av\", a, \"och\", b, \"är\", summa)\n",
    "\n",
    "differens = a - b\n",
    "print(\"Differensen mellan\", a, \"och\", b, \"är\", differens)\n",
    "\n",
    "heltalsrest = a % b\n",
    "print(\"Heltalsresten vid division av\", a, \"och\", b,\"är\", heltalsrest)\n",
    "\n",
    "heltalskvot=a//b\n",
    "print(b,\"går\", heltalskvot,\"gånger i\",a)\n",
    "\n",
    "exponentiering=a**b\n",
    "print(a, \"upphöjt till \", b, \"är \", exponentiering) "
   ]
  },
  {
   "cell_type": "code",
   "execution_count": null,
   "id": "9be4b592-6f90-4920-b2b7-88eff76c1b6f",
   "metadata": {},
   "outputs": [],
   "source": [
    "# d) \n",
    "\n",
    "aa = input(\"Ange ett heltal\")\n",
    "bb = input(\"Ange ett heltal\")\n",
    "a=int(aa)\n",
    "b=int(bb)\n",
    "\n",
    "summa = a + b\n",
    "print(\"Summan av\", a, \"och\", b, \"är\", summa)\n",
    "\n",
    "differens = a - b\n",
    "print(\"Differensen mellan\", a, \"och\", b, \"är\", differens)\n",
    "\n",
    "heltalsrest = a % b\n",
    "print(\"Heltalsresten vid division av\", a, \"och\", b,\"är\", heltalsrest)\n",
    "\n",
    "heltalskvot=a//b\n",
    "print(b,\"går\", heltalskvot,\"gånger i\",a)\n",
    "\n",
    "exponentiering=a**b\n",
    "print(a, \"upphöjt till \", b, \"är \", exponentiering) "
   ]
  },
  {
   "cell_type": "code",
   "execution_count": null,
   "id": "a5f58fe2-b7ff-464f-b307-22ccce0ae90c",
   "metadata": {},
   "outputs": [],
   "source": []
  }
 ],
 "metadata": {
  "kernelspec": {
   "display_name": "Python 3 (ipykernel)",
   "language": "python",
   "name": "python3"
  },
  "language_info": {
   "codemirror_mode": {
    "name": "ipython",
    "version": 3
   },
   "file_extension": ".py",
   "mimetype": "text/x-python",
   "name": "python",
   "nbconvert_exporter": "python",
   "pygments_lexer": "ipython3",
   "version": "3.9.7"
  }
 },
 "nbformat": 4,
 "nbformat_minor": 5
}
