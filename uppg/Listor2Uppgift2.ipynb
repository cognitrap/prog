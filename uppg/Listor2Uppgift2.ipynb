{
 "cells": [
  {
   "cell_type": "markdown",
   "metadata": {},
   "source": [
    "**Uppgift 3**"
   ]
  },
  {
   "cell_type": "code",
   "execution_count": 1,
   "metadata": {},
   "outputs": [
    {
     "name": "stdout",
     "output_type": "stream",
     "text": [
      "[11, 6, 8, 3, 5, 1, 2] [11, 6, 8, 3, 5, 1, 2]\n"
     ]
    }
   ],
   "source": [
    "L=[2,1,5,3,8,6,11]\n",
    "\n",
    "l=len(L) #7\n",
    "M=[]; K=[]\n",
    "\n",
    "for i in range(l): #0 1 2...6\n",
    "    M.append(L[l-1-i]) #7-0\n",
    "    K.append(L[-i-1])\n",
    "print(M,K)\n"
   ]
  },
  {
   "cell_type": "code",
   "execution_count": null,
   "metadata": {},
   "outputs": [],
   "source": []
  }
 ],
 "metadata": {
  "kernelspec": {
   "display_name": "Python 3 (ipykernel)",
   "language": "python",
   "name": "python3"
  },
  "language_info": {
   "codemirror_mode": {
    "name": "ipython",
    "version": 3
   },
   "file_extension": ".py",
   "mimetype": "text/x-python",
   "name": "python",
   "nbconvert_exporter": "python",
   "pygments_lexer": "ipython3",
   "version": "3.11.5"
  }
 },
 "nbformat": 4,
 "nbformat_minor": 4
}
