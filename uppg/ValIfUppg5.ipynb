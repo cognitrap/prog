{
 "cells": [
  {
   "cell_type": "markdown",
   "id": "318089e8-dfc7-4e8f-a00d-0e946bf8606e",
   "metadata": {},
   "source": [
    "**Uppgift 5**"
   ]
  },
  {
   "cell_type": "code",
   "execution_count": 6,
   "id": "520b7fe0-24ac-4021-a8ec-23cd22baf531",
   "metadata": {},
   "outputs": [
    {
     "name": "stdin",
     "output_type": "stream",
     "text": [
      "Ange ett heltal 25\n"
     ]
    },
    {
     "name": "stdout",
     "output_type": "stream",
     "text": [
      "Det positiva talet är jämnt delbart med 5\n"
     ]
    }
   ],
   "source": [
    "L = int(input(\"Ange ett heltal\"))\n",
    "\n",
    "if L > 0:\n",
    "    if L % 5 == 0:\n",
    "        print(\"Det positiva talet är jämnt delbart med 5\")\n",
    "    else:\n",
    "        print(\"Det positiva talet är inte jämnt delbart med 5\")\n",
    "if L < 0:\n",
    "    if L % 2 == 0:\n",
    "        print(\"Det negativa talet är jämnt delbart med 2\")\n",
    "    else:\n",
    "        print(\"Det negativa talet är inte jämnt delbart med 2\")\n",
    "if L == 0:\n",
    "    print(\"Du angav talet 0\")"
   ]
  },
  {
   "cell_type": "code",
   "execution_count": null,
   "id": "12879edf-b3d0-46b1-ae3f-c7531b92341a",
   "metadata": {},
   "outputs": [],
   "source": []
  }
 ],
 "metadata": {
  "kernelspec": {
   "display_name": "Python 3 (ipykernel)",
   "language": "python",
   "name": "python3"
  },
  "language_info": {
   "codemirror_mode": {
    "name": "ipython",
    "version": 3
   },
   "file_extension": ".py",
   "mimetype": "text/x-python",
   "name": "python",
   "nbconvert_exporter": "python",
   "pygments_lexer": "ipython3",
   "version": "3.9.7"
  }
 },
 "nbformat": 4,
 "nbformat_minor": 5
}
