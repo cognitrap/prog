{
 "cells": [
  {
   "cell_type": "markdown",
   "metadata": {},
   "source": [
    "Uppgift 3"
   ]
  },
  {
   "cell_type": "code",
   "execution_count": 1,
   "metadata": {},
   "outputs": [
    {
     "name": "stdout",
     "output_type": "stream",
     "text": [
      "Egenvärdena är  [ 3. 11.]\n",
      "egenvektor 1 [-0.832 -0.555]\n",
      "egenvektor 2 [ 0.447 -0.894]\n",
      "D=  [[ 3. -0.]\n",
      " [ 0. 11.]]\n"
     ]
    }
   ],
   "source": [
    "import numpy as np\n",
    "\n",
    "F=np.array([[5,-3],[-4,9]])\n",
    "\n",
    "EV=np.linalg.eig(F)\n",
    "\n",
    "print(\"Egenvärdena är \", EV[0])\n",
    "\n",
    "S=EV[1]\n",
    "ST=EV[1].T\n",
    "ST=np.around(ST,3)\n",
    "print(\"egenvektor 1\", ST[0])\n",
    "print(\"egenvektor 2\", ST[1])\n",
    "\n",
    "#konstruera matrisen D\n",
    "D=np.linalg.inv(S)@F@S\n",
    "D=np.around(D,1)\n",
    "\n",
    "print(\"D= \",D)"
   ]
  },
  {
   "cell_type": "code",
   "execution_count": null,
   "metadata": {},
   "outputs": [],
   "source": []
  }
 ],
 "metadata": {
  "kernelspec": {
   "display_name": "Python 3 (ipykernel)",
   "language": "python",
   "name": "python3"
  },
  "language_info": {
   "codemirror_mode": {
    "name": "ipython",
    "version": 3
   },
   "file_extension": ".py",
   "mimetype": "text/x-python",
   "name": "python",
   "nbconvert_exporter": "python",
   "pygments_lexer": "ipython3",
   "version": "3.9.7"
  }
 },
 "nbformat": 4,
 "nbformat_minor": 4
}
