{
 "cells": [
  {
   "cell_type": "markdown",
   "id": "fb21f5af-75c3-4b1c-ac55-ec156547c260",
   "metadata": {},
   "source": [
    "**Uppgift 4**"
   ]
  },
  {
   "cell_type": "code",
   "execution_count": 1,
   "id": "8766f94e-47b4-44ae-92e1-2c06c4218164",
   "metadata": {},
   "outputs": [
    {
     "name": "stdout",
     "output_type": "stream",
     "text": [
      "1 * 1 =  1\n",
      "1 * 2 =  2\n",
      "1 * 3 =  3\n",
      "1 * 4 =  4\n",
      "1 * 5 =  5\n",
      "1 * 6 =  6\n",
      "2 * 1 =  2\n",
      "2 * 2 =  4\n",
      "2 * 3 =  6\n",
      "2 * 4 =  1\n",
      "2 * 5 =  3\n",
      "2 * 6 =  5\n",
      "3 * 1 =  3\n",
      "3 * 2 =  6\n",
      "3 * 3 =  2\n",
      "3 * 4 =  5\n",
      "3 * 5 =  1\n",
      "3 * 6 =  4\n",
      "4 * 1 =  4\n",
      "4 * 2 =  1\n",
      "4 * 3 =  5\n",
      "4 * 4 =  2\n",
      "4 * 5 =  6\n",
      "4 * 6 =  3\n",
      "5 * 1 =  5\n",
      "5 * 2 =  3\n",
      "5 * 3 =  1\n",
      "5 * 4 =  6\n",
      "5 * 5 =  4\n",
      "5 * 6 =  2\n",
      "6 * 1 =  6\n",
      "6 * 2 =  5\n",
      "6 * 3 =  4\n",
      "6 * 4 =  3\n",
      "6 * 5 =  2\n",
      "6 * 6 =  1\n"
     ]
    }
   ],
   "source": [
    "\n",
    "for i in range(1, 7):\n",
    "    for j in range(1, 7):\n",
    "        print(i,\"*\",j,\"= \", i*j % 7)"
   ]
  },
  {
   "cell_type": "code",
   "execution_count": null,
   "id": "501cdcda-e6b0-4fb1-8573-0f8dece8c9a0",
   "metadata": {},
   "outputs": [],
   "source": []
  }
 ],
 "metadata": {
  "kernelspec": {
   "display_name": "Python 3 (ipykernel)",
   "language": "python",
   "name": "python3"
  },
  "language_info": {
   "codemirror_mode": {
    "name": "ipython",
    "version": 3
   },
   "file_extension": ".py",
   "mimetype": "text/x-python",
   "name": "python",
   "nbconvert_exporter": "python",
   "pygments_lexer": "ipython3",
   "version": "3.11.5"
  }
 },
 "nbformat": 4,
 "nbformat_minor": 5
}
