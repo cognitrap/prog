{
 "cells": [
  {
   "cell_type": "markdown",
   "metadata": {},
   "source": [
    "Riktningskoefficienten och interceptet begränsas till rationella tal $p/q$ där $p$ och $q$ är i intervallet -10 till 10 (förutom 0 för nämnaren naturligtvis).\n",
    "\n",
    "Programmet ritar graf med 2 punkter och användaren anger förslag på k och m. Om de är inom en 20% felmarginal så anses svaret rätt. Har inte lagt in att rita in den föreslagna räta linjen."
   ]
  },
  {
   "cell_type": "code",
   "execution_count": null,
   "metadata": {},
   "outputs": [
    {
     "name": "stdout",
     "output_type": "stream",
     "text": [
      "x\n"
     ]
    },
    {
     "data": {
      "image/png": "[encoded data removed]",
      "text/plain": [
       "<Figure size 432x288 with 1 Axes>"
      ]
     },
     "metadata": {
      "needs_background": "light"
     },
     "output_type": "display_data"
    }
   ],
   "source": [
    "import matplotlib.pyplot as plt\n",
    "import random as r\n",
    "\n",
    "def slumpkvot():\n",
    "    L=[-10,-9,-8,-7,-6,-5,-4,\n",
    "      -3,-2,-1,1,2,3,4,5,6,7,\n",
    "      8,9,10]\n",
    "    p=r.choices(L,k=2)#med återläggning\n",
    "    return(p[0]/p[1])\n",
    "\n",
    "print(\"x\")\n",
    "\n",
    "k=slumpkvot()\n",
    "m=slumpkvot()\n",
    "x1=slumpkvot()\n",
    "x2=slumpkvot()\n",
    "y1=k*x1+m\n",
    "y2=k*x2+m\n",
    "if x1>x2:a=x2;b=x1\n",
    "else:a=x1;b=x2\n",
    "if y1>y2:c=y2;d=y1\n",
    "else:c=y1;d=y2\n",
    "\n",
    "#print(a,b,c,d)\n",
    "#print(\"k\",k,\"m\",m)\n",
    "plt.axis([a-1,b+1,c-1,d+1])\n",
    "plt.grid()\n",
    "plt.plot(x1,y1,'r+')\n",
    "plt.plot(x2,y2, 'r+')\n",
    "plt.show()\n",
    "kguess=float(input(\"Ange riktningskoefficienten \"))\n",
    "mguess=float(input(\"Ange interceptet \"))\n",
    "tolerans=0.30\n",
    "\n",
    "if abs(k*(1-tolerans))<abs(kguess)<abs(k*(1+tolerans)) and abs(m*(1-tolerans))<abs(mguess)<abs(m*(1+tolerans)):\n",
    "    print(\"Bra, det är rätt\")"
   ]
  },
  {
   "cell_type": "code",
   "execution_count": null,
   "metadata": {},
   "outputs": [],
   "source": []
  }
 ],
 "metadata": {
  "kernelspec": {
   "display_name": "Python 3",
   "language": "python",
   "name": "python3"
  },
  "language_info": {
   "codemirror_mode": {
    "name": "ipython",
    "version": 3
   },
   "file_extension": ".py",
   "mimetype": "text/x-python",
   "name": "python",
   "nbconvert_exporter": "python",
   "pygments_lexer": "ipython3",
   "version": "3.8.3"
  }
 },
 "nbformat": 4,
 "nbformat_minor": 4
}
