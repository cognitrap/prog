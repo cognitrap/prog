{
 "cells": [
  {
   "cell_type": "markdown",
   "metadata": {},
   "source": [
    "**Uppgift 5**"
   ]
  },
  {
   "cell_type": "code",
   "execution_count": 2,
   "metadata": {},
   "outputs": [
    {
     "name": "stdout",
     "output_type": "stream",
     "text": [
      "Antalet i varje intervall [10.  8. 12.  3.]\n",
      "Binens gränser [1 3 5 7 9]\n"
     ]
    },
    {
     "data": {
      "image/png": "[encoded data removed]",
      "text/plain": [
       "<Figure size 432x288 with 1 Axes>"
      ]
     },
     "metadata": {
      "needs_background": "light"
     },
     "output_type": "display_data"
    }
   ],
   "source": [
    "import matplotlib.pyplot as plt\n",
    "\n",
    "#data\n",
    "x=[1,1,2,2,1,1,2,2,5,5,6,6,4,4,4,4,5,\n",
    "5,5,6,6,6,6,7,1,3,2,5,3,7,8,4,4]\n",
    "\n",
    "\n",
    "#kommandot för att plotta histogram, nu med\n",
    "# return-värdena så vi kan skriva ut dem\n",
    "n,bins,patches=plt.hist(x, [1,3,5,7,9])\n",
    "\n",
    "print(\"Antalet i varje intervall\", n)\n",
    "print(\"Binens gränser\", bins)\n",
    "#patches bryr vi oss inte om\n",
    "\n",
    "\n",
    "#de vanliga\n",
    "plt.savefig(\"plot.png\")\n",
    "plt.show()"
   ]
  },
  {
   "cell_type": "code",
   "execution_count": null,
   "metadata": {},
   "outputs": [],
   "source": []
  }
 ],
 "metadata": {
  "kernelspec": {
   "display_name": "Python 3 (ipykernel)",
   "language": "python",
   "name": "python3"
  },
  "language_info": {
   "codemirror_mode": {
    "name": "ipython",
    "version": 3
   },
   "file_extension": ".py",
   "mimetype": "text/x-python",
   "name": "python",
   "nbconvert_exporter": "python",
   "pygments_lexer": "ipython3",
   "version": "3.11.5"
  }
 },
 "nbformat": 4,
 "nbformat_minor": 4
}
