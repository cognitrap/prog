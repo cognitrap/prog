{
 "cells": [
  {
   "cell_type": "markdown",
   "id": "fb7af50f-f591-4e0f-9773-380f4fb3901b",
   "metadata": {},
   "source": [
    "**Uppgift 2**"
   ]
  },
  {
   "cell_type": "code",
   "execution_count": 1,
   "id": "1a98f42c-8749-46d5-b676-6940118538f5",
   "metadata": {},
   "outputs": [
    {
     "name": "stdout",
     "output_type": "stream",
     "text": [
      "1234567890ABCDE\n",
      "Oslo        223\n",
      "Stockholm   145\n",
      "Malmö       452\n",
      "Ystad       553\n",
      "Luleå       112\n",
      "Östersund   612\n"
     ]
    }
   ],
   "source": [
    "Ort=['Oslo', 'Stockholm', 'Malmö', 'Ystad', 'Luleå', 'Östersund']\n",
    "Data=[223, 145, 452, 553, 112, 612]\n",
    "\n",
    "print('1234567890ABCDE')\n",
    "for i in range(0, len(Ort)):\n",
    "    print('{:<10}{:>5}'.format(Ort[i], Data[i]))\n"
   ]
  }
 ],
 "metadata": {
  "kernelspec": {
   "display_name": "Python 3 (ipykernel)",
   "language": "python",
   "name": "python3"
  },
  "language_info": {
   "codemirror_mode": {
    "name": "ipython",
    "version": 3
   },
   "file_extension": ".py",
   "mimetype": "text/x-python",
   "name": "python",
   "nbconvert_exporter": "python",
   "pygments_lexer": "ipython3",
   "version": "3.9.7"
  }
 },
 "nbformat": 4,
 "nbformat_minor": 5
}
