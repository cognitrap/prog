{
 "cells": [
  {
   "cell_type": "markdown",
   "id": "1cc32623-d806-467b-ac0a-e1f8cb16b38c",
   "metadata": {},
   "source": [
    "**Uppgift 3**"
   ]
  },
  {
   "cell_type": "code",
   "execution_count": 4,
   "id": "cd87ffbd-21ee-4445-9c6b-2779f15128f5",
   "metadata": {},
   "outputs": [
    {
     "data": {
      "application/vnd.jupyter.widget-view+json": {
       "model_id": "ea32e0ed5a0047e08c2c127414f12842",
       "version_major": 2,
       "version_minor": 0
      },
      "text/plain": [
       "interactive(children=(IntSlider(value=8, description='N', max=15, min=1), Output()), _dom_classes=('widget-int…"
      ]
     },
     "metadata": {},
     "output_type": "display_data"
    },
    {
     "data": {
      "text/plain": [
       "<function __main__.g(N)>"
      ]
     },
     "execution_count": 4,
     "metadata": {},
     "output_type": "execute_result"
    }
   ],
   "source": [
    "from sympy import fourier_series, pi\n",
    "from sympy.abc import x\n",
    "from sympy.plotting import plot\n",
    "from ipywidgets import interact\n",
    "import matplotlib.pyplot as plt\n",
    "\n",
    "\n",
    "def g(N):\n",
    "    f = x**2 + x  # Funktionen\n",
    "    s = fourier_series(f, (x, -pi, pi))  # Beräkna fourier serien\n",
    "    s1 = s.truncate(N)\n",
    "    #print(s1)\n",
    "    \n",
    "    cosout = []\n",
    "    cosout.append(s.a0)\n",
    "    for i in range(1,N):\n",
    "        cosout.append(s.an.coeff(i).subs(x,0))\n",
    "    print(\"cosinus\",cosout)\n",
    "    \n",
    "    sinout = [0]  # Ingen b0\n",
    "    for i in range(1,N):\n",
    "        sinout.append(s.bn.coeff(i).subs(x,pi/(2*i)))\n",
    "    print(\"sinus\",sinout)\n",
    "    \n",
    "    plot(f,s1, (x,-4,4))  # Plottar både f och s1\n",
    "    \n",
    "    # Plotta spektrum, enklare med matplotlib.pyplot\n",
    "    \n",
    "    plt.plot(cosout, \"bo\", markersize=10, label=\"cos\")\n",
    "    plt.plot(sinout, \"go\", markersize=10, label=\"sin\")\n",
    "    plt.legend(loc='best', fontsize='medium')\n",
    "\n",
    "   \n",
    "    return N\n",
    "\n",
    "\n",
    "interact(g, N=(1,15))"
   ]
  },
  {
   "cell_type": "markdown",
   "id": "e34f5a1e-cb24-4037-85c0-5d5a77090bcc",
   "metadata": {},
   "source": [
    "Intervallet $[-\\pi, \\pi]$ som vi valt genom `s = fourier_series(f, (x, -pi, pi))` ger hjälp för val av värden på x. De väljs som intervallets längd multiplicerat med $1/(4i)$ där i är ett heltal. I vårt fall $2\\pi \\cdot1/(4i)=\\pi/(2i)$"
   ]
  }
 ],
 "metadata": {
  "kernelspec": {
   "display_name": "Python 3 (ipykernel)",
   "language": "python",
   "name": "python3"
  },
  "language_info": {
   "codemirror_mode": {
    "name": "ipython",
    "version": 3
   },
   "file_extension": ".py",
   "mimetype": "text/x-python",
   "name": "python",
   "nbconvert_exporter": "python",
   "pygments_lexer": "ipython3",
   "version": "3.9.7"
  }
 },
 "nbformat": 4,
 "nbformat_minor": 5
}
