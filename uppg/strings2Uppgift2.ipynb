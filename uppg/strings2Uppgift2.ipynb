{
 "cells": [
  {
   "cell_type": "markdown",
   "metadata": {},
   "source": [
    "**Uppgift 2**"
   ]
  },
  {
   "cell_type": "code",
   "execution_count": 22,
   "metadata": {},
   "outputs": [
    {
     "name": "stdin",
     "output_type": "stream",
     "text": [
      "Ange ett ord så undersöker programmet om det är en palindrom ss\n"
     ]
    },
    {
     "name": "stdout",
     "output_type": "stream",
     "text": [
      "Palindrom\n"
     ]
    }
   ],
   "source": [
    "L=input(\"Ange ett ord så undersöker programmet om det är en palindrom\")\n",
    "\n",
    "M=list(L)\n",
    "\n",
    "l=len(M)\n",
    "s=0\n",
    "for i in range(int(l/2.)):\n",
    "    if M[i]==M[l-1-i]: s=s+1\n",
    "\n",
    "if s==int(l/2.):\n",
    "    print(\"Palindrom\")\n",
    "else:\n",
    "    print(\"Ej Palindrom\")\n"
   ]
  },
  {
   "cell_type": "code",
   "execution_count": null,
   "metadata": {},
   "outputs": [],
   "source": []
  }
 ],
 "metadata": {
  "kernelspec": {
   "display_name": "Python 3 (ipykernel)",
   "language": "python",
   "name": "python3"
  },
  "language_info": {
   "codemirror_mode": {
    "name": "ipython",
    "version": 3
   },
   "file_extension": ".py",
   "mimetype": "text/x-python",
   "name": "python",
   "nbconvert_exporter": "python",
   "pygments_lexer": "ipython3",
   "version": "3.11.5"
  }
 },
 "nbformat": 4,
 "nbformat_minor": 4
}
