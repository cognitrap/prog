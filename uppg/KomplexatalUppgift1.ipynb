{
 "cells": [
  {
   "cell_type": "markdown",
   "id": "7f0e56a1-bba5-4571-a9b1-c46ace1b40b7",
   "metadata": {},
   "source": [
    "**Uppgift 1**"
   ]
  },
  {
   "cell_type": "code",
   "execution_count": 1,
   "id": "50147d8a-0fca-4db5-8bff-5bcbd6507b24",
   "metadata": {},
   "outputs": [
    {
     "name": "stdout",
     "output_type": "stream",
     "text": [
      "[-1. +0.j         0.5-0.8660254j  0.5+0.8660254j]\n",
      "[-8.66025404e-01-0.5j  2.08166817e-16+1.j   8.66025404e-01-0.5j]\n"
     ]
    }
   ],
   "source": [
    "import numpy.polynomial.polynomial as poly\n",
    "\n",
    "print(poly.polyroots([1,0,0,1]))\n",
    "print(poly.polyroots([1j,0,0,1]))"
   ]
  },
  {
   "cell_type": "markdown",
   "id": "d2a30d9a-3877-484e-883e-9f29444c1be0",
   "metadata": {},
   "source": [
    "Vilket innebär att rötterna för $1+z^3=0$ är $z=-1$, $z=\\frac{1}{2}-\\frac{\\sqrt{3}}{2}i$, $z=\\frac{1}{2}+\\frac{\\sqrt{3}}{2}i$.\n",
    "\n",
    "Rötterna för $i+z^3=0$ är $z=-\\frac{\\sqrt{3}}{2}-\\frac{1}{2}i$, $z=i$, $z=\\frac{\\sqrt{3}}{2}-\\frac{1}{2}i$."
   ]
  },
  {
   "cell_type": "markdown",
   "id": "5a0747a2-beb4-456c-a04b-510a465ab52c",
   "metadata": {},
   "source": [
    "Vi testar genom att ta lösningarna upphöjt till 3."
   ]
  },
  {
   "cell_type": "code",
   "execution_count": 14,
   "id": "55271da6-4a4f-484b-bcf4-a98f44de2627",
   "metadata": {},
   "outputs": [
    {
     "name": "stdout",
     "output_type": "stream",
     "text": [
      "Rot 0  (-1+0j) , i kubik (-1+0j)\n",
      "Rot 1  (0.5-0.866j) , i kubik (-1-0j)\n",
      "Rot 2  (0.5+0.866j) , i kubik (-1-0j)\n"
     ]
    }
   ],
   "source": [
    "import numpy as np\n",
    "import numpy.polynomial.polynomial as poly\n",
    "\n",
    "R=poly.polyroots([1,0,0,1])\n",
    "\n",
    "## Avrundar till 3 decimaler\n",
    "print(\"Rot 0 \", np.round(R[0],3), \", i kubik\", np.round(R[0]**3,3))\n",
    "print(\"Rot 1 \", np.round(R[1],3), \", i kubik\", np.round(R[1]**3,3))\n",
    "print(\"Rot 2 \", np.round(R[2],3), \", i kubik\", np.round(R[1]**3,3))"
   ]
  }
 ],
 "metadata": {
  "kernelspec": {
   "display_name": "Python 3 (ipykernel)",
   "language": "python",
   "name": "python3"
  },
  "language_info": {
   "codemirror_mode": {
    "name": "ipython",
    "version": 3
   },
   "file_extension": ".py",
   "mimetype": "text/x-python",
   "name": "python",
   "nbconvert_exporter": "python",
   "pygments_lexer": "ipython3",
   "version": "3.11.5"
  }
 },
 "nbformat": 4,
 "nbformat_minor": 5
}
