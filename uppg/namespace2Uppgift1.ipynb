{
 "cells": [
  {
   "cell_type": "markdown",
   "id": "7e29ed0a-53fb-4647-8706-41bd3564c6e1",
   "metadata": {},
   "source": [
    "**Uppgift 1**"
   ]
  },
  {
   "cell_type": "code",
   "execution_count": 1,
   "id": "060e9cd6-f685-4cd2-87af-f7bcf0be982d",
   "metadata": {},
   "outputs": [
    {
     "name": "stdout",
     "output_type": "stream",
     "text": [
      "b1 = 7\n",
      "g(0) 7\n",
      "b2 = 8\n",
      "h(0) 8\n",
      "b =  5\n"
     ]
    }
   ],
   "source": [
    "def g(a):\n",
    "    b = 7\n",
    "    print(\"b1 =\", b)\n",
    "    return(b)\n",
    "\n",
    "def h(a):\n",
    "    b=8\n",
    "    print(\"b2 =\", b)\n",
    "    return(b)\n",
    "\n",
    "b = 5\n",
    "print(\"g(0)\", g(0))\n",
    "print(\"h(0)\", h(0))\n",
    "print(\"b = \", b)\n"
   ]
  }
 ],
 "metadata": {
  "kernelspec": {
   "display_name": "Python 3 (ipykernel)",
   "language": "python",
   "name": "python3"
  },
  "language_info": {
   "codemirror_mode": {
    "name": "ipython",
    "version": 3
   },
   "file_extension": ".py",
   "mimetype": "text/x-python",
   "name": "python",
   "nbconvert_exporter": "python",
   "pygments_lexer": "ipython3",
   "version": "3.11.5"
  }
 },
 "nbformat": 4,
 "nbformat_minor": 5
}
