{
 "cells": [
  {
   "cell_type": "markdown",
   "id": "b4856758-c379-4a81-9e53-4bf26f15214c",
   "metadata": {},
   "source": [
    "### Uppgift 2\n",
    "\n",
    "Genom att multiplicera med $A^{-1}$ erhålls $A^2+4A+5I+2A^{-1}=0$. Lös ut $A^{-1}$.\n",
    "\n",
    "$$\n",
    "A^{-1}=-\\frac{1}{2}A^{2}-2A-\\frac{5}{2}I\n",
    "$$\n",
    "\n",
    "Koden blir"
   ]
  },
  {
   "cell_type": "code",
   "execution_count": 10,
   "id": "064a50f7-9151-4032-80cd-44170c954f46",
   "metadata": {},
   "outputs": [
    {
     "name": "stdout",
     "output_type": "stream",
     "text": [
      "invers via linalg.inv\n",
      " [[-1.  -4.   4. ]\n",
      " [-0.5 -2.   1.5]\n",
      " [-0.5 -1.   0.5]]\n",
      "invers via polynomet\n",
      " [[-1.  -4.   4. ]\n",
      " [-0.5 -2.   1.5]\n",
      " [-0.5 -1.   0.5]]\n"
     ]
    }
   ],
   "source": [
    "import numpy as np\n",
    "\n",
    "A=np.array([[-1, 4, -4],[1, -3, 1],[1, -2, 0]])\n",
    "Ainv1=np.linalg.inv(A)  #För jämförelse\n",
    "\n",
    "Ainv2= -1/2*np.dot(A,A)-2*A-5/2*np.identity(3)\n",
    "\n",
    "print(\"invers via linalg.inv\\n\", Ainv1)\n",
    "print(\"invers via polynomet\\n\", Ainv2)\n"
   ]
  }
 ],
 "metadata": {
  "kernelspec": {
   "display_name": "Python 3 (ipykernel)",
   "language": "python",
   "name": "python3"
  },
  "language_info": {
   "codemirror_mode": {
    "name": "ipython",
    "version": 3
   },
   "file_extension": ".py",
   "mimetype": "text/x-python",
   "name": "python",
   "nbconvert_exporter": "python",
   "pygments_lexer": "ipython3",
   "version": "3.9.7"
  }
 },
 "nbformat": 4,
 "nbformat_minor": 5
}
