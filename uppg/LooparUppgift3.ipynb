{
 "cells": [
  {
   "cell_type": "markdown",
   "id": "14c7df83-4966-4f1a-90cc-d8b0f39443dd",
   "metadata": {},
   "source": [
    "### Uppgift 3"
   ]
  },
  {
   "cell_type": "code",
   "execution_count": 31,
   "id": "5ee12d75-c53e-4610-977b-72fde8f8f1bb",
   "metadata": {},
   "outputs": [
    {
     "name": "stdout",
     "output_type": "stream",
     "text": [
      "sannolikheten är  0.043465\n"
     ]
    }
   ],
   "source": [
    "import random\n",
    "\n",
    "trials = 1000000  # antal försök\n",
    "k = 0  # antal gjorda försök\n",
    "luck = 0  # antal lyckade försök (summan är 9)\n",
    "\n",
    "\n",
    "while k < trials:\n",
    "    sum = 0\n",
    "    for i in [1,2,3,4]:\n",
    "        nr = random.randint(1,6)\n",
    "        sum = sum + nr\n",
    "    if sum == 9: luck = luck + 1\n",
    "    k = k + 1\n",
    "\n",
    "print(\"sannolikheten är \", luck/trials)"
   ]
  },
  {
   "cell_type": "markdown",
   "id": "71fe2b13-7582-4eae-89a2-70fae35ace60",
   "metadata": {},
   "source": [
    "Sannolikheten kan beräknas exakt till $7/162 \\approx 0,04321$\n",
    "\n",
    "Öka gärna antalet försök till 100 000. 1 miljon tar några sekunder."
   ]
  },
  {
   "cell_type": "markdown",
   "id": "dcb59808-f8b8-4fa4-a78f-d9000846b70a",
   "metadata": {},
   "source": [
    "Konstruktionen innehåller 2 loopar. Den ena är gjord som en while loop och den andra en for loop.\n",
    "\n",
    "\n",
    "Den yttre loopen (while) anger antalet försök(trials) vi ska göra; antalet gånger vi kastar 4 tärningar. Den inre loopen (for) ser till att 4 tärningar kastas; i=1,2,3,4. "
   ]
  }
 ],
 "metadata": {
  "kernelspec": {
   "display_name": "Python 3 (ipykernel)",
   "language": "python",
   "name": "python3"
  },
  "language_info": {
   "codemirror_mode": {
    "name": "ipython",
    "version": 3
   },
   "file_extension": ".py",
   "mimetype": "text/x-python",
   "name": "python",
   "nbconvert_exporter": "python",
   "pygments_lexer": "ipython3",
   "version": "3.11.5"
  }
 },
 "nbformat": 4,
 "nbformat_minor": 5
}
