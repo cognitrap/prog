{
 "cells": [
  {
   "cell_type": "markdown",
   "id": "a5c14a33-c2de-4ec8-b863-f088842f2b1c",
   "metadata": {},
   "source": [
    "**Uppgift 2**"
   ]
  },
  {
   "cell_type": "code",
   "execution_count": 1,
   "id": "48b4f7c5-303b-41b9-bf34-f216dc0c6f1c",
   "metadata": {},
   "outputs": [
    {
     "name": "stdout",
     "output_type": "stream",
     "text": [
      "[2, 3, False, 'gg', [4, 4]]\n",
      "[False, 'gg']\n",
      "[False, 'gg', [4, 4]]\n",
      "gg\n",
      "[2, 3, False, 'gg', [4, 4], -1]\n",
      "[2, 3, True, 'gg', [4, 4], -1]\n",
      "[2, 4, 5, 3, 1]\n"
     ]
    }
   ],
   "source": [
    "L = [2, 3, False, 'gg', [4,4]]\n",
    "print(L)\n",
    "print(L[2:4])\n",
    "print(L[2:])\n",
    "print(L[-2])\n",
    "\n",
    "L.append(-1)\n",
    "print(L)\n",
    "\n",
    "L[2:3] = [True]  # Obs. L[2:3] = True fungerar inte!\n",
    "print(L)\n",
    "\n",
    "M=[2,3,4,5,3,1]\n",
    "M.remove(3)  # Vilken 3:a tas bort?\n",
    "print(M)"
   ]
  },
  {
   "cell_type": "code",
   "execution_count": null,
   "id": "39ede5a7-e4a0-4fa1-9fb9-71c4cd8c2755",
   "metadata": {},
   "outputs": [],
   "source": []
  }
 ],
 "metadata": {
  "kernelspec": {
   "display_name": "Python 3 (ipykernel)",
   "language": "python",
   "name": "python3"
  },
  "language_info": {
   "codemirror_mode": {
    "name": "ipython",
    "version": 3
   },
   "file_extension": ".py",
   "mimetype": "text/x-python",
   "name": "python",
   "nbconvert_exporter": "python",
   "pygments_lexer": "ipython3",
   "version": "3.9.7"
  }
 },
 "nbformat": 4,
 "nbformat_minor": 5
}
