{
 "cells": [
  {
   "cell_type": "code",
   "execution_count": 2,
   "id": "f5b08511-d671-4a5a-96c4-ec4dc79465f7",
   "metadata": {},
   "outputs": [
    {
     "name": "stdout",
     "output_type": "stream",
     "text": [
      "[ 0.91166242  3.61870777 -4.70927813]\n"
     ]
    },
    {
     "data": {
      "text/plain": [
       "[<matplotlib.lines.Line2D at 0x7f1bd670e670>]"
      ]
     },
     "execution_count": 2,
     "metadata": {},
     "output_type": "execute_result"
    },
    {
     "data": {
      "image/png": "[encoded data removed]",
      "text/plain": [
       "<Figure size 432x288 with 1 Axes>"
      ]
     },
     "metadata": {
      "needs_background": "light"
     },
     "output_type": "display_data"
    }
   ],
   "source": [
    "import matplotlib.pyplot as plt\n",
    "import numpy as np\n",
    "import csv\n",
    "\n",
    "# Gamla tar vi bort\n",
    "\"\"\"\n",
    "x=np.linspace(-4,4,10)\n",
    "#Vi måste arbeta med listor\n",
    "x=list(x)\n",
    "noise=[]\n",
    "y=[]\n",
    "#delar upp det i två omgångar\n",
    "for i in range(0,10):\n",
    "    noise.append(r.random())\n",
    "for i in range(0,10):\n",
    "    y.append(2*x[i]**2+5+20*noise[i])\n",
    "\"\"\"    \n",
    "#####################################################\n",
    "#Nytt läsa fil\n",
    "\n",
    "x=[]; y=[]\n",
    "with open('data1v2.csv','r') as f:\n",
    "  data = csv.reader(f)\n",
    "  for row in data:\n",
    "        x.append(float(row[0]))\n",
    "        y.append(float(row[1]))\n",
    "\n",
    "#print(\"x\",x)\n",
    "#print(\"y\",y)\n",
    "\n",
    "#plt.axis([0,3,0,1])\n",
    "\n",
    "###plt.plot(x, y, 'ro')\n",
    "#red circle\n",
    "\n",
    "###plt.savefig('plot.png')\n",
    "###plt.show()\n",
    "\n",
    "#########################\n",
    "#Nu kommer anpassningen\n",
    "pk=np.polyfit(x,y,2)\n",
    "print(pk)\n",
    "#x_fit innehåller fler punkter för att få en jämnare graf\n",
    "x_fit=list(np.linspace(0,6,30))\n",
    "y_fit=[]\n",
    "for i in range(0,30):\n",
    "    y_fit.append(pk[0]*(x_fit[i])**2+pk[1]*x_fit[i]+pk[2])\n",
    "\n",
    "plt.plot(x,y,'+')\n",
    "plt.plot(x_fit,y_fit,'--')"
   ]
  },
  {
   "cell_type": "code",
   "execution_count": null,
   "id": "9904a01f-29cf-4292-a8fe-3f4dcbbc7c8e",
   "metadata": {},
   "outputs": [],
   "source": []
  }
 ],
 "metadata": {
  "kernelspec": {
   "display_name": "Python 3 (ipykernel)",
   "language": "python",
   "name": "python3"
  },
  "language_info": {
   "codemirror_mode": {
    "name": "ipython",
    "version": 3
   },
   "file_extension": ".py",
   "mimetype": "text/x-python",
   "name": "python",
   "nbconvert_exporter": "python",
   "pygments_lexer": "ipython3",
   "version": "3.11.3"
  }
 },
 "nbformat": 4,
 "nbformat_minor": 5
}
