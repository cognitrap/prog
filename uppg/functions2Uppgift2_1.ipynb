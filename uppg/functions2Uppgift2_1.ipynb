{
 "cells": [
  {
   "cell_type": "markdown",
   "id": "b827dc6d-797d-483e-99e5-c8d83e8c048c",
   "metadata": {},
   "source": [
    "**Uppgift 2**"
   ]
  },
  {
   "cell_type": "code",
   "execution_count": 4,
   "id": "3e60e84a-1350-4463-b2dc-282ee989ed85",
   "metadata": {},
   "outputs": [
    {
     "name": "stdin",
     "output_type": "stream",
     "text": [
      "Ange rektangelns bredd 4\n",
      "Ange rektangelns höjd 6\n"
     ]
    },
    {
     "name": "stdout",
     "output_type": "stream",
     "text": [
      "Arean är  24.0\n",
      "Omkretsen är  20.0\n"
     ]
    }
   ],
   "source": [
    "def omkr(b,h):\n",
    "    o=2*b+2*h\n",
    "    return(o)\n",
    "\n",
    "def area(b,h):\n",
    "    a=b*h\n",
    "    return(a)\n",
    "\n",
    "b=float(input(\"Ange rektangelns bredd\"))\n",
    "h=float(input(\"Ange rektangelns höjd\"))\n",
    "\n",
    "print(\"Arean är \", area(b,h))\n",
    "print(\"Omkretsen är \", omkr(b,h))"
   ]
  },
  {
   "cell_type": "code",
   "execution_count": null,
   "id": "09a2d45b-7ece-4329-bfc5-dcc9e036b082",
   "metadata": {},
   "outputs": [],
   "source": []
  }
 ],
 "metadata": {
  "kernelspec": {
   "display_name": "Python 3 (ipykernel)",
   "language": "python",
   "name": "python3"
  },
  "language_info": {
   "codemirror_mode": {
    "name": "ipython",
    "version": 3
   },
   "file_extension": ".py",
   "mimetype": "text/x-python",
   "name": "python",
   "nbconvert_exporter": "python",
   "pygments_lexer": "ipython3",
   "version": "3.11.5"
  }
 },
 "nbformat": 4,
 "nbformat_minor": 5
}
