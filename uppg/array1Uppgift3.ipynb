{
 "cells": [
  {
   "cell_type": "markdown",
   "id": "729d493a-52d0-4ff9-993d-2bbd3735e201",
   "metadata": {},
   "source": [
    "### Uppgift 3"
   ]
  },
  {
   "cell_type": "code",
   "execution_count": 2,
   "id": "00caffe0-b300-45a7-a352-8ed76b767fcc",
   "metadata": {},
   "outputs": [
    {
     "name": "stdout",
     "output_type": "stream",
     "text": [
      "0 \n",
      " [[1.  0.4 0.  0.  0.  0.  0. ]\n",
      " [0.  0.  0.4 0.  0.  0.  0. ]\n",
      " [0.  0.6 0.  0.4 0.  0.  0. ]\n",
      " [0.  0.  0.6 0.  0.4 0.  0. ]\n",
      " [0.  0.  0.  0.6 0.  0.4 0. ]\n",
      " [0.  0.  0.  0.  0.6 0.  0. ]\n",
      " [0.  0.  0.  0.  0.  0.6 1. ]]\n",
      "3 \n",
      " [[1.    0.496 0.237 0.064 0.026 0.    0.   ]\n",
      " [0.    0.115 0.    0.115 0.    0.026 0.   ]\n",
      " [0.    0.    0.288 0.    0.154 0.    0.   ]\n",
      " [0.    0.259 0.    0.346 0.    0.115 0.   ]\n",
      " [0.    0.    0.346 0.    0.288 0.    0.   ]\n",
      " [0.    0.13  0.    0.259 0.    0.115 0.   ]\n",
      " [0.    0.    0.13  0.216 0.533 0.744 1.   ]]\n",
      "200 \n",
      " [[1.    0.635 0.391 0.229 0.12  0.048 0.   ]\n",
      " [0.    0.    0.    0.    0.    0.    0.   ]\n",
      " [0.    0.    0.    0.    0.    0.    0.   ]\n",
      " [0.    0.    0.    0.    0.    0.    0.   ]\n",
      " [0.    0.    0.    0.    0.    0.    0.   ]\n",
      " [0.    0.    0.    0.    0.    0.    0.   ]\n",
      " [0.    0.365 0.609 0.771 0.88  0.952 1.   ]]\n"
     ]
    }
   ],
   "source": [
    "import numpy as np\n",
    "\n",
    "#  Vi gör en noll-matris\n",
    "P = np.zeros((7,7))\n",
    "\n",
    "#  Fyller i det som inte är 0\n",
    "for i in range(5):\n",
    "    P[i][i+1]=0.4\n",
    "    P[i+2][i+1]=0.6\n",
    "P[0][0]=1; P[6][6]=1\n",
    "\n",
    "k=0\n",
    "Pk=P\n",
    "print(k,\"\\n\", Pk)\n",
    "for k in range(1,201):\n",
    "    Pk=np.dot(P,Pk)\n",
    "    if k == 200 or k == 3:  # Vi tittar på dessa\n",
    "        print(k,\"\\n\", np.round(Pk,3))"
   ]
  },
  {
   "cell_type": "markdown",
   "id": "e1e456be-0ad8-4147-991e-55954b4e5c7d",
   "metadata": {},
   "source": [
    "Första raden är $[1, 0.635, 0.391, 0.229, 0.12, 0.048, 0]$ och den sista är\n",
    "\n",
    "$[0, 0.365, 0.609, 0.771, 0.88, 0.952, 1]$\n",
    "\n",
    "Vad betyder detta?\n",
    "\n",
    "Om man börjar med 2 enheter $v=[0, 0, 1, 0, 0, 0, 0]$ så efter lång tid, $PPP...PPv_0$ har vi $v=[0.391, 0, 0, 0, 0, 0, 0.609]$ dvs sannolikheten för att vi har 0 enheter är 0,391 och sannolikheten för att vi har 6 enheter är 0,609. Total sannolikhet är 1; summan för varje kolonn i Pk är 1. Börjar vi med 3 enheter så är respektive sannolikheter 0,229 och 0,771."
   ]
  }
 ],
 "metadata": {
  "kernelspec": {
   "display_name": "Python 3 (ipykernel)",
   "language": "python",
   "name": "python3"
  },
  "language_info": {
   "codemirror_mode": {
    "name": "ipython",
    "version": 3
   },
   "file_extension": ".py",
   "mimetype": "text/x-python",
   "name": "python",
   "nbconvert_exporter": "python",
   "pygments_lexer": "ipython3",
   "version": "3.9.7"
  }
 },
 "nbformat": 4,
 "nbformat_minor": 5
}
