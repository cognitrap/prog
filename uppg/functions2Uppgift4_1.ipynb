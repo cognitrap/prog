{
 "cells": [
  {
   "cell_type": "markdown",
   "id": "1efb0588-fc8d-4a45-8b75-ef4f6d67ca87",
   "metadata": {},
   "source": [
    "**Uppgift 4**"
   ]
  },
  {
   "cell_type": "code",
   "execution_count": 5,
   "id": "4c05ff92-fc04-4bf9-88b2-4c32397fb721",
   "metadata": {},
   "outputs": [
    {
     "name": "stdout",
     "output_type": "stream",
     "text": [
      "vilken term ska beräknas?\n",
      "\n"
     ]
    },
    {
     "name": "stdin",
     "output_type": "stream",
     "text": [
      "ange ordningsindex 0,1,2...\n",
      " 6\n"
     ]
    },
    {
     "name": "stdout",
     "output_type": "stream",
     "text": [
      "termen är 2731\n"
     ]
    }
   ],
   "source": [
    "\"\"\"\n",
    "Löser en rekursiv ekvation\n",
    "a(n+1)=4a(n)-1\n",
    "\n",
    "\"\"\"\n",
    "#a0=1\n",
    "def rekur(n):\n",
    "  if n==0:\n",
    "    return 1\n",
    "  else:\n",
    "    return 4*rekur(n-1)-1\n",
    "\n",
    "\n",
    "#Beräknar termen med index n\n",
    "#n=3 ger 5*3*3*3=135 // 5*3**3\n",
    "#n=12 ger 2657205 // 5*3**12\n",
    "\n",
    "print('vilken term ska beräknas?\\n')\n",
    "a=int(input('ange ordningsindex 0,1,2...\\n'))\n",
    "term=rekur(a)\n",
    "print('termen är', term)"
   ]
  },
  {
   "cell_type": "code",
   "execution_count": null,
   "id": "7cd71ef9-a1dd-459f-92ea-e72156a3def1",
   "metadata": {},
   "outputs": [],
   "source": []
  }
 ],
 "metadata": {
  "kernelspec": {
   "display_name": "Python 3 (ipykernel)",
   "language": "python",
   "name": "python3"
  },
  "language_info": {
   "codemirror_mode": {
    "name": "ipython",
    "version": 3
   },
   "file_extension": ".py",
   "mimetype": "text/x-python",
   "name": "python",
   "nbconvert_exporter": "python",
   "pygments_lexer": "ipython3",
   "version": "3.9.7"
  }
 },
 "nbformat": 4,
 "nbformat_minor": 5
}
