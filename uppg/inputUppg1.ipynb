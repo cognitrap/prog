{
 "cells": [
  {
   "cell_type": "markdown",
   "id": "59265029-b3b7-4bda-8354-edc12822cc94",
   "metadata": {},
   "source": [
    "**Uppgift 1**"
   ]
  },
  {
   "cell_type": "code",
   "execution_count": 10,
   "id": "d80a0dd0-78b9-45c8-b766-84b082f7f3a0",
   "metadata": {},
   "outputs": [
    {
     "name": "stdin",
     "output_type": "stream",
     "text": [
      "Ange 2 tal separerade med mellanslag  -2 5\n"
     ]
    },
    {
     "name": "stdout",
     "output_type": "stream",
     "text": [
      "5.0 -2.0\n"
     ]
    }
   ],
   "source": [
    "a, b = input(\"Ange 2 tal separerade med mellanslag \").split()\n",
    "a = float(a)\n",
    "b = float(b)\n",
    "\n",
    "if a >= b: print(a, b)\n",
    "else: print(b, a)\n",
    "        "
   ]
  }
 ],
 "metadata": {
  "kernelspec": {
   "display_name": "Python 3 (ipykernel)",
   "language": "python",
   "name": "python3"
  },
  "language_info": {
   "codemirror_mode": {
    "name": "ipython",
    "version": 3
   },
   "file_extension": ".py",
   "mimetype": "text/x-python",
   "name": "python",
   "nbconvert_exporter": "python",
   "pygments_lexer": "ipython3",
   "version": "3.9.7"
  }
 },
 "nbformat": 4,
 "nbformat_minor": 5
}
