{
 "cells": [
  {
   "cell_type": "markdown",
   "id": "4241fac5-eae1-436f-a8f2-fb44f949ef97",
   "metadata": {},
   "source": [
    "**Uppgift 4**"
   ]
  },
  {
   "cell_type": "code",
   "execution_count": 4,
   "id": "a3facecd-3e7e-438a-86cd-e452b671870d",
   "metadata": {},
   "outputs": [
    {
     "name": "stdin",
     "output_type": "stream",
     "text": [
      "Ange din längd i hela centimetrar 170\n"
     ]
    },
    {
     "name": "stdout",
     "output_type": "stream",
     "text": [
      "Du är kortare än jag är\n"
     ]
    }
   ],
   "source": [
    "L = int(input(\"Ange din längd i hela centimetrar\"))\n",
    "\n",
    "if L > 172:\n",
    "    print(\"Du är längre än jag är\")\n",
    "if L < 172:\n",
    "    print(\"Du är kortare än jag är\")\n",
    "if L == 172:\n",
    "    print(\"Vi är lika långa\")\n"
   ]
  }
 ],
 "metadata": {
  "kernelspec": {
   "display_name": "Python 3 (ipykernel)",
   "language": "python",
   "name": "python3"
  },
  "language_info": {
   "codemirror_mode": {
    "name": "ipython",
    "version": 3
   },
   "file_extension": ".py",
   "mimetype": "text/x-python",
   "name": "python",
   "nbconvert_exporter": "python",
   "pygments_lexer": "ipython3",
   "version": "3.11.5"
  }
 },
 "nbformat": 4,
 "nbformat_minor": 5
}
