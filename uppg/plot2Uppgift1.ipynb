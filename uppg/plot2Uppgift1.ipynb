{
 "cells": [
  {
   "cell_type": "markdown",
   "metadata": {},
   "source": [
    "**Uppgift 1**"
   ]
  },
  {
   "cell_type": "code",
   "execution_count": 5,
   "metadata": {},
   "outputs": [
    {
     "data": {
      "image/png": "[encoded data removed]",
      "text/plain": [
       "<Figure size 432x288 with 1 Axes>"
      ]
     },
     "metadata": {
      "needs_background": "light"
     },
     "output_type": "display_data"
    }
   ],
   "source": [
    "import numpy\n",
    "import matplotlib.pyplot as plt\n",
    "\n",
    "\n",
    "Lx=[0.1,\n",
    "0.2,\n",
    "0.3,\n",
    "0.4,\n",
    "0.5,\n",
    "0.6,\n",
    "0.7,\n",
    "0.8,\n",
    "0.9,\n",
    "1,\n",
    "1.1,\n",
    "1.2,\n",
    "1.3,\n",
    "1.4,\n",
    "1.5\n",
    "]\n",
    "\n",
    "\n",
    "Ly=[0.00,\n",
    "0.01,\n",
    "0.03,\n",
    "0.06,\n",
    "0.11,\n",
    "0.18,\n",
    "0.26,\n",
    "0.36,\n",
    "0.45,\n",
    "0.54,\n",
    "0.60,\n",
    "0.63,\n",
    "0.59,\n",
    "0.47,\n",
    "0.24   \n",
    "]\n",
    "\n",
    "plt.plot(Lx, Ly, 'b+') #blue, markör + tecken\n",
    "\n",
    "plt.show()"
   ]
  },
  {
   "cell_type": "code",
   "execution_count": null,
   "metadata": {},
   "outputs": [],
   "source": []
  }
 ],
 "metadata": {
  "kernelspec": {
   "display_name": "Python 3 (ipykernel)",
   "language": "python",
   "name": "python3"
  },
  "language_info": {
   "codemirror_mode": {
    "name": "ipython",
    "version": 3
   },
   "file_extension": ".py",
   "mimetype": "text/x-python",
   "name": "python",
   "nbconvert_exporter": "python",
   "pygments_lexer": "ipython3",
   "version": "3.9.7"
  }
 },
 "nbformat": 4,
 "nbformat_minor": 4
}
