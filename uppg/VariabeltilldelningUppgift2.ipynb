{
 "cells": [
  {
   "cell_type": "markdown",
   "id": "e463429a-02a1-41fd-9c7f-984559ecaf06",
   "metadata": {},
   "source": [
    "**Uppgift 2**"
   ]
  },
  {
   "cell_type": "code",
   "execution_count": 1,
   "id": "550de00f-3c13-4707-8507-7c264522334f",
   "metadata": {},
   "outputs": [
    {
     "name": "stdout",
     "output_type": "stream",
     "text": [
      "<class 'float'>\n",
      "<class 'float'>\n",
      "<class 'int'>\n",
      "<class 'str'>\n",
      "11 5 5\n",
      "50\n",
      "15\n"
     ]
    }
   ],
   "source": [
    "#1\n",
    "a = 23.00\n",
    "print(type(a))\n",
    "\n",
    "#2\n",
    "a = 2/3\n",
    "print(type(a))\n",
    "\n",
    "#3\n",
    "a = 2//3\n",
    "print(type(a))\n",
    "\n",
    "#4\n",
    "a = '2//3'\n",
    "print(type(a))\n",
    "\n",
    "#5\n",
    "b = c = d = 5; b = 2*c; b += 1\n",
    "print(b,c,d)\n",
    "\n",
    "#6\n",
    "Anders = 5\n",
    "ANders = 6\n",
    "ANDers = 10\n",
    "print(Anders*ANDers)\n",
    "Anders += ANDers\n",
    "print(Anders)"
   ]
  },
  {
   "cell_type": "code",
   "execution_count": null,
   "id": "1aa1f556-e6b2-4122-983c-efeff47b5f20",
   "metadata": {},
   "outputs": [],
   "source": []
  }
 ],
 "metadata": {
  "kernelspec": {
   "display_name": "Python 3 (ipykernel)",
   "language": "python",
   "name": "python3"
  },
  "language_info": {
   "codemirror_mode": {
    "name": "ipython",
    "version": 3
   },
   "file_extension": ".py",
   "mimetype": "text/x-python",
   "name": "python",
   "nbconvert_exporter": "python",
   "pygments_lexer": "ipython3",
   "version": "3.9.7"
  }
 },
 "nbformat": 4,
 "nbformat_minor": 5
}
