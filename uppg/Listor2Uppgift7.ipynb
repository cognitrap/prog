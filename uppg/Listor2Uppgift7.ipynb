{
 "cells": [
  {
   "cell_type": "markdown",
   "id": "8cfcc0dd-ba9f-4c4f-a438-4a47254fe056",
   "metadata": {},
   "source": [
    "**Uppgift 7**"
   ]
  },
  {
   "cell_type": "code",
   "execution_count": 13,
   "id": "30d72ce1-5a1b-45a8-97d4-85be0da89f21",
   "metadata": {},
   "outputs": [
    {
     "name": "stdout",
     "output_type": "stream",
     "text": [
      "0 0.0\n",
      "10 0.17364817766693033\n",
      "20 0.3420201433256687\n",
      "30 0.49999999999999994\n",
      "40 0.6427876096865393\n",
      "50 0.766044443118978\n",
      "60 0.8660254037844386\n",
      "70 0.9396926207859083\n",
      "80 0.984807753012208\n",
      "90 1.0\n"
     ]
    }
   ],
   "source": [
    "import math as m\n",
    "deg=list(range(0,91,10))\n",
    "\n",
    "j=0\n",
    "for i in deg:\n",
    "    print(i, m.sin(deg[j]*m.pi/180))\n",
    "    j=j+1"
   ]
  },
  {
   "cell_type": "markdown",
   "id": "fa260e4c-1a42-4496-a7d4-bf557109bb28",
   "metadata": {},
   "source": [
    "\n",
    "\n",
    "Ett annat sätt att lösa problemet."
   ]
  },
  {
   "cell_type": "code",
   "execution_count": 15,
   "id": "cc4a472e-ca84-4b6f-b26c-da28726fd369",
   "metadata": {},
   "outputs": [
    {
     "name": "stdout",
     "output_type": "stream",
     "text": [
      "0 0.0\n",
      "10 0.17364817766693033\n",
      "20 0.3420201433256687\n",
      "30 0.49999999999999994\n",
      "40 0.6427876096865393\n",
      "50 0.766044443118978\n",
      "60 0.8660254037844386\n",
      "70 0.9396926207859083\n",
      "80 0.984807753012208\n",
      "90 1.0\n"
     ]
    }
   ],
   "source": [
    "import math as m\n",
    "deg=list(range(0,91,10))\n",
    "\n",
    "s=len(deg)\n",
    "for j in range(0,s):\n",
    "    print(deg[j], m.sin(deg[j]*m.pi/180))"
   ]
  },
  {
   "cell_type": "code",
   "execution_count": null,
   "id": "6d132cae-5045-4da2-ae0e-8b5872a5ef10",
   "metadata": {},
   "outputs": [],
   "source": []
  }
 ],
 "metadata": {
  "kernelspec": {
   "display_name": "Python 3 (ipykernel)",
   "language": "python",
   "name": "python3"
  },
  "language_info": {
   "codemirror_mode": {
    "name": "ipython",
    "version": 3
   },
   "file_extension": ".py",
   "mimetype": "text/x-python",
   "name": "python",
   "nbconvert_exporter": "python",
   "pygments_lexer": "ipython3",
   "version": "3.11.5"
  }
 },
 "nbformat": 4,
 "nbformat_minor": 5
}
