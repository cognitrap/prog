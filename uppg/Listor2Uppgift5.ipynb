{
 "cells": [
  {
   "cell_type": "markdown",
   "metadata": {},
   "source": [
    "**Uppgift 6**"
   ]
  },
  {
   "cell_type": "code",
   "execution_count": 46,
   "metadata": {},
   "outputs": [
    {
     "name": "stdin",
     "output_type": "stream",
     "text": [
      "Listlängd 1000000\n"
     ]
    },
    {
     "name": "stdout",
     "output_type": "stream",
     "text": [
      "Antalet händelser med 2 likadana tal är 100396\n",
      "Antalet händelser med 3 likadana tal är 10089\n",
      "Antalet händelser med \"endast\" par 90307\n"
     ]
    }
   ],
   "source": [
    "import numpy\n",
    "import random\n",
    "\n",
    "l=int(input(\"Listlängd\"))\n",
    "\n",
    "#Undersöker för listor som är l element långa, från 0 till l-1.\n",
    "#Tio olika tal från 0 till 9\n",
    "L=[]\n",
    "for i in range(l):\n",
    "    s=random.randrange(0,10)\n",
    "    L.append(s)\n",
    "\n",
    "n2=0\n",
    "for i in range(l-1): #listans längd\n",
    "    if L[i]==L[i+1]: n2=n2+1\n",
    "\n",
    "\n",
    "print(\"Antalet händelser med 2 likadana tal är\", n2)\n",
    "\n",
    "\n",
    "#Bonus 3 lika i följd\n",
    "n3=0\n",
    "for i in range(l-2): #listans längd\n",
    "    if (L[i]==L[i+1]) and (L[i+1]==L[i+2]): n3=n3+1\n",
    "\n",
    "print(\"Antalet händelser med 3 likadana tal är\", n3)\n",
    "\n",
    "#Superbonus\n",
    "#Nu kan antalet med endast ett par beräknas. Dvs 999 räknas inte som 2 st 99\n",
    "#Däremot kan vi inte justera i sin tur för 9999 som är 2 999 men ska räknas som 1 st 9999\n",
    "print(\"Antalet händelser med \\\"endast\\\" par\", n2-n3)"
   ]
  },
  {
   "cell_type": "code",
   "execution_count": null,
   "metadata": {},
   "outputs": [],
   "source": []
  },
  {
   "cell_type": "code",
   "execution_count": null,
   "metadata": {},
   "outputs": [],
   "source": []
  }
 ],
 "metadata": {
  "kernelspec": {
   "display_name": "Python 3 (ipykernel)",
   "language": "python",
   "name": "python3"
  },
  "language_info": {
   "codemirror_mode": {
    "name": "ipython",
    "version": 3
   },
   "file_extension": ".py",
   "mimetype": "text/x-python",
   "name": "python",
   "nbconvert_exporter": "python",
   "pygments_lexer": "ipython3",
   "version": "3.9.7"
  }
 },
 "nbformat": 4,
 "nbformat_minor": 4
}
