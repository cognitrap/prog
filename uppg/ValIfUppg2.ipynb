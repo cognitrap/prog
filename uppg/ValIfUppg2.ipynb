{
 "cells": [
  {
   "cell_type": "markdown",
   "metadata": {},
   "source": [
    "**Uppgift 2**"
   ]
  },
  {
   "cell_type": "code",
   "execution_count": 4,
   "metadata": {},
   "outputs": [
    {
     "name": "stdin",
     "output_type": "stream",
     "text": [
      "Ange x:  3\n",
      "Ange y:  5\n"
     ]
    },
    {
     "name": "stdout",
     "output_type": "stream",
     "text": [
      "Beloppet av skillnaden är:  2.0\n"
     ]
    }
   ],
   "source": [
    "x = float(input(\"Ange x: \"))\n",
    "y = float(input(\"Ange y: \"))\n",
    "\n",
    "if x > y:\n",
    "    d = x - y\n",
    "else:\n",
    "    d = y - x\n",
    "\n",
    "print(\"Beloppet av skillnaden är: \", d)"
   ]
  }
 ],
 "metadata": {
  "kernelspec": {
   "display_name": "Python 3 (ipykernel)",
   "language": "python",
   "name": "python3"
  },
  "language_info": {
   "codemirror_mode": {
    "name": "ipython",
    "version": 3
   },
   "file_extension": ".py",
   "mimetype": "text/x-python",
   "name": "python",
   "nbconvert_exporter": "python",
   "pygments_lexer": "ipython3",
   "version": "3.11.5"
  }
 },
 "nbformat": 4,
 "nbformat_minor": 4
}
