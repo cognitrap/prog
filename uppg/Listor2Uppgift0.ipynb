{
 "cells": [
  {
   "cell_type": "markdown",
   "id": "9871e1dc-1ce6-478d-8c7c-f87f7aa5da5e",
   "metadata": {},
   "source": [
    "**Uppgift 1**"
   ]
  },
  {
   "cell_type": "code",
   "execution_count": 22,
   "id": "f0d919bd-83c5-4c86-ae2e-60ada6d75340",
   "metadata": {},
   "outputs": [
    {
     "name": "stdout",
     "output_type": "stream",
     "text": [
      "Uppgift a) [1, 2, 3, 4, 5, 6, 7, 8, 9, 10, 11, 12, 13, 14, 15, 16, 17, 18, 19, 20, 21, 22, 23, 24, 25, 26, 27, 28, 29, 30, 31, 32, 33, 34, 35, 36, 37, 38, 39, 40, 41, 42, 43, 44, 45, 46, 47, 48, 49, 50, 51, 52, 53, 54, 55, 56, 57, 58, 59, 60, 61, 62, 63, 64, 65, 66, 67, 68, 69, 70, 71, 72, 73, 74, 75, 76, 77, 78, 79, 80, 81, 82, 83, 84, 85, 86, 87, 88, 89, 90, 91, 92, 93, 94, 95, 96, 97, 98, 99, 100]\n",
      "\n",
      "Uppgift b) [1, 3, 5, 7, 9, 11, 13, 15, 17, 19, 21, 23, 25, 27, 29, 31, 33, 35, 37, 39]\n",
      "\n",
      "Uppgift c) [50, 48, 46, 44, 42, 40, 38, 36, 34, 32, 30, 28, 26, 24, 22, 20, 18, 16, 14, 12, 10, 8, 6, 4, 2]\n",
      "\n",
      "Uppgift d)\n",
      "B   R\n",
      "1   1\n",
      "2   1\n",
      "3   1\n",
      "4   1\n",
      "5   1\n",
      "6   1\n",
      "2   2\n",
      "3   2\n",
      "4   2\n",
      "5   2\n",
      "6   2\n",
      "3   3\n",
      "4   3\n",
      "5   3\n",
      "6   3\n",
      "4   4\n",
      "5   4\n",
      "6   4\n",
      "5   5\n",
      "6   5\n",
      "6   6\n"
     ]
    }
   ],
   "source": [
    "L=list(range(1,101))  # a)\n",
    "print(\"Uppgift a)\", L)\n",
    "print()\n",
    "\n",
    "L=list(range(1,40,2))  # b)\n",
    "print(\"Uppgift b)\", L)\n",
    "print()\n",
    "\n",
    "L=list(range(50,1,-2))\n",
    "print(\"Uppgift c)\", L)\n",
    "print()\n",
    "\n",
    "print(\"Uppgift d)\")\n",
    "# Valde att loopa igenom alla värden och \n",
    "# lagra i listan om villkoret är uppfyllt\n",
    "# Finns många varianter, denna är nog inte smidigast\n",
    "\n",
    "# Genererar en lista med tal från 1 till 6, inklusivt.\n",
    "L=list(range(1,7))\n",
    "\n",
    "LutB=[]\n",
    "LutR=[]\n",
    "for R in L:\n",
    "    for B in L:\n",
    "        if B >= R:\n",
    "            LutB.append(B)\n",
    "            LutR.append(R)\n",
    "\n",
    "antal=len(LutB)  #Kan man ju tänka ut men ger större flexibilitet\n",
    "\n",
    "Lantal=list(range(0,antal))  # Kan inte använda tal som iterator\n",
    "\n",
    "print(\"B   R\")\n",
    "\n",
    "for i in Lantal:\n",
    "    print(LutB[i],\" \", LutR[i])"
   ]
  },
  {
   "cell_type": "code",
   "execution_count": null,
   "id": "02da1f42-63fd-4da1-89fc-0e17778241fe",
   "metadata": {},
   "outputs": [],
   "source": []
  }
 ],
 "metadata": {
  "kernelspec": {
   "display_name": "Python 3 (ipykernel)",
   "language": "python",
   "name": "python3"
  },
  "language_info": {
   "codemirror_mode": {
    "name": "ipython",
    "version": 3
   },
   "file_extension": ".py",
   "mimetype": "text/x-python",
   "name": "python",
   "nbconvert_exporter": "python",
   "pygments_lexer": "ipython3",
   "version": "3.9.7"
  }
 },
 "nbformat": 4,
 "nbformat_minor": 5
}
