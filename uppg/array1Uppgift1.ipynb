{
 "cells": [
  {
   "cell_type": "markdown",
   "metadata": {},
   "source": [
    "Uppgift 1"
   ]
  },
  {
   "cell_type": "code",
   "execution_count": 3,
   "metadata": {},
   "outputs": [
    {
     "name": "stdout",
     "output_type": "stream",
     "text": [
      "Lösningarna är \n",
      " [[ 15.5]\n",
      " [-25. ]\n",
      " [-15. ]]\n"
     ]
    }
   ],
   "source": [
    "import numpy as np\n",
    "A=np.array([[2,1,0],[0,-1,2],[3,1,2]])\n",
    "\n",
    "#Högerledet i ekvationssystemet\n",
    "b=np.array([2,4,1]).reshape(3,1)\n",
    "\n",
    "#Inversen\n",
    "Ainv=np.linalg.inv(A)\n",
    "\n",
    "#De obekanta\n",
    "X=Ainv@Ainv@Ainv@b\n",
    "\n",
    "print(\"Lösningarna är \\n\", X)"
   ]
  },
  {
   "cell_type": "code",
   "execution_count": 2,
   "metadata": {},
   "outputs": [
    {
     "name": "stdout",
     "output_type": "stream",
     "text": [
      "Lösningarna är \n",
      " [[ 15.5]\n",
      " [-25. ]\n",
      " [-15. ]]\n"
     ]
    }
   ],
   "source": [
    "import numpy as np\n",
    "A=np.array([[2,1,0],[0,-1,2],[3,1,2]])\n",
    "\n",
    "#Högerledet i ekvationssystemet\n",
    "b=np.array([2,4,1]).reshape(3,1)\n",
    "\n",
    "A3=A@A@A\n",
    "\n",
    "#Inversen\n",
    "Ainv=np.linalg.inv(A3)\n",
    "\n",
    "#De obekanta\n",
    "X=Ainv@b\n",
    "\n",
    "print(\"Lösningarna är \\n\", X)"
   ]
  },
  {
   "cell_type": "code",
   "execution_count": null,
   "metadata": {},
   "outputs": [],
   "source": []
  }
 ],
 "metadata": {
  "kernelspec": {
   "display_name": "Python 3 (ipykernel)",
   "language": "python",
   "name": "python3"
  },
  "language_info": {
   "codemirror_mode": {
    "name": "ipython",
    "version": 3
   },
   "file_extension": ".py",
   "mimetype": "text/x-python",
   "name": "python",
   "nbconvert_exporter": "python",
   "pygments_lexer": "ipython3",
   "version": "3.9.7"
  }
 },
 "nbformat": 4,
 "nbformat_minor": 4
}
