{
 "cells": [
  {
   "cell_type": "markdown",
   "metadata": {},
   "source": [
    "**Uppgift 4**"
   ]
  },
  {
   "cell_type": "markdown",
   "metadata": {},
   "source": [
    "range(start, stop, step)\n",
    "start, stop, step får endast vara heltal\n",
    "\n",
    "arange(start, stop, step)\n",
    "start, stop, step får lov att vara flyttal\n",
    "\n",
    "linspace(start, stop, number)\n",
    "number anger här antalet tal man vill ha\n",
    "start, stop får vara flyttal\n",
    "\n",
    "Skillnaderna ligger således i om det är heltal eller flyttal samt i om det är steglängd eller antalet intervall\n",
    "(det finns även andra skillnader men de har inte behandlats i kursen)"
   ]
  }
 ],
 "metadata": {
  "kernelspec": {
   "display_name": "Python 3 (ipykernel)",
   "language": "python",
   "name": "python3"
  },
  "language_info": {
   "codemirror_mode": {
    "name": "ipython",
    "version": 3
   },
   "file_extension": ".py",
   "mimetype": "text/x-python",
   "name": "python",
   "nbconvert_exporter": "python",
   "pygments_lexer": "ipython3",
   "version": "3.9.7"
  }
 },
 "nbformat": 4,
 "nbformat_minor": 4
}
