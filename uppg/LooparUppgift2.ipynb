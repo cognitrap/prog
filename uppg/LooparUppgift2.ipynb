{
 "cells": [
  {
   "cell_type": "markdown",
   "metadata": {},
   "source": [
    "**Uppgift 2**"
   ]
  },
  {
   "cell_type": "code",
   "execution_count": 4,
   "metadata": {},
   "outputs": [
    {
     "name": "stdout",
     "output_type": "stream",
     "text": [
      "1\n",
      "2\n",
      "3\n",
      "4\n",
      "4\n",
      "7\n",
      "7\n",
      "5\n",
      "12\n",
      "23\n",
      "[2, 4, 4, 12]\n"
     ]
    }
   ],
   "source": [
    "import copy\n",
    "L = [1, 2, 3, 4, 4, 7, 7, 5, 12, 23]\n",
    "M = copy.deepcopy(L)\n",
    "\n",
    "for i in L:\n",
    "    print(i)\n",
    "    if (i%2) != 0:\n",
    "        M.remove(i)\n",
    "print(M)"
   ]
  },
  {
   "cell_type": "code",
   "execution_count": null,
   "metadata": {},
   "outputs": [],
   "source": []
  }
 ],
 "metadata": {
  "kernelspec": {
   "display_name": "Python 3 (ipykernel)",
   "language": "python",
   "name": "python3"
  },
  "language_info": {
   "codemirror_mode": {
    "name": "ipython",
    "version": 3
   },
   "file_extension": ".py",
   "mimetype": "text/x-python",
   "name": "python",
   "nbconvert_exporter": "python",
   "pygments_lexer": "ipython3",
   "version": "3.11.5"
  }
 },
 "nbformat": 4,
 "nbformat_minor": 4
}
