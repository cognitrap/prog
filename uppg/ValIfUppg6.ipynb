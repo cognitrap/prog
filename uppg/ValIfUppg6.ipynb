{
 "cells": [
  {
   "cell_type": "markdown",
   "id": "e9e9e1b5-e93c-49d8-9c20-7687cdb207da",
   "metadata": {},
   "source": [
    "**Uppgift 6**"
   ]
  },
  {
   "cell_type": "code",
   "execution_count": 6,
   "id": "f17fc8f7-03bd-4302-911f-026ec08aa7fd",
   "metadata": {},
   "outputs": [
    {
     "name": "stdin",
     "output_type": "stream",
     "text": [
      "Ange ett heltal -6\n"
     ]
    },
    {
     "name": "stdout",
     "output_type": "stream",
     "text": [
      "Talet innehåller  1  siffror\n"
     ]
    }
   ],
   "source": [
    "L = input(\"Ange ett heltal\")\n",
    "\n",
    "nr = len(L)\n",
    "\n",
    "if int(L) < 0:\n",
    "    nr = nr - 1\n",
    "    print(\"Talet innehåller \", nr, \" siffror\")\n",
    "else:\n",
    "    print(\"Talet innehåller \", nr, \"siffror\")"
   ]
  },
  {
   "cell_type": "markdown",
   "id": "b087d3cd-0ecc-4bdd-9a4e-77133e83bd23",
   "metadata": {},
   "source": [
    "Man kan 'lura' programmet genom att ange -0. Programmet svarar då att talet innehåller 2 siffror."
   ]
  },
  {
   "cell_type": "code",
   "execution_count": null,
   "id": "6abf97d5-d028-4997-9c84-24eaa97b560b",
   "metadata": {},
   "outputs": [],
   "source": []
  }
 ],
 "metadata": {
  "kernelspec": {
   "display_name": "Python 3 (ipykernel)",
   "language": "python",
   "name": "python3"
  },
  "language_info": {
   "codemirror_mode": {
    "name": "ipython",
    "version": 3
   },
   "file_extension": ".py",
   "mimetype": "text/x-python",
   "name": "python",
   "nbconvert_exporter": "python",
   "pygments_lexer": "ipython3",
   "version": "3.9.7"
  }
 },
 "nbformat": 4,
 "nbformat_minor": 5
}
