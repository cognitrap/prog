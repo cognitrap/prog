{
 "cells": [
  {
   "cell_type": "markdown",
   "id": "7c388826-2cf0-4ee9-ac12-314ee89624d4",
   "metadata": {},
   "source": [
    "**Uppgift 3**"
   ]
  },
  {
   "cell_type": "code",
   "execution_count": 4,
   "id": "f0973739-752f-489e-acba-c3b9c33e7669",
   "metadata": {},
   "outputs": [
    {
     "name": "stdin",
     "output_type": "stream",
     "text": [
      "Ange x:  3\n",
      "Ange y:  7\n"
     ]
    },
    {
     "name": "stdout",
     "output_type": "stream",
     "text": [
      "Kvoten är:  2.0\n"
     ]
    }
   ],
   "source": [
    "x = float(input(\"Ange x: \"))\n",
    "y = float(input(\"Ange y: \"))\n",
    "\n",
    "if x >= y:\n",
    "    q = x // y\n",
    "else:\n",
    "    q = y // x\n",
    "\n",
    "print(\"Kvoten är: \", q)"
   ]
  },
  {
   "cell_type": "markdown",
   "id": "12aaed8f-6afb-4b5b-923f-febe4a429ef8",
   "metadata": {},
   "source": [
    "Ett alternativ är:"
   ]
  },
  {
   "cell_type": "code",
   "execution_count": 5,
   "id": "e7f6e707-2fa7-4954-acd1-6863062f0c20",
   "metadata": {},
   "outputs": [
    {
     "name": "stdin",
     "output_type": "stream",
     "text": [
      "Ange x:  3\n",
      "Ange y:  7\n"
     ]
    },
    {
     "name": "stdout",
     "output_type": "stream",
     "text": [
      "Kvoten är:  2.0\n"
     ]
    }
   ],
   "source": [
    "x = float(input(\"Ange x: \"))\n",
    "y = float(input(\"Ange y: \"))\n",
    "\n",
    "q = y // x\n",
    "if x >= y:\n",
    "    q = x // y\n",
    "\n",
    "print(\"Kvoten är: \", q)"
   ]
  }
 ],
 "metadata": {
  "kernelspec": {
   "display_name": "Python 3 (ipykernel)",
   "language": "python",
   "name": "python3"
  },
  "language_info": {
   "codemirror_mode": {
    "name": "ipython",
    "version": 3
   },
   "file_extension": ".py",
   "mimetype": "text/x-python",
   "name": "python",
   "nbconvert_exporter": "python",
   "pygments_lexer": "ipython3",
   "version": "3.9.7"
  }
 },
 "nbformat": 4,
 "nbformat_minor": 5
}
