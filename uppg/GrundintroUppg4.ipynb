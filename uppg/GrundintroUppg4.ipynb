{
 "cells": [
  {
   "cell_type": "markdown",
   "id": "f60edb91-b928-4112-ac34-2a8442839d70",
   "metadata": {},
   "source": [
    "**Uppgift 4**"
   ]
  },
  {
   "cell_type": "code",
   "execution_count": 12,
   "id": "1419ec5d-4025-42bb-9ee3-fa92fe5d8414",
   "metadata": {},
   "outputs": [
    {
     "name": "stdout",
     "output_type": "stream",
     "text": [
      "Tabellen som skrivs ut är not(A or B)\n",
      "A       B\n",
      "True, True > False\n",
      "True, False > False\n",
      "False, True > False\n",
      "False, False > True\n",
      "\n",
      "Tabellen som skrivs ut är not(A) and not(B)\n",
      "A       B\n",
      "True, True > False\n",
      "True, False > False\n",
      "False, True > False\n",
      "False, False > True\n"
     ]
    }
   ],
   "source": [
    "print('Tabellen som skrivs ut är not(A or B)')\n",
    "\n",
    "print('A       B')\n",
    "print('True, True >', not(True or True))\n",
    "print('True, False >', not(True or False))\n",
    "print('False, True >', not(False or True))\n",
    "print('False, False >', not(False or False))\n",
    "\n",
    "print('')\n",
    "print('Tabellen som skrivs ut är not(A) and not(B)')\n",
    "\n",
    "print('A       B')\n",
    "print('True, True >', not(True) and not(True))\n",
    "print('True, False >', not(True) and not(False))\n",
    "print('False, True >', not(False) and not(True))\n",
    "print('False, False >', not(False) and not(False))"
   ]
  }
 ],
 "metadata": {
  "kernelspec": {
   "display_name": "Python 3 (ipykernel)",
   "language": "python",
   "name": "python3"
  },
  "language_info": {
   "codemirror_mode": {
    "name": "ipython",
    "version": 3
   },
   "file_extension": ".py",
   "mimetype": "text/x-python",
   "name": "python",
   "nbconvert_exporter": "python",
   "pygments_lexer": "ipython3",
   "version": "3.9.7"
  }
 },
 "nbformat": 4,
 "nbformat_minor": 5
}
