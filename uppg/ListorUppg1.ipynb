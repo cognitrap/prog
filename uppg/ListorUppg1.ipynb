{
 "cells": [
  {
   "cell_type": "markdown",
   "id": "6efbc9c9-475b-40f5-87e8-f3c16492f237",
   "metadata": {},
   "source": [
    "**Uppgift 1**\n"
   ]
  },
  {
   "cell_type": "code",
   "execution_count": 6,
   "id": "4bba838c-9f8b-4a21-b442-3e2e780257ab",
   "metadata": {},
   "outputs": [
    {
     "name": "stdout",
     "output_type": "stream",
     "text": [
      "Element nr 3  11\n",
      "Lagt till 21 sist  [2, 9, 11, 18, 5, 4, 15, 7, 5, 21]\n",
      "Tagit bort en 5, den första  [2, 9, 11, 18, 4, 15, 7, 5, 21]\n"
     ]
    }
   ],
   "source": [
    "La = [2,9,11,18,5,4,15,7,5]\n",
    "print(\"Element nr 3 \", La[2])  # a)\n",
    "\n",
    "La.append(21)  # b)\n",
    "print(\"Lagt till 21 sist \", La)\n",
    "\n",
    "La.remove(5)  # c)\n",
    "print(\"Tagit bort en 5, den första \", La)"
   ]
  },
  {
   "cell_type": "code",
   "execution_count": null,
   "id": "20d49089-91eb-479f-99ef-0c45710ff5ee",
   "metadata": {},
   "outputs": [],
   "source": []
  }
 ],
 "metadata": {
  "kernelspec": {
   "display_name": "Python 3 (ipykernel)",
   "language": "python",
   "name": "python3"
  },
  "language_info": {
   "codemirror_mode": {
    "name": "ipython",
    "version": 3
   },
   "file_extension": ".py",
   "mimetype": "text/x-python",
   "name": "python",
   "nbconvert_exporter": "python",
   "pygments_lexer": "ipython3",
   "version": "3.11.5"
  }
 },
 "nbformat": 4,
 "nbformat_minor": 5
}
