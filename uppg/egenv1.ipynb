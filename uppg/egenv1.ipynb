{
 "cells": [
  {
   "cell_type": "markdown",
   "metadata": {},
   "source": [
    "Uppgift 2"
   ]
  },
  {
   "cell_type": "code",
   "execution_count": 1,
   "metadata": {},
   "outputs": [
    {
     "name": "stdout",
     "output_type": "stream",
     "text": [
      "Egenvärdena för n=1 är  [ 3. -1.]\n",
      "Egenvärdena för n=2 är  [9. 1.]\n",
      "Egenvärdena för n=3 är  [27. -1.]\n",
      "Egenvärdena för n=4 är  [81.  1.]\n",
      "Egenvärdena för n=5 är  [243.  -1.]\n"
     ]
    }
   ],
   "source": [
    "import numpy as np\n",
    "n=1; max=5\n",
    "A=np.array([[2,-1],[-3,0]])\n",
    "An=np.array([[1.,0.],[0.,1.]])\n",
    "\n",
    "for n in np.arange(1,max+1):\n",
    "    An=An@A\n",
    "    EV=np.linalg.eig(An)\n",
    "    print(\"Egenvärdena för n={} är \".format(n), EV[0])\n"
   ]
  },
  {
   "cell_type": "code",
   "execution_count": null,
   "metadata": {},
   "outputs": [],
   "source": []
  }
 ],
 "metadata": {
  "kernelspec": {
   "display_name": "Python 3 (ipykernel)",
   "language": "python",
   "name": "python3"
  },
  "language_info": {
   "codemirror_mode": {
    "name": "ipython",
    "version": 3
   },
   "file_extension": ".py",
   "mimetype": "text/x-python",
   "name": "python",
   "nbconvert_exporter": "python",
   "pygments_lexer": "ipython3",
   "version": "3.9.7"
  }
 },
 "nbformat": 4,
 "nbformat_minor": 4
}
