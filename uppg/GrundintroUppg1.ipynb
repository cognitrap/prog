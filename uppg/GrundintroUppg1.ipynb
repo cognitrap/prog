{
 "cells": [
  {
   "cell_type": "markdown",
   "metadata": {},
   "source": [
    "**Uppgift 2**"
   ]
  },
  {
   "cell_type": "code",
   "execution_count": 1,
   "metadata": {},
   "outputs": [
    {
     "name": "stdout",
     "output_type": "stream",
     "text": [
      "Programmet undersöker om 2 heltal har en gemensam faktor.\n",
      "Ange det minsta heltalet 5\n",
      "Ange det största heltalet 55\n",
      "Det är True att talen har en gemensam faktor\n"
     ]
    }
   ],
   "source": [
    "print(\"Programmet undersöker om 2 heltal har en gemensam faktor.\")\n",
    "a = int(input(\"Ange det minsta heltalet \"))\n",
    "b = int(input(\"Ange det största heltalet \"))\n",
    "\n",
    "print(\"Det är\", b//a == b/a, \"att talen har en gemensam faktor\")"
   ]
  },
  {
   "cell_type": "code",
   "execution_count": null,
   "metadata": {},
   "outputs": [],
   "source": []
  }
 ],
 "metadata": {
  "kernelspec": {
   "display_name": "Python 3 (ipykernel)",
   "language": "python",
   "name": "python3"
  },
  "language_info": {
   "codemirror_mode": {
    "name": "ipython",
    "version": 3
   },
   "file_extension": ".py",
   "mimetype": "text/x-python",
   "name": "python",
   "nbconvert_exporter": "python",
   "pygments_lexer": "ipython3",
   "version": "3.9.7"
  }
 },
 "nbformat": 4,
 "nbformat_minor": 4
}
