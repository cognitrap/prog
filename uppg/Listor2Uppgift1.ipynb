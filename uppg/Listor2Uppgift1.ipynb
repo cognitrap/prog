{
 "cells": [
  {
   "cell_type": "markdown",
   "metadata": {},
   "source": [
    "**Uppgift 2**"
   ]
  },
  {
   "cell_type": "code",
   "execution_count": 4,
   "metadata": {},
   "outputs": [
    {
     "name": "stdout",
     "output_type": "stream",
     "text": [
      "[4, 8, 6, 2, 3, 10, 9, 1, 5, 7]\n",
      "[3, 6, 7, 4, 1, 5, 8, 9, 10, 2]\n",
      "[4, 3, 8, 6, 6, 7, 2, 4, 3, 1, 10, 5, 9, 8, 1, 9, 5, 10, 7, 2]\n"
     ]
    }
   ],
   "source": [
    "import random\n",
    "\n",
    "A=random.sample(range(1,10+1),10)\n",
    "B=random.sample(range(1,10+1),10)\n",
    "l=len(A)\n",
    "print(A)\n",
    "print(B)\n",
    "\n",
    "AB=[]\n",
    "for i in range(0,l):\n",
    "    AB.append(A[i])\n",
    "    AB.append(B[i])\n",
    "print(AB)"
   ]
  },
  {
   "cell_type": "code",
   "execution_count": null,
   "metadata": {},
   "outputs": [],
   "source": []
  }
 ],
 "metadata": {
  "kernelspec": {
   "display_name": "Python 3 (ipykernel)",
   "language": "python",
   "name": "python3"
  },
  "language_info": {
   "codemirror_mode": {
    "name": "ipython",
    "version": 3
   },
   "file_extension": ".py",
   "mimetype": "text/x-python",
   "name": "python",
   "nbconvert_exporter": "python",
   "pygments_lexer": "ipython3",
   "version": "3.11.5"
  }
 },
 "nbformat": 4,
 "nbformat_minor": 4
}
