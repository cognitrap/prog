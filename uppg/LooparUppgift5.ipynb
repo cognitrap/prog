{
 "cells": [
  {
   "cell_type": "markdown",
   "id": "36c73d90-4b9d-4d27-a70d-a99c41817ea0",
   "metadata": {},
   "source": [
    "**Uppgift 5**"
   ]
  },
  {
   "cell_type": "code",
   "execution_count": 1,
   "id": "c66796fd-f351-4fa8-bae2-b0e942370963",
   "metadata": {},
   "outputs": [
    {
     "name": "stdout",
     "output_type": "stream",
     "text": [
      "perfekt  1\n",
      "perfekt  6\n",
      "perfekt  28\n",
      "perfekt  496\n",
      "perfekt  8128\n",
      "Hittar inga fler. Har sökt till och med  10000\n"
     ]
    }
   ],
   "source": [
    "max = 10000\n",
    "\n",
    "for j in range(1, max+1):\n",
    "    s = 1\n",
    "    for i in range(2, j//2+1):\n",
    "        if (j%i) == 0: s=s+i\n",
    "    if s == j: print(\"perfekt \", j)\n",
    "print(\"Hittar inga fler. Har sökt till och med \", max)"
   ]
  },
  {
   "cell_type": "markdown",
   "id": "ad83c0f6-ed23-4b44-b5c2-47904cfe5b7f",
   "metadata": {},
   "source": [
    "De tio första perfekta talen är:\n",
    "\n",
    "* 6 = 1 + 2 + 3\n",
    "* 28 = 1 + 2 + 4 + 7 + 14\n",
    "* 496 = 1 + 2 + 4 + 8 + 16 + 31 + 62 + 124 + 248\n",
    "* 8 128 = 1 + 2 + 4 + 8 + 16 + 32 + 64 + 127 + 254 + 508 + 1016 + 2032 + 4064\n",
    "* 33 550 336 = 16775168 +  8387584 + 4193792 + 2096896 + 1048448 + 524224 + 262112 + 131056 + 65528 + 32764 + 16382 + 8191 + 4096 + 2048 + 1024 + 512 + 256 + 128 + 64 + 32 + 16 + 8 + 4 + 2 + 1\n",
    "* 8 589 869 056\n",
    "* 137 438 691 328\n",
    "* 2 305 843 008 139 952 128\n",
    "* 2 658 455 991 569 831 744 654 692 615 953 842 176\n",
    "* 191 561 942 608 236 107 294 793 378 084 303 638 130 997 321 548 169 216\n",
    "\n",
    "(från wikipedia)"
   ]
  }
 ],
 "metadata": {
  "kernelspec": {
   "display_name": "Python 3 (ipykernel)",
   "language": "python",
   "name": "python3"
  },
  "language_info": {
   "codemirror_mode": {
    "name": "ipython",
    "version": 3
   },
   "file_extension": ".py",
   "mimetype": "text/x-python",
   "name": "python",
   "nbconvert_exporter": "python",
   "pygments_lexer": "ipython3",
   "version": "3.9.7"
  }
 },
 "nbformat": 4,
 "nbformat_minor": 5
}
