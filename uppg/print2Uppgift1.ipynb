{
 "cells": [
  {
   "cell_type": "markdown",
   "metadata": {},
   "source": [
    "**Uppgift 1**"
   ]
  },
  {
   "cell_type": "code",
   "execution_count": 5,
   "metadata": {},
   "outputs": [
    {
     "name": "stdout",
     "output_type": "stream",
     "text": [
      "En andragradsekvation kan anges på formen ax^2+bx+c=0\n"
     ]
    },
    {
     "name": "stdin",
     "output_type": "stream",
     "text": [
      "Ange koefficienten framför andragradstermen 3\n",
      "Ange koefficienten framför förstagradstermen 4\n",
      "Ange koefficienten framför konstant-termen 5\n"
     ]
    },
    {
     "name": "stdout",
     "output_type": "stream",
     "text": [
      "Andragradsekvationen är 3x^2+4x+5=0\n"
     ]
    }
   ],
   "source": [
    "print(\"En andragradsekvation kan anges på formen ax^2+bx+c=0\")\n",
    "a=input(\"Ange koefficienten framför andragradstermen\")\n",
    "b=input(\"Ange koefficienten framför förstagradstermen\")\n",
    "c=input(\"Ange koefficienten framför konstant-termen\")\n",
    "\n",
    "print(\"Andragradsekvationen är {}x^2+{}x+{}=0\".format(a,b,c))"
   ]
  },
  {
   "cell_type": "markdown",
   "metadata": {},
   "source": [
    "Med hjälp av .split() kan flera data läsas in samtidigt."
   ]
  },
  {
   "cell_type": "code",
   "execution_count": 4,
   "metadata": {},
   "outputs": [
    {
     "name": "stdout",
     "output_type": "stream",
     "text": [
      "En andragradsekvation kan anges på formen ax^2+bx+c=0\n"
     ]
    },
    {
     "name": "stdin",
     "output_type": "stream",
     "text": [
      "Ange koefficienterna i ordning enligt ovan, avskil med mellanslag 3 4 5\n"
     ]
    },
    {
     "name": "stdout",
     "output_type": "stream",
     "text": [
      "Andragradsekvationen är 3x^2+4x+5=0\n"
     ]
    }
   ],
   "source": [
    "print(\"En andragradsekvation kan anges på formen ax^2+bx+c=0\")\n",
    "a, b, c = input(\"Ange koefficienterna i ordning enligt ovan, avskilj med mellanslag\").split()\n",
    "\n",
    "print(\"Andragradsekvationen är {}x^2+{}x+{}=0\".format(a,b,c))"
   ]
  }
 ],
 "metadata": {
  "kernelspec": {
   "display_name": "Python 3 (ipykernel)",
   "language": "python",
   "name": "python3"
  },
  "language_info": {
   "codemirror_mode": {
    "name": "ipython",
    "version": 3
   },
   "file_extension": ".py",
   "mimetype": "text/x-python",
   "name": "python",
   "nbconvert_exporter": "python",
   "pygments_lexer": "ipython3",
   "version": "3.9.7"
  }
 },
 "nbformat": 4,
 "nbformat_minor": 4
}
