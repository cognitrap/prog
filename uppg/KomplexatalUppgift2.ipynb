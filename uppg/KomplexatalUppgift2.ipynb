{
 "cells": [
  {
   "cell_type": "markdown",
   "id": "096ba70b-9192-4872-b0cd-1de0b53d334f",
   "metadata": {},
   "source": [
    "**Uppgift 2**"
   ]
  },
  {
   "cell_type": "code",
   "execution_count": 1,
   "id": "f1a696d6-f478-4e53-8841-68f6eee68bb4",
   "metadata": {},
   "outputs": [
    {
     "name": "stdout",
     "output_type": "stream",
     "text": [
      "(0.0707372016677029+0.9974949866040544j)\n",
      "(0.0707372016677029+0.9974949866040544j)\n"
     ]
    }
   ],
   "source": [
    "import cmath\n",
    "\n",
    "x = 1.5\n",
    "\n",
    "#  Exponentialfunktionen i Eulers formel\n",
    "zL = cmath.exp(1j*x)\n",
    "print(zL)\n",
    "\n",
    "#  De trigonometriska funktionerna i Eulers formel\n",
    "zR = cmath.cos(x)+1j*cmath.sin(x)\n",
    "print(zR)"
   ]
  }
 ],
 "metadata": {
  "kernelspec": {
   "display_name": "Python 3 (ipykernel)",
   "language": "python",
   "name": "python3"
  },
  "language_info": {
   "codemirror_mode": {
    "name": "ipython",
    "version": 3
   },
   "file_extension": ".py",
   "mimetype": "text/x-python",
   "name": "python",
   "nbconvert_exporter": "python",
   "pygments_lexer": "ipython3",
   "version": "3.9.7"
  }
 },
 "nbformat": 4,
 "nbformat_minor": 5
}
