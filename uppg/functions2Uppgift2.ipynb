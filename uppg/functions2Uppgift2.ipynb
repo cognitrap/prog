{
 "cells": [
  {
   "cell_type": "markdown",
   "metadata": {},
   "source": [
    "**Uppgift 3**"
   ]
  },
  {
   "cell_type": "code",
   "execution_count": 8,
   "metadata": {},
   "outputs": [
    {
     "name": "stdout",
     "output_type": "stream",
     "text": [
      "0.49993517720782354\n"
     ]
    }
   ],
   "source": [
    "import numpy as np\n",
    "def meantrig(H):\n",
    "    sum=0\n",
    "    for i in H:\n",
    "        sum=sum+np.sin(i)**2\n",
    "    return(sum/len(H))\n",
    "\n",
    "L=list(np.arange(0,2*np.pi,0.001))\n",
    "print(meantrig(L))"
   ]
  },
  {
   "cell_type": "code",
   "execution_count": null,
   "metadata": {},
   "outputs": [],
   "source": []
  }
 ],
 "metadata": {
  "kernelspec": {
   "display_name": "Python 3 (ipykernel)",
   "language": "python",
   "name": "python3"
  },
  "language_info": {
   "codemirror_mode": {
    "name": "ipython",
    "version": 3
   },
   "file_extension": ".py",
   "mimetype": "text/x-python",
   "name": "python",
   "nbconvert_exporter": "python",
   "pygments_lexer": "ipython3",
   "version": "3.9.7"
  }
 },
 "nbformat": 4,
 "nbformat_minor": 4
}
