{
 "cells": [
  {
   "cell_type": "markdown",
   "metadata": {},
   "source": [
    "**Uppgift 4**"
   ]
  },
  {
   "cell_type": "code",
   "execution_count": 3,
   "metadata": {},
   "outputs": [
    {
     "name": "stdout",
     "output_type": "stream",
     "text": [
      "[2, 9, 7, 4, 10, 1, 6, 8, 3, 5]\n",
      "Antal element i ordning  5\n"
     ]
    }
   ],
   "source": [
    "import random\n",
    "\n",
    "L=random.sample(range(1,10+1),10)\n",
    "print(L)\n",
    "l=len(L)\n",
    "order=0\n",
    "for i in range(0,l-1):\n",
    "    if L[i+1]>L[i]:\n",
    "        order=order+1\n",
    "\n",
    "print(\"Antal element i ordning \", order)"
   ]
  }
 ],
 "metadata": {
  "kernelspec": {
   "display_name": "Python 3 (ipykernel)",
   "language": "python",
   "name": "python3"
  },
  "language_info": {
   "codemirror_mode": {
    "name": "ipython",
    "version": 3
   },
   "file_extension": ".py",
   "mimetype": "text/x-python",
   "name": "python",
   "nbconvert_exporter": "python",
   "pygments_lexer": "ipython3",
   "version": "3.9.7"
  }
 },
 "nbformat": 4,
 "nbformat_minor": 4
}
