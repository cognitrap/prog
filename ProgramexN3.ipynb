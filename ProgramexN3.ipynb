{
 "cells": [
  {
   "cell_type": "markdown",
   "metadata": {},
   "source": [
    "#### [1 Taylorpolynom](taylorp.ipynb)\n",
    "\n",
    "#### [2 Derivata och stabilitet](derivative1.ipynb)\n",
    "\n",
    "#### [3 Glidande medelvärde](movingaver.ipynb)\n",
    "\n",
    "#### [4 Rutinövningar1](rutin1.ipynb)\n",
    "\n",
    "#### [5 Integraler](quad1.ipynb)"
   ]
  },
  {
   "cell_type": "code",
   "execution_count": null,
   "metadata": {},
   "outputs": [],
   "source": []
  }
 ],
 "metadata": {
  "kernelspec": {
   "display_name": "Python 3",
   "language": "python",
   "name": "python3"
  },
  "language_info": {
   "codemirror_mode": {
    "name": "ipython",
    "version": 3
   },
   "file_extension": ".py",
   "mimetype": "text/x-python",
   "name": "python",
   "nbconvert_exporter": "python",
   "pygments_lexer": "ipython3",
   "version": "3.8.5"
  }
 },
 "nbformat": 4,
 "nbformat_minor": 4
}
