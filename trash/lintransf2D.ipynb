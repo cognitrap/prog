{
 "cells": [
  {
   "cell_type": "markdown",
   "metadata": {},
   "source": [
    "Vi definierar en punkt genom b=(x1,y1). Spegla den i x-axeln genom $c=M_xb$ där $$M_{x}=\\left(\\begin{array}{cc}\n",
    "1 & 0\\\\\n",
    "0 & -1\n",
    "\\end{array}\\right)$$\n",
    "\n",
    "Vi använder en widget i form av glidare för att ange utgångspunkten som sedan speglas med hjälp av matrisen."
   ]
  },
  {
   "cell_type": "code",
   "execution_count": 1,
   "metadata": {},
   "outputs": [
    {
     "data": {
      "application/vnd.jupyter.widget-view+json": {
       "model_id": "30ff41574c54476da5e0c7c263b630d0",
       "version_major": 2,
       "version_minor": 0
      },
      "text/plain": [
       "interactive(children=(IntSlider(value=0, description='x1', max=5, min=-5), IntSlider(value=0, description='y1'…"
      ]
     },
     "metadata": {},
     "output_type": "display_data"
    },
    {
     "data": {
      "text/plain": [
       "<function __main__.f(x1, y1)>"
      ]
     },
     "execution_count": 1,
     "metadata": {},
     "output_type": "execute_result"
    }
   ],
   "source": [
    "from ipywidgets import interact\n",
    "import numpy as np\n",
    "import matplotlib.pyplot as plt\n",
    "\n",
    "\n",
    "def f(x1,y1):\n",
    "    #%matplotlib qt\n",
    "    b=np.array([x1,y1]).reshape(2,1) #utgångspunkten, kolonnmatris\n",
    "    Mx=np.array([[1,0],[0,-1]]) #speglingsmatrisen\n",
    "    c=Mx@b #den speglade punkten\n",
    "\n",
    "    plt.plot(b[0],b[1],\"o\")\n",
    "    plt.plot(c[0],c[1], \"+\")\n",
    "    \n",
    "    #låser fast x- och y-axel\n",
    "    plt.ylim(-6, 6)\n",
    "    plt.xlim(-6, 6)\n",
    "    plt.show()\n",
    "    return (x1,y1)\n",
    "\n",
    "interact(f, x1=(-5,5), y1=(-5,5))\n"
   ]
  },
  {
   "cell_type": "markdown",
   "metadata": {},
   "source": [
    "**Uppgift 1**\n",
    "\n",
    "Använd föregående exempel som utgångspunkt och rotera en punkt runt origo. Använd en glidare för punktens rotationsvinkel. Punktens läge ska också anges med glidare. Matrisen för rotation i planet ges av\n",
    "$$\n",
    "R_{\\theta}=\\left(\\begin{array}{rr}\n",
    "\\cos\\theta & -\\sin\\theta\\\\\n",
    "\\sin\\theta & \\cos\\theta\n",
    "\\end{array}\\right) $$"
   ]
  },
  {
   "cell_type": "code",
   "execution_count": 1,
   "metadata": {},
   "outputs": [
    {
     "data": {
      "application/vnd.jupyter.widget-view+json": {
       "model_id": "22bab64cc3db41a89321ebccabc9cedf",
       "version_major": 2,
       "version_minor": 0
      },
      "text/plain": [
       "interactive(children=(FloatSlider(value=0.0, description='x1', max=10.0, min=-10.0), FloatSlider(value=0.0, de…"
      ]
     },
     "metadata": {},
     "output_type": "display_data"
    },
    {
     "data": {
      "text/plain": [
       "<function __main__.f(x1, y1, vink)>"
      ]
     },
     "execution_count": 1,
     "metadata": {},
     "output_type": "execute_result"
    }
   ],
   "source": [
    "from ipywidgets import interact\n",
    "import numpy as np\n",
    "import matplotlib.pyplot as plt\n",
    "\n",
    "def f(x1,y1,vink):\n",
    "    b=np.array([x1,y1]).reshape(2,1) #utgångspunkten, kolonnmatris\n",
    "    Mx=np.array([[np.cos(vink),-np.sin(vink)],[np.sin(vink),np.cos(vink)]]) #rotationsmatrisen\n",
    "    c=Mx@b #den roterade punkten\n",
    "\n",
    "    plt.plot(b[0],b[1],\"o\")\n",
    "    plt.plot(c[0],c[1], \"+\")\n",
    "    \n",
    "    #låser fast x- och y-axel\n",
    "    plt.ylim(-10, 10)\n",
    "    plt.xlim(-10, 10)\n",
    "    plt.show()\n",
    "    return (x1,y1,vink)\n",
    "\n",
    "interact(f, x1=(-10,10,0.1), y1=(-10,10,0.1),vink=(-6.3,6.3,0.1))"
   ]
  },
  {
   "cell_type": "code",
   "execution_count": null,
   "metadata": {},
   "outputs": [],
   "source": []
  }
 ],
 "metadata": {
  "kernelspec": {
   "display_name": "Python 3 (ipykernel)",
   "language": "python",
   "name": "python3"
  },
  "language_info": {
   "codemirror_mode": {
    "name": "ipython",
    "version": 3
   },
   "file_extension": ".py",
   "mimetype": "text/x-python",
   "name": "python",
   "nbconvert_exporter": "python",
   "pygments_lexer": "ipython3",
   "version": "3.9.7"
  }
 },
 "nbformat": 4,
 "nbformat_minor": 4
}
