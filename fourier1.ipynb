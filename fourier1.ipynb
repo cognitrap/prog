{
 "cells": [
  {
   "cell_type": "markdown",
   "metadata": {},
   "source": [
    "# Beräkning av Fourier serier\n",
    "\n",
    "\n",
    "## Kommandot fourier_series\n",
    "\n",
    "Det grundläggande kommandot har formen `fourier_series(funktion, (variabel, nedre, övre))`. Kommandona finns i sympy. Hela vägen till modulen i sympy är:\n",
    "`sympy.series.fourier.fourier_series(f, limits=None, finite=True)`. Detta innebär att vi skriver `from sympy import fourier_series` och sedan anropar denna med just `fourier_series`. Vi behöver inte de andra sakerna i `sympy.series.fourier`.\n",
    "\n",
    "sympy är en modul för python som gör det möjligt att göra symboliska beräkningar. Symboliska beräkningar är tex:\n",
    "\n",
    "* algebraiska förenklingar: $x²/x=x$\n",
    "\n",
    "* Deriveringar: $Dx²=2x$\n",
    "\n",
    "För att kontrollera vissa parametrar används ipywidgets (som ger tex glidare).\n",
    "\n",
    "**ipywidgets fungerar inte på replit.com.** Så kör på din dators egen python eller använd en kod-cell här i jupyter och skriv program. För att skapa en ny cell så klicka på plustecknet ovan, sidan om spara och klippa. Det som du skriver är borta nästa gång du loggar in, du kan inte förstöra något.\n",
    "Om du vill spara en utskrift så gör t.ex. följande(koden förklaras senare):\n",
    "\n",
    "```\n",
    "from sympy import fourier_series, pi\n",
    "from sympy.abc import x\n",
    "from sympy.plotting import plot  # Vi plottar med sympy.\n",
    "from ipywidgets import interact\n",
    "\n",
    "\n",
    "def g(N):\n",
    "    f = x**2  # Funktionen\n",
    "    s = fourier_series(f, (x, -pi, pi))  # Beräkna fourier serien\n",
    "    s1 = s.truncate(N)\n",
    "    print(s1)\n",
    "    \n",
    "    pl=plot(f,s1, (x,-4,4), show=False)  # Plottar både f och s1\n",
    "    pl.save(\"min.png\")  # Sparar filen med namnet min.png\n",
    "    pl.show()\n",
    "    return N\n",
    "\n",
    "\n",
    "interact(g, N=(1,8))\n",
    "```"
   ]
  },
  {
   "cell_type": "markdown",
   "metadata": {},
   "source": [
    "Vi ber om fourierserien för $f(x)=x^2$.\n"
   ]
  },
  {
   "cell_type": "code",
   "execution_count": 1,
   "metadata": {},
   "outputs": [
    {
     "name": "stdout",
     "output_type": "stream",
     "text": [
      "-4*cos(x) + cos(2*x) - 4*cos(3*x)/9 + cos(4*x)/4 + pi**2/3\n"
     ]
    },
    {
     "data": {
      "text/latex": [
       "$\\displaystyle - 4 \\cos{\\left(x \\right)} + \\cos{\\left(2 x \\right)} - \\frac{4 \\cos{\\left(3 x \\right)}}{9} + \\frac{\\cos{\\left(4 x \\right)}}{4} + \\frac{\\pi^{2}}{3}$"
      ],
      "text/plain": [
       "-4*cos(x) + cos(2*x) - 4*cos(3*x)/9 + cos(4*x)/4 + pi**2/3"
      ]
     },
     "execution_count": 1,
     "metadata": {},
     "output_type": "execute_result"
    }
   ],
   "source": [
    "from sympy import fourier_series, pi\n",
    "from sympy.abc import x  # Importerar x som en symbol\n",
    "\n",
    "f = x**2  # Funktionen uttryckt symboliskt\n",
    "\n",
    "s = fourier_series(f, (x, -pi, pi))  # Beräkna fourier serien symboliskt\n",
    "\n",
    "s1 = s.truncate(n=5)  # Antal termer\n",
    "\n",
    "print(s1)\n",
    "\n",
    "# Kan få snygga utskrifter i Jupyter\n",
    "s1"
   ]
  },
  {
   "cell_type": "markdown",
   "metadata": {},
   "source": [
    "Widgets kan användas för att styra antalet termer. Vi använder en widget som kallas glidare. Dra med musen eller klicka och använd piltangenter. Koden i föregående exempel stoppas in i en def som sedan anropas av interact som finns i ipywidgets.\n",
    "\n",
    "'widget' står för (eventuellt) window gadget och enligt svenska datatermsgruppen är den svenska benämningen '(grafisk) gränssnittskomponent'. En widget är ett element i ett grafiskt gränsnitt som tex, kan vara knappar, popup-fönster, ikoner, dialogrutor. Flera widgets bildar ett grafiskt gränssnitt till ett program. Uttrycket 'fönsterpryl' förekommer också. 'gadget' betyder pryl, manick."
   ]
  },
  {
   "cell_type": "code",
   "execution_count": 1,
   "metadata": {},
   "outputs": [
    {
     "data": {
      "application/vnd.jupyter.widget-view+json": {
       "model_id": "bb333c9e5f1f4baaa7a566644b638570",
       "version_major": 2,
       "version_minor": 0
      },
      "text/plain": [
       "interactive(children=(IntSlider(value=3, description='N', max=6, min=1), Output()), _dom_classes=('widget-inte…"
      ]
     },
     "metadata": {},
     "output_type": "display_data"
    },
    {
     "data": {
      "text/plain": [
       "<function __main__.g(N)>"
      ]
     },
     "execution_count": 1,
     "metadata": {},
     "output_type": "execute_result"
    }
   ],
   "source": [
    "from sympy import fourier_series, pi\n",
    "from sympy.abc import x\n",
    "from ipywidgets import interact\n",
    "\n",
    "def g(N):\n",
    "    f = x**2  # Funktionen\n",
    "    s = fourier_series(f, (x, -pi, pi))  # Beräkna fourier serien\n",
    "    s1 = s.truncate(N)\n",
    "    print(s1)\n",
    "    return N\n",
    "\n",
    "\n",
    "interact(g, N=(1,6))"
   ]
  },
  {
   "cell_type": "markdown",
   "metadata": {},
   "source": [
    "Och vi vill naturligtvis rita fourierserien för att se anpassningen."
   ]
  },
  {
   "cell_type": "code",
   "execution_count": 2,
   "metadata": {},
   "outputs": [
    {
     "data": {
      "application/vnd.jupyter.widget-view+json": {
       "model_id": "16fb1e482e0a4f829e1996d8f85901db",
       "version_major": 2,
       "version_minor": 0
      },
      "text/plain": [
       "interactive(children=(IntSlider(value=4, description='N', max=8, min=1), Output()), _dom_classes=('widget-inte…"
      ]
     },
     "metadata": {},
     "output_type": "display_data"
    },
    {
     "data": {
      "text/plain": [
       "<function __main__.g(N)>"
      ]
     },
     "execution_count": 2,
     "metadata": {},
     "output_type": "execute_result"
    }
   ],
   "source": [
    "from sympy import fourier_series, pi\n",
    "from sympy.abc import x\n",
    "from sympy.plotting import plot  # Vi plottar med sympy.\n",
    "from ipywidgets import interact\n",
    "\n",
    "\n",
    "def g(N):\n",
    "    f = x**2  # Funktionen\n",
    "    s = fourier_series(f, (x, -pi, pi))  # Beräkna fourier serien\n",
    "    s1 = s.truncate(N)\n",
    "    print(s1)\n",
    "    \n",
    "    plot(f,s1, (x,-4,4))  # Plottar både f och s1\n",
    "   \n",
    "    return N\n",
    "\n",
    "\n",
    "interact(g, N=(1,8))"
   ]
  },
  {
   "cell_type": "markdown",
   "metadata": {},
   "source": [
    "## Serier allmänt\n",
    "\n",
    "Om man beräknat ett uttryck för en fourier-serie så kan sympy hantera formeln symboliskt, även indexet, och beräkna summan upp till ett visst antal termer; det görs med list-förståelse (list comprehension). Detta kan användas för att kontrollera att en viss föreslagen fourier-serie är rimlig och i alla fall för ögat syns konvergera mot önskad funktion. \n",
    "\n",
    "Om vi har en serie som ges av uttrycket \n",
    "\n",
    "$$\n",
    "\\frac{1}{2}-\\sum_{n=1}^{\\infty}\\frac{1}{\\pi n}\\sin\\left(2\\pi nx\\right)\n",
    "$$\n",
    "\n",
    "som approximerar en sågtandad våg så kan vi 'se' hur bra det ser ut.\n",
    "\n",
    "Vi använder kommandot `summation(f, [i,a,b])`. Vi anger funktionen f, indexet är i, gränserna är a respektive b. Summationen är symbolisk men man kan skriva plot och sympy tar hand om omvandlingen."
   ]
  },
  {
   "cell_type": "code",
   "execution_count": 3,
   "metadata": {},
   "outputs": [
    {
     "name": "stdout",
     "output_type": "stream",
     "text": [
      "-(sin(2*pi*x) + sin(4*pi*x)/2 + sin(6*pi*x)/3 + sin(8*pi*x)/4 + sin(10*pi*x)/5 + sin(12*pi*x)/6)/pi + 0.5\n"
     ]
    },
    {
     "data": {
      "image/png": "[encoded data removed]",
      "text/plain": [
       "<Figure size 640x480 with 1 Axes>"
      ]
     },
     "metadata": {},
     "output_type": "display_data"
    },
    {
     "data": {
      "text/plain": [
       "<sympy.plotting.plot.Plot at 0x7ff68b794850>"
      ]
     },
     "execution_count": 3,
     "metadata": {},
     "output_type": "execute_result"
    }
   ],
   "source": [
    "from sympy import summation, symbols, cos, sin, pi\n",
    "from sympy.plotting import plot\n",
    "\n",
    "\n",
    "# I sympy måste vi noga ange det som ska vara symboler\n",
    "i = symbols('i', integer=True)  # Symboler för heltal\n",
    "x = symbols('x')  # Behöver lite fler symboler\n",
    "\n",
    "\n",
    "# Här följer den summa av fouriertermer jag vill beräkna, se ovan. Satt summan från 1 till 6.\n",
    "SF=1/2-summation(1 / (pi*i) * sin(2*pi*i*x), [i, 1, 6])\n",
    "\n",
    "print(SF)\n",
    "\n",
    "plot(SF,(x,-1,1))\n"
   ]
  },
  {
   "cell_type": "markdown",
   "metadata": {},
   "source": [
    "## Fourier och Taylor"
   ]
  },
  {
   "cell_type": "markdown",
   "metadata": {},
   "source": [
    "Didaktiskt kan det vara värt att jämföra Taylorutveckling med Fourier-serie. Vi behöver importera `series` från sympy för att göra Taylorutveckling.\n",
    "\n",
    "\n",
    "`series(cos(x),x)` ger utvecklingen av cosinus kring 0, variabeln är x.\n",
    "\n",
    "\n",
    "`series(cos(x),x,x0=2,n=9)` ger utvecklingen kring 2 och med 9 termer. Förinställt är utveckling kring 0 och n=6.\n",
    "\n",
    "\n",
    "Vi väljer i exemplet nedan att utgå från $f(x)=e^x$."
   ]
  },
  {
   "cell_type": "code",
   "execution_count": 3,
   "metadata": {},
   "outputs": [
    {
     "data": {
      "application/vnd.jupyter.widget-view+json": {
       "model_id": "e87fb63309844efd990b9b00166d03b4",
       "version_major": 2,
       "version_minor": 0
      },
      "text/plain": [
       "interactive(children=(IntSlider(value=2, description='N', max=8, min=2), IntSlider(value=2, description='M', m…"
      ]
     },
     "metadata": {},
     "output_type": "display_data"
    },
    {
     "data": {
      "text/plain": [
       "<function __main__.g(N=2, M=2)>"
      ]
     },
     "execution_count": 3,
     "metadata": {},
     "output_type": "execute_result"
    }
   ],
   "source": [
    "from sympy import fourier_series, pi, series, simplify\n",
    "from sympy.abc import x\n",
    "from sympy.functions import exp\n",
    "from sympy.plotting import plot\n",
    "\n",
    "from ipywidgets import interact\n",
    "\n",
    "\n",
    "def g(N=2,M=2):\n",
    "    f = exp(x)  # Funktionen\n",
    "    \n",
    "    # Fourier\n",
    "    s = fourier_series(f, (x, -2, 2)).truncate(N)  # Beräkna fourier serien\n",
    "    ss = simplify(s)  # Hjälper ibland\n",
    "    print(\"s= \", s,\"\\n\")  # Kontroll\n",
    "    print(\"ss= \", ss,\"\\n\")  # Kontroll\n",
    "    \n",
    "    # Taylor\n",
    "    r = series(f,x,x0=0,n=M).removeO()  # Beräkna Taylor serien; ta bort resttermen\n",
    "    print(\"r= \", r)  # Kontroll\n",
    "    \n",
    "    # Plot\n",
    "    plt = plot(f,s,r,(x,-2,2),show = False)\n",
    "    plt[0].label = \"$exp(x)$\"  # De olika graferna nås med index\n",
    "    plt[1].label = \"$N\\, Fourier$\"  # Observera LaTeX\n",
    "    plt[2].label = \"$M\\, Taylor$\"\n",
    "    \n",
    "    plt[0].line_color = \"r\"\n",
    "    plt[1].line_color = \"b\"\n",
    "    plt[2].line_color = \"g\"\n",
    "    plt.legend = True\n",
    "    plt.show()\n",
    "    return N,M\n",
    "\n",
    "\n",
    "interact(g, N=(2,8), M=(2,8))"
   ]
  },
  {
   "cell_type": "markdown",
   "metadata": {},
   "source": []
  },
  {
   "cell_type": "markdown",
   "metadata": {},
   "source": [
    "## Uppgifter\n",
    "\n",
    "**Uppgift 1**\n",
    "Plotta delsummor för olika n. Vilken funktion är det som återskapas? Använd kommandot summation såsom illustrerats.\n",
    "\n",
    "\n",
    "$$\n",
    "\\sum_{n=0}^{N}\\:\\frac{4}{\\pi\\left(2n+1\\right)}\\sin\\left(\\left(2n+1\\right)x\\right)\n",
    "$$\n",
    "\n",
    "[Lösningsexempel](./uppg/fourier1Uppgift1.ipynb)"
   ]
  },
  {
   "cell_type": "markdown",
   "metadata": {},
   "source": [
    "**Uppgift 2**\n",
    "\n",
    "Stegfunktionen heter Heaviside(). Se exempel i nästa cell.\n"
   ]
  },
  {
   "cell_type": "code",
   "execution_count": 5,
   "metadata": {},
   "outputs": [
    {
     "name": "stdout",
     "output_type": "stream",
     "text": [
      "0\n",
      "0\n",
      "0\n",
      "0\n",
      "0\n",
      "1/2\n",
      "1\n",
      "1\n",
      "1\n",
      "1\n"
     ]
    },
    {
     "data": {
      "image/png": "[encoded data removed]",
      "text/plain": [
       "<Figure size 640x480 with 1 Axes>"
      ]
     },
     "metadata": {},
     "output_type": "display_data"
    },
    {
     "data": {
      "text/plain": [
       "<sympy.plotting.plot.Plot at 0x7faceddd0f10>"
      ]
     },
     "execution_count": 5,
     "metadata": {},
     "output_type": "execute_result"
    }
   ],
   "source": [
    "from sympy import Heaviside\n",
    "from sympy.abc import x\n",
    "\n",
    "for i in range(-5,5):\n",
    "    print(Heaviside(i))\n",
    "\n",
    "plot(Heaviside(x))  # plotkommando i sympy"
   ]
  },
  {
   "cell_type": "markdown",
   "metadata": {},
   "source": [
    "Plotta Heaviside, fyrkantfunktionen och en sinus gånger fyrkantsfunktionen.\n",
    "Du måste ha:\n",
    "    \n",
    "```\n",
    "from sympy import Heaviside,symbols, sin\n",
    "from sympy.abc import x\n",
    "from sympy.plotting import plot\n",
    "```\n",
    "\n",
    "Ange fönstret med a respektive b. Fyrkant ska konstrueras från Heaviside. Gör en def för varje funktion, 3 stycken.\n",
    "\n",
    "[Lösningsförslag](./uppg/fourier1Uppgift2.ipynb)"
   ]
  },
  {
   "cell_type": "markdown",
   "metadata": {},
   "source": [
    "**Uppgift 3**\n",
    "\n",
    "Att plotta ett spektrum innebär att man plottar fourierkoefficienterna i en graf. Man har då vinkelfrekvensen på x-axeln eller multipel av grund-vinkelfrekvensen och amplituden/koefficienten på y-axeln.\n",
    "\n",
    "För att få ut termerna (inte koefficienterna) kan man skriva\n",
    "\n",
    "```\n",
    "cosout = []\n",
    "    cosout.append(s.a0)\n",
    "    for i in range(1,N):\n",
    "        cosout.append(s.an.coeff(i))\n",
    "    print(cosout)\n",
    "```\n",
    "\n",
    "\n",
    "Där s i koden är från typiskt `s = fourier_series(f, (x, -pi, pi))`. \n",
    "\n",
    "\n",
    "Förhållandet mellan termer och koefficienter kan kännas lite förvirrande. Termerna, tex. $\\frac{5}{3}\\sin(2\\pi x)$ måste skiljas från koefficienten som är $\\frac{5}{3}$ .\n",
    "\n",
    "\n",
    "För att få ut termerna används en metod: s.a0 ger $a_0$ termen. s.an.coeff(i) ger de andra termerna. Lägger allt i en lista cosout. Termerna för sinus ges av s.bn.coeff(i). N anger antalet termer (tex. via glidare). Metoden .coeff(i) ger *termen* inte koefficient som man skulle kunna tro.\n",
    "\n",
    "Sedan måste man se till att  sinus respektive cosinus är 1 för att få ut koefficienterna. Det kan man göra genom att se till att cosinus respektive sinusfunktionerna ger värdet 1: `cosout.append(s.an.coeff(i).subs(x,0))` för cosinus. \n",
    "\n",
    "\n",
    "subs(x,0) innebär att symbolen x ersätts med talet 0. Hur gör man för sinus?\n",
    "\n",
    "\n",
    "\n",
    "Plotta spektrum för $y=x^2+x$\n",
    "\n",
    "I lösningsförslaget är spektrum plottat med matplotlib.pyplot men fourierseriens delsummor med sympy.\n",
    "\n",
    "\n",
    "[Lösningsförslag](./uppg/fourier1Uppgift3.ipynb)"
   ]
  },
  {
   "cell_type": "code",
   "execution_count": null,
   "metadata": {},
   "outputs": [],
   "source": []
  },
  {
   "cell_type": "code",
   "execution_count": null,
   "metadata": {},
   "outputs": [],
   "source": []
  }
 ],
 "metadata": {
  "kernelspec": {
   "display_name": "Python 3 (ipykernel)",
   "language": "python",
   "name": "python3"
  },
  "language_info": {
   "codemirror_mode": {
    "name": "ipython",
    "version": 3
   },
   "file_extension": ".py",
   "mimetype": "text/x-python",
   "name": "python",
   "nbconvert_exporter": "python",
   "pygments_lexer": "ipython3",
   "version": "3.11.5"
  }
 },
 "nbformat": 4,
 "nbformat_minor": 4
}
