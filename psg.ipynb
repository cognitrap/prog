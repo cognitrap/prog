{
 "cells": [
  {
   "cell_type": "markdown",
   "id": "b79924e5",
   "metadata": {},
   "source": [
    "### PySimpleGUI\n",
    "\n",
    "\n",
    "PySimpleGUI, hädanefter sg, fungerar på Jupyter och repl.it. På Jupyter måste den installeras. Om du använder anaconda så utför i en terminal  `conda install -c conda-forge pysimplegui`. Starta om anaconda-navigator och starta jupyter-lab så ska det vara möjligt att köra den via `import PySimpleGUI as sg`.\n",
    "\n",
    "På replit.com så välj 'Template' PySimpleGUI. Du får tag i den enklast genom att fylla i sökrutan. Du får då en fil med ett exempelprogram som du kan köra eller ta bort och skriv in ditt eget program.\n",
    "\n",
    "Just nu gäller att kopiera koden nedan du vill köra, klistra in i replit.com (välj rätt Template).\n",
    "\n",
    "Vi börjar med exemplet från nätsidan https://pysimplegui.readthedocs.io/en/latest/\n"
   ]
  },
  {
   "cell_type": "code",
   "execution_count": 8,
   "id": "bf0c2479",
   "metadata": {},
   "outputs": [],
   "source": [
    "import PySimpleGUI as sg\n",
    "\n",
    "sg.theme('DarkAmber')   # Ett färgtema för fönstret\n",
    "# Sakerna som är i fönstret (text, knappar, inmatning...)\n",
    "layout = [  [sg.Text('Some text on Row 1')],\n",
    "            [sg.Text('Enter something on Row 2'), sg.InputText()],\n",
    "            [sg.Button('Ok'), sg.Button('Cancel')] ]\n",
    "\n",
    "# Skapa själva fönstret\n",
    "window = sg.Window('Window Title', layout)\n",
    "\n",
    "#När fönstret är skapat så går vi in i en loop (while-break) som ständigt läser\n",
    "#input från fönstret så programmet reagerar om någon trycker på\n",
    "#knapparna\n",
    "\n",
    "while True:\n",
    "    event, values = window.read()\n",
    "    if event == sg.WIN_CLOSED or event == 'Cancel': # användaren stänger fönstret eller klickar på cancel\n",
    "        break\n",
    "    print('You entered ', values[0])\n",
    "\n",
    "window.close()"
   ]
  },
  {
   "cell_type": "markdown",
   "id": "8fc507c6",
   "metadata": {},
   "source": [
    "Då har vi sett det och sänker nivån.\n",
    "Popup fönster finns det en uppsättning av, lämpligt att börja med dem. Grundkommandot är enkelt:"
   ]
  },
  {
   "cell_type": "code",
   "execution_count": 9,
   "id": "646b49ff",
   "metadata": {},
   "outputs": [
    {
     "data": {
      "text/plain": [
       "'OK'"
      ]
     },
     "execution_count": 9,
     "metadata": {},
     "output_type": "execute_result"
    }
   ],
   "source": [
    "import PySimpleGUI as sg\n",
    "\n",
    "sg.popup()"
   ]
  },
  {
   "cell_type": "markdown",
   "id": "fafa4a19",
   "metadata": {},
   "source": [
    "Klicka på OK så stängs den. Pop-up fönster har en irriterande tendens att blockera andra program så se upp.\n",
    "\n",
    "\n",
    "\n",
    "Pop-up som bara ger ut information, du kan inte skriva in något finns i några enkla varianter"
   ]
  },
  {
   "cell_type": "code",
   "execution_count": 11,
   "id": "847a0d48",
   "metadata": {},
   "outputs": [
    {
     "data": {
      "text/plain": [
       "'__TIMEOUT__'"
      ]
     },
     "execution_count": 11,
     "metadata": {},
     "output_type": "execute_result"
    }
   ],
   "source": [
    "import PySimpleGUI as sg\n",
    "\n",
    "sg.popup('popup')  # Shows OK button\n",
    "sg.popup_ok('popup_ok')  # Shows OK button\n",
    "sg.popup_yes_no('popup_yes_no')  # Shows Yes and No buttons\n",
    "sg.popup_cancel('popup_cancel')  # Shows Cancelled button\n",
    "sg.popup_ok_cancel('popup_ok_cancel')  # Shows OK and Cancel buttons\n",
    "sg.popup_error('popup_error')  # Shows red error button\n",
    "#sg.popup_timed('popup_timed')  # Automatically closes\n",
    "sg.popup_auto_close('popup_auto_close')  # Same as PopupTimed"
   ]
  },
  {
   "cell_type": "code",
   "execution_count": 10,
   "id": "88ca7227",
   "metadata": {},
   "outputs": [],
   "source": [
    "import PySimpleGUI as sg\n",
    "\n",
    "sg.theme('Dark Blue 3')  # please make your windows colorful\n",
    "\n",
    "layout = [[sg.Slider(range=(1, 100), orientation='h', size=(34, 20), default_value=85)]]\n",
    "\n",
    "          \n",
    "window = sg.Window('En glidare', layout)\n",
    "\n",
    "event, values = window.read()\n",
    "window.close()\n"
   ]
  },
  {
   "cell_type": "code",
   "execution_count": 5,
   "id": "999db2f4",
   "metadata": {},
   "outputs": [
    {
     "data": {
      "text/plain": [
       "'\\nfrom tkinter import *\\nfrom random import randint\\nimport PySimpleGUI as sg\\nfrom matplotlib.backends.backend_tkagg import FigureCanvasTkAgg\\nfrom matplotlib.backends.backend_agg import FigureCanvasAgg\\nfrom matplotlib.figure import Figure\\nimport matplotlib.backends.backend_tkagg as tkagg\\nimport tkinter as Tk\\n\\nfig = Figure()\\n\\nax = fig.add_subplot(111)\\nax.set_xlabel(\"X axis\")\\nax.set_ylabel(\"Y axis\")\\nax.grid()\\n\\nlayout = [[sg.Text(\\'Animated Matplotlib\\', size=(40, 1), justification=\\'center\\', font=\\'Helvetica 20\\')],\\n          [sg.Canvas(size=(640, 480), key=\\'canvas\\')],\\n          [sg.Button(\\'Exit\\', size=(10, 2), pad=((280, 0), 3), font=\\'Helvetica 14\\')]]\\n\\n# create the window and show it without the plot    \\n\\n\\nwindow = sg.Window(\\'Demo Application - Embedding Matplotlib In PySimpleGUI\\', layout)\\nwindow.Finalize()  # needed to access the canvas element prior to reading the window\\n\\ncanvas_elem = window[\\'canvas\\']\\n\\ngraph = FigureCanvasTkAgg(fig, master=canvas_elem.TKCanvas)\\ncanvas = canvas_elem.TKCanvas\\n\\ndpts = [randint(0, 10) for x in range(10000)]\\n# Our event loop      \\nfor i in range(len(dpts)):\\n    event, values = window.read(timeout=20)\\n    if event == \\'Exit\\' or event == sg.WIN_CLOSED:\\n        exit(69)\\n\\n    ax.cla()\\n    ax.grid()\\n\\n    ax.plot(range(20), dpts[i:i + 20], color=\\'purple\\')\\n    graph.draw()\\n    figure_x, figure_y, figure_w, figure_h = fig.bbox.bounds\\n    figure_w, figure_h = int(figure_w), int(figure_h)\\n    photo = Tk.PhotoImage(master=canvas, width=figure_w, height=figure_h)\\n\\n    canvas.create_image(640 / 2, 480 / 2, image=photo)\\n\\n    figure_canvas_agg = FigureCanvasAgg(fig)\\n    figure_canvas_agg.draw()\\n\\n    tkagg.blit(photo, figure_canvas_agg.get_renderer()._renderer, colormode=2)\\n    \\n    '"
      ]
     },
     "execution_count": 5,
     "metadata": {},
     "output_type": "execute_result"
    }
   ],
   "source": [
    "#FUNGERAR EJ KÖR EJ\n",
    "\"\"\"\n",
    "from tkinter import *\n",
    "from random import randint\n",
    "import PySimpleGUI as sg\n",
    "from matplotlib.backends.backend_tkagg import FigureCanvasTkAgg\n",
    "from matplotlib.backends.backend_agg import FigureCanvasAgg\n",
    "from matplotlib.figure import Figure\n",
    "import matplotlib.backends.backend_tkagg as tkagg\n",
    "import tkinter as Tk\n",
    "\n",
    "fig = Figure()\n",
    "\n",
    "ax = fig.add_subplot(111)\n",
    "ax.set_xlabel(\"X axis\")\n",
    "ax.set_ylabel(\"Y axis\")\n",
    "ax.grid()\n",
    "\n",
    "layout = [[sg.Text('Animated Matplotlib', size=(40, 1), justification='center', font='Helvetica 20')],\n",
    "          [sg.Canvas(size=(640, 480), key='canvas')],\n",
    "          [sg.Button('Exit', size=(10, 2), pad=((280, 0), 3), font='Helvetica 14')]]\n",
    "\n",
    "# create the window and show it without the plot    \n",
    "\n",
    "\n",
    "window = sg.Window('Demo Application - Embedding Matplotlib In PySimpleGUI', layout)\n",
    "window.Finalize()  # needed to access the canvas element prior to reading the window\n",
    "\n",
    "canvas_elem = window['canvas']\n",
    "\n",
    "graph = FigureCanvasTkAgg(fig, master=canvas_elem.TKCanvas)\n",
    "canvas = canvas_elem.TKCanvas\n",
    "\n",
    "dpts = [randint(0, 10) for x in range(10000)]\n",
    "# Our event loop      \n",
    "for i in range(len(dpts)):\n",
    "    event, values = window.read(timeout=20)\n",
    "    if event == 'Exit' or event == sg.WIN_CLOSED:\n",
    "        exit(69)\n",
    "\n",
    "    ax.cla()\n",
    "    ax.grid()\n",
    "\n",
    "    ax.plot(range(20), dpts[i:i + 20], color='purple')\n",
    "    graph.draw()\n",
    "    figure_x, figure_y, figure_w, figure_h = fig.bbox.bounds\n",
    "    figure_w, figure_h = int(figure_w), int(figure_h)\n",
    "    photo = Tk.PhotoImage(master=canvas, width=figure_w, height=figure_h)\n",
    "\n",
    "    canvas.create_image(640 / 2, 480 / 2, image=photo)\n",
    "\n",
    "    figure_canvas_agg = FigureCanvasAgg(fig)\n",
    "    figure_canvas_agg.draw()\n",
    "\n",
    "    tkagg.blit(photo, figure_canvas_agg.get_renderer()._renderer, colormode=2)\n",
    "    \n",
    "    \"\"\""
   ]
  },
  {
   "cell_type": "code",
   "execution_count": 9,
   "id": "d3673333",
   "metadata": {},
   "outputs": [],
   "source": [
    "\n",
    "import PySimpleGUI as sg\n",
    "import math\n",
    "\n",
    "SIZE_X = 200\n",
    "SIZE_Y = 100\n",
    "NUMBER_MARKER_FREQUENCY = 25\n",
    "\n",
    "def draw_axis():\n",
    "    graph.draw_line((-SIZE_X,0), (SIZE_X, 0))                # axis lines\n",
    "    graph.draw_line((0,-SIZE_Y), (0,SIZE_Y))\n",
    "\n",
    "    for x in range(-SIZE_X, SIZE_X+1, NUMBER_MARKER_FREQUENCY):\n",
    "        graph.draw_line((x,-3), (x,3))                       # tick marks\n",
    "        if x != 0:\n",
    "            graph.draw_text( str(x), (x,-10), color='green', font='Algerian 15')      # numeric labels\n",
    "\n",
    "    for y in range(-SIZE_Y, SIZE_Y+1, NUMBER_MARKER_FREQUENCY):\n",
    "        graph.draw_line((-3,y), (3,y))\n",
    "        if y != 0:\n",
    "            graph.draw_text( str(y), (-10,y), color='blue')\n",
    "\n",
    "sg.change_look_and_feel('DarkAmber')  # let's add a little color\n",
    "\n",
    "# Create the graph that will be put into the window\n",
    "graph = sg.Graph(canvas_size=(400, 400),\n",
    "          graph_bottom_left=(-(SIZE_X+5), -(SIZE_Y+5)),\n",
    "          graph_top_right=(SIZE_X+5, SIZE_Y+5),\n",
    "          background_color='white',\n",
    "          key='graph')\n",
    "# Window layout\n",
    "layout = [[sg.Text('Example of Using Math with a Graph', justification='center', size=(50,1), relief=sg.RELIEF_SUNKEN)],\n",
    "          [graph],\n",
    "          [sg.Text('y = sin(x / x2 * x1)', font='Algerian 18')],\n",
    "          [sg.Text('x1'),sg.Slider((0,200), orientation='h', enable_events=True,key='_SLIDER_')],\n",
    "          [sg.Text('x2'),sg.Slider((1,200), orientation='h', enable_events=True,key='_SLIDER2_')]]\n",
    "\n",
    "window = sg.Window('Graph of Sine Function', layout)\n",
    "\n",
    "while True:\n",
    "    event, values = window.read()\n",
    "    if event is None:\n",
    "        break\n",
    "    graph.erase()\n",
    "    draw_axis()\n",
    "    prev_x = prev_y = None\n",
    "    for x in range(-SIZE_X,SIZE_X):\n",
    "        y = math.sin(x/int(values['_SLIDER2_']))*int(values['_SLIDER_'])\n",
    "        if prev_x is not None:\n",
    "            graph.draw_line((prev_x, prev_y), (x,y), color='red')\n",
    "        prev_x, prev_y = x, y\n",
    "\n"
   ]
  },
  {
   "cell_type": "code",
   "execution_count": 8,
   "id": "c45a1b2f",
   "metadata": {},
   "outputs": [],
   "source": [
    "import numpy as np\n",
    "from matplotlib.backends.backend_tkagg import FigureCanvasTkAgg\n",
    "import PySimpleGUI as sg\n",
    "import matplotlib\n",
    "\n",
    "# ------------------------------- START OF YOUR MATPLOTLIB CODE -------------------------------\n",
    "\n",
    "fig = matplotlib.figure.Figure(figsize=(5, 4), dpi=100)\n",
    "t = np.arange(0, 3, .01)\n",
    "fig.add_subplot(111).plot(t, 2 * np.sin(2 * np.pi * t))\n",
    "\n",
    "# ------------------------------- END OF YOUR MATPLOTLIB CODE -------------------------------\n",
    "\n",
    "# ------------------------------- Beginning of Matplotlib helper code -----------------------\n",
    "matplotlib.use('TkAgg')\n",
    "def draw_figure(canvas, figure):\n",
    "    figure_canvas_agg = FigureCanvasTkAgg(figure, canvas)\n",
    "    figure_canvas_agg.draw()\n",
    "    figure_canvas_agg.get_tk_widget().pack(side='top', fill='both', expand=1)\n",
    "    return figure_canvas_agg\n",
    "\n",
    "# ------------------------------- Beginning of GUI CODE -------------------------------\n",
    "\n",
    "# define the window layout\n",
    "layout = [[sg.Text('Plot test')],\n",
    "          [sg.Canvas(key='-CANVAS-')],\n",
    "          [sg.Button('Ok')]]\n",
    "\n",
    "# create the form and show it without the plot\n",
    "window = sg.Window('Matplotlib Single Graph', layout, location=(0,0), finalize=True, element_justification='center', font='Helvetica 18')\n",
    "\n",
    "# add the plot to the window\n",
    "draw_figure(window['-CANVAS-'].TKCanvas, fig)\n",
    "\n",
    "event, values = window.read()\n",
    "\n",
    "window.close()\n"
   ]
  },
  {
   "cell_type": "code",
   "execution_count": null,
   "id": "8deee0ac-241a-48da-9999-35925809582b",
   "metadata": {},
   "outputs": [],
   "source": []
  }
 ],
 "metadata": {
  "kernelspec": {
   "display_name": "Python 3 (ipykernel)",
   "language": "python",
   "name": "python3"
  },
  "language_info": {
   "codemirror_mode": {
    "name": "ipython",
    "version": 3
   },
   "file_extension": ".py",
   "mimetype": "text/x-python",
   "name": "python",
   "nbconvert_exporter": "python",
   "pygments_lexer": "ipython3",
   "version": "3.9.7"
  }
 },
 "nbformat": 4,
 "nbformat_minor": 5
}
