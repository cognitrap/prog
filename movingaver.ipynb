{
 "cells": [
  {
   "cell_type": "markdown",
   "metadata": {},
   "source": [
    "## Glidande medelvärde (moving average)\n",
    "\n",
    "Vid analys av mätdata uppkommer behovet av att jämna till datamängden för att kunna göra beräkningar och analyser. Det kräver viss försiktighet så att inte information som kan vara viktig går förlorad.\n",
    "\n",
    "Att jämna till mätdata med glidande medelvärde är en sådan teknik. Man kan se det som  att man från en datalista beräknar en ny datalista och för varje värde i den nya tar man hänsyn till en viss mängd av närliggande värden. Som exempel använder vi att vi beräknar ett nytt värde genom att använda 3 värden från originaldata.\n",
    "\n",
    "Säg att vi har en lista $O=[1,2,2,3,5,3,4]$ och vi använder 3 element för  att beräkna ett nytt värde och det nya värdet är medelvärdet av de 3 elementen. Vi kan då skriva\n",
    "\n",
    "$$\\frac{O[0]+O[1]+O[2]}{3}=M[1]$$\n",
    "$$\\frac{O[1]+O[2]+O[3]}{3}=M[2]$$\n",
    "$$\\frac{O[2]+O[3]+O[4]}{3}=M[3]$$\n",
    "osv"
   ]
  },
  {
   "cell_type": "markdown",
   "metadata": {},
   "source": [
    "Vi generar som tidigare data med brus och använder sedan glidande medelvärde på kurvan."
   ]
  },
  {
   "cell_type": "code",
   "execution_count": 1,
   "metadata": {},
   "outputs": [
    {
     "data": {
      "image/png": "[encoded data removed]",
      "text/plain": [
       "<Figure size 432x288 with 1 Axes>"
      ]
     },
     "metadata": {
      "needs_background": "light"
     },
     "output_type": "display_data"
    }
   ],
   "source": [
    "import matplotlib.pyplot as plt\n",
    "import random as r\n",
    "import numpy as np\n",
    "\n",
    "#Vi låser till 10 element\n",
    "x=np.linspace(-20,20,10)\n",
    "\n",
    "#Vi måste arbeta med listor\n",
    "x=list(x)\n",
    "noise=[]\n",
    "y=[]\n",
    "\n",
    "#Vi delar upp det i två\n",
    "for i in range(0,10):\n",
    "    noise.append(r.random())\n",
    "for i in range(0,10):\n",
    "    y.append(2*x[i]+5+20*noise[i])\n",
    "    \n",
    "plt.plot(x,y,'o')\n",
    "plt.show()"
   ]
  },
  {
   "cell_type": "markdown",
   "metadata": {},
   "source": [
    "[Lösningsförslag](./uppg/movingaveruppgift1.ipynb)\n"
   ]
  },
  {
   "cell_type": "markdown",
   "metadata": {},
   "source": []
  }
 ],
 "metadata": {
  "kernelspec": {
   "display_name": "Python 3",
   "language": "python",
   "name": "python3"
  },
  "language_info": {
   "codemirror_mode": {
    "name": "ipython",
    "version": 3
   },
   "file_extension": ".py",
   "mimetype": "text/x-python",
   "name": "python",
   "nbconvert_exporter": "python",
   "pygments_lexer": "ipython3",
   "version": "3.8.3"
  }
 },
 "nbformat": 4,
 "nbformat_minor": 4
}
