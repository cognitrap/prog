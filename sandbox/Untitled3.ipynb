{
 "cells": [
  {
   "cell_type": "code",
   "execution_count": 1,
   "id": "d24566bf-26c7-470c-bd10-3e11ebfe5813",
   "metadata": {},
   "outputs": [
    {
     "name": "stdout",
     "output_type": "stream",
     "text": [
      "z=  (1.8173540210239707+0.5502505227003375j)\n",
      "z1=  (1.8173540210239707+0.5502505227003375j)\n",
      "z2=  (1.3631182896469243+0.2018352064085589j)\n",
      "z3=  (1.3631182896469243+0.20183520640855893j)\n"
     ]
    }
   ],
   "source": [
    "import cmath\n",
    "\n",
    "z = (3+2j)**(1/2)  # Utan cmath\n",
    "\n",
    "z1=cmath.sqrt(3+2j)  # Med cmath i 2 steg\n",
    "z2=cmath.sqrt(z1)\n",
    "\n",
    "z3=cmath.exp(cmath.log(3+2j)*1/4)  # (3+2j)^1/4\n",
    "\n",
    "print(\"z= \", z)\n",
    "print(\"z1= \", z1)\n",
    "print(\"z2= \", z2)\n",
    "print(\"z3= \", z3)"
   ]
  },
  {
   "cell_type": "code",
   "execution_count": null,
   "id": "6a0f42f2-f1a7-43ef-8c1f-448dea920fe6",
   "metadata": {},
   "outputs": [],
   "source": []
  }
 ],
 "metadata": {
  "kernelspec": {
   "display_name": "Python 3 (ipykernel)",
   "language": "python",
   "name": "python3"
  },
  "language_info": {
   "codemirror_mode": {
    "name": "ipython",
    "version": 3
   },
   "file_extension": ".py",
   "mimetype": "text/x-python",
   "name": "python",
   "nbconvert_exporter": "python",
   "pygments_lexer": "ipython3",
   "version": "3.9.16"
  }
 },
 "nbformat": 4,
 "nbformat_minor": 5
}
