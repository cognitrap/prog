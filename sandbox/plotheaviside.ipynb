{
 "cells": [
  {
   "cell_type": "code",
   "execution_count": 14,
   "id": "b8e976c5-5f60-4d4f-b3e2-58baeb90277c",
   "metadata": {},
   "outputs": [
    {
     "data": {
      "image/png": "[encoded data removed]",
      "text/plain": [
       "<Figure size 432x288 with 1 Axes>"
      ]
     },
     "metadata": {
      "needs_background": "light"
     },
     "output_type": "display_data"
    }
   ],
   "source": [
    "####EJ KORREKT\n",
    "### TOLKNING AV KURVORNA\n",
    "from scipy.fft import fft, fftfreq, fftshift\n",
    "import matplotlib.pyplot as plt\n",
    "import numpy as np\n",
    "\n",
    "# Samplingsfrekvens, sample rate: datapunkter per sekund\n",
    "n = 500\n",
    "# Signalen varar mellan -d och d\n",
    "d = 10\n",
    "\n",
    "\n",
    "def Box():\n",
    "    x = np.linspace(-d,d,n*(2*d), endpoint=False)\n",
    "    #print(\"x=\",x)\n",
    "    y = np.heaviside(-x-2,0.5)\n",
    "    ye = 1- np.heaviside(x+2,0.5)\n",
    "    #print(\"y=\",y)\n",
    "    return(x,y,ye)\n",
    "\n",
    "x,y, ye = Box()\n",
    "\n",
    "# Lådan\n",
    "plt.axis([-4,4,-1,2])\n",
    "#plt.plot(x,y)\n",
    "plt.plot(x,ye)\n",
    "plt.show()\n"
   ]
  }
 ],
 "metadata": {
  "kernelspec": {
   "display_name": "Python 3 (ipykernel)",
   "language": "python",
   "name": "python3"
  },
  "language_info": {
   "codemirror_mode": {
    "name": "ipython",
    "version": 3
   },
   "file_extension": ".py",
   "mimetype": "text/x-python",
   "name": "python",
   "nbconvert_exporter": "python",
   "pygments_lexer": "ipython3",
   "version": "3.9.7"
  }
 },
 "nbformat": 4,
 "nbformat_minor": 5
}
