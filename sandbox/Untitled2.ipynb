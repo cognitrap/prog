{
 "cells": [
  {
   "cell_type": "code",
   "execution_count": 6,
   "id": "fba8c7ca-ca35-42f3-baef-444c21877e9a",
   "metadata": {},
   "outputs": [
    {
     "name": "stderr",
     "output_type": "stream",
     "text": [
      "\n",
      "KeyboardInterrupt\n",
      "\n"
     ]
    }
   ],
   "source": [
    "from sympy import fourier_series, pi, exp, cos\n",
    "from sympy.abc import x\n",
    "from sympy.plotting import plot  # Vi plottar med sympy.\n",
    "#from ipywidgets import interact\n",
    "\n",
    "\n",
    "#f = x**2  # Funktionen\n",
    "#f = 1-x\n",
    "f=exp(-abs(x))*cos(x)\n",
    "g=0.5*(2/(1+(x-1)**2)+2/(1+(x+1)**2))\n",
    "s = fourier_series(f, (x, 0, 1))  # Beräkna fourier serien\n",
    "s1 = s.truncate(4)\n",
    "print(s1)\n",
    "    \n",
    "plot(g,s1, (x,-4,4))  # Plottar både f och s1\n",
    "   \n"
   ]
  },
  {
   "cell_type": "code",
   "execution_count": null,
   "id": "ad0c7290-3e85-45e8-97dd-c77ea2831f83",
   "metadata": {},
   "outputs": [],
   "source": []
  }
 ],
 "metadata": {
  "kernelspec": {
   "display_name": "Python 3 (ipykernel)",
   "language": "python",
   "name": "python3"
  },
  "language_info": {
   "codemirror_mode": {
    "name": "ipython",
    "version": 3
   },
   "file_extension": ".py",
   "mimetype": "text/x-python",
   "name": "python",
   "nbconvert_exporter": "python",
   "pygments_lexer": "ipython3",
   "version": "3.9.16"
  }
 },
 "nbformat": 4,
 "nbformat_minor": 5
}
