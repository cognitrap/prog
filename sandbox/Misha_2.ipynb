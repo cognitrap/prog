{
 "cells": [
  {
   "cell_type": "code",
   "execution_count": 1,
   "id": "6e053709-7084-4a1c-89cc-c90f47c5fa72",
   "metadata": {},
   "outputs": [
    {
     "data": {
      "application/vnd.jupyter.widget-view+json": {
       "model_id": "f6b3b762484e4d72beb67a3c6158e1d8",
       "version_major": 2,
       "version_minor": 0
      },
      "text/plain": [
       "interactive(children=(IntSlider(value=5, description='a'), IntSlider(value=5, description='b'), IntSlider(valu…"
      ]
     },
     "metadata": {},
     "output_type": "display_data"
    }
   ],
   "source": [
    "#Misha\n",
    "#importavdelningen    #kolla om man kan skriva att x=Ax\n",
    "from __future__ import print_function\n",
    "import sympy as sym\n",
    "from sympy.plotting import plot3d, PlotGrid\n",
    "import matplotlib.pyplot as plt\n",
    "#from sympy import Derivative\n",
    "from matplotlib import cm\n",
    "import numpy as np\n",
    "# from mpl_toolkits.mplot3d import Axes3D\n",
    "# import för interactiv graf i IPython (Anaconda)\n",
    "from ipywidgets import interact, interactive, fixed, interact_manual\n",
    "import ipywidgets as widgets\n",
    "# Global former\n",
    "former= ['Elliptisk paraboloid',  'Hyperbolisk paraboloid']\n",
    "#\n",
    "def f(a, b, Ax,By, size, form):\n",
    "    global former\n",
    "    #fig = plt.figure()\n",
    "    x, y =sym.symbols('x y')\n",
    "    X,Y=np.meshgrid(x,y)\n",
    "# Avsluta om a eller b är noll vill vi inte göra division med noll\n",
    "    if not a or not b:\n",
    "        return 0,0,0\n",
    "# Elliptisk paraboloid\n",
    "    if form == former[0]:\n",
    "        Z = (x/a) ** 2 + (y/b) ** 2\n",
    "        print(\"Z \",Z)\n",
    "        #m=(x/a) ** 2 - (y/b) ** 2\n",
    "        m=Z.subs([(x,Ax), (y,By)])\n",
    "        print(\"m \", m)\n",
    "        ex=sym.diff(Z,x)\n",
    "        print(\"ex \", ex)\n",
    "        ey=sym.diff(Z,y)\n",
    "        print(\"ey \",ey)\n",
    "        ex1=ex.subs(x, Ax)\n",
    "        print(\"ex1 \",ex1)\n",
    "        ey1=ey.subs(y, By)\n",
    "        print(\"ey1 \", ey1)\n",
    "        #hx= 2*Ax/a**2\n",
    "        #hy= (-2)*(By/b**2)   #problem med -\n",
    "        #z=m +(2*Ax/a**2)*(x-Ax)+(-2)*(By/b**2)*(y-By)\n",
    "        zp=m+(ex1*(x-Ax))+(ey1*(y-By)) #problem\n",
    "        print(\"zp \", zp)\n",
    "        #p = plot3d(Z, (x,-size,size), (y,-size,size),(zp,(x, -size, size), (y, -size, size)))\n",
    "        #n=plot3d(zp,(x, -size, size), (y, -size, size))\n",
    "\n",
    "# Hyperbolisk paraboloid\n",
    "    if form == former[1]:\n",
    "        Z = (x/a) ** 2 - (y/b) ** 2\n",
    "        print(Z)\n",
    "        #m=(x/a) ** 2 - (y/b) ** 2\n",
    "        m=Z.subs([(x,Ax), (y,By)])\n",
    "        print(m)\n",
    "        hx=sym.diff(Z,x)\n",
    "        print(hx)\n",
    "        hy=sym.diff(Z,y)\n",
    "        print(hy)\n",
    "        hx1=hx.subs(x, Ax)\n",
    "        print(hx1)\n",
    "        hy1=hy.subs(y, By)\n",
    "        print(hy1)\n",
    "        #hx= 2*Ax/a**2\n",
    "        #hy= (-2)*(By/b**2)   #problem med -\n",
    "        #z=m +(2*Ax/a**2)*(x-Ax)+(-2)*(By/b**2)*(y-By)\n",
    "        zp=m+(hx1*(x-Ax))+(hy1*(y-By)) #problem\n",
    "        print(zp)\n",
    "\n",
    "    # p = plot3d(Z, (x,-size,size), (y,-size,size),zp,(x, -size, size), (y, -size, size))\n",
    "    p=plot3d(Z, zp, (x,-size,size), (y,-size,size))\n",
    "    #n=plot3d(zp,(x, -size, size), (y, -size, size))\n",
    "\n",
    "    return X, Y, Z, zp\n",
    "    #plt.show()\n",
    "\n",
    "interactive(f, a=widgets.IntSlider(min=0, max=100, step=1,\n",
    "value=5),b=widgets.IntSlider(min=0, max=100, step=1,\n",
    "value=5),Ax=widgets.IntSlider(min=-100, max=100, step=1,\n",
    "value=5),By=widgets.IntSlider(min=-100, max=100, step=1, value=5),\n",
    "size=widgets.IntSlider(min=1, max=100, step=1, value=50),form=former)\n",
    "\n"
   ]
  },
  {
   "cell_type": "code",
   "execution_count": null,
   "id": "bcb7bb96-03f9-425e-bdba-4602265e190c",
   "metadata": {},
   "outputs": [],
   "source": []
  }
 ],
 "metadata": {
  "kernelspec": {
   "display_name": "Python 3",
   "language": "python",
   "name": "python3"
  },
  "language_info": {
   "codemirror_mode": {
    "name": "ipython",
    "version": 3
   },
   "file_extension": ".py",
   "mimetype": "text/x-python",
   "name": "python",
   "nbconvert_exporter": "python",
   "pygments_lexer": "ipython3",
   "version": "3.8.5"
  }
 },
 "nbformat": 4,
 "nbformat_minor": 5
}
