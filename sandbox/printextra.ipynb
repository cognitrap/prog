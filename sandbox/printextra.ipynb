{
 "cells": [
  {
   "cell_type": "markdown",
   "id": "76ae82b5-d7a8-4685-bb28-6b2fc04b7b69",
   "metadata": {},
   "source": [
    "print kommandot har vissa subtiliteter.\n",
    "\n",
    "`print()`  ger en s.k. 'blank line' en rad som ser tom ut men innehåller just en \\n.\n",
    "Sedan kan man ha en tom rad, den innehåller inte ens en \\n\n",
    "\n",
    "Man brukar tänka:\n",
    "\n",
    "\n",
    "`'\\n'` blank line, blankrad\n",
    "\n",
    "\n",
    "`''` empty line, tom rad\n",
    "\n",
    "\n",
    "En print sats skriver ut något och ger sedan en \\n när kommandot är slut. Man kan säga att print() automatiskt lägger en \\n när den är klar. Nästa print() skriver då på den nya raden."
   ]
  }
 ],
 "metadata": {
  "kernelspec": {
   "display_name": "Python 3 (ipykernel)",
   "language": "python",
   "name": "python3"
  },
  "language_info": {
   "codemirror_mode": {
    "name": "ipython",
    "version": 3
   },
   "file_extension": ".py",
   "mimetype": "text/x-python",
   "name": "python",
   "nbconvert_exporter": "python",
   "pygments_lexer": "ipython3",
   "version": "3.9.7"
  }
 },
 "nbformat": 4,
 "nbformat_minor": 5
}
