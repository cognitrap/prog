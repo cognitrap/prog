{
 "cells": [
  {
   "cell_type": "markdown",
   "metadata": {},
   "source": [
    "# Läsa och skriva filer\n",
    "\n",
    "\\\n",
    "Behandlar filer av typen .txt (i regel text) respektive .csv (i regel tal)."
   ]
  },
  {
   "cell_type": "markdown",
   "metadata": {},
   "source": [
    "## open(), close(), with open() as\n",
    "\n",
    "Ibland är datamängden stor och arbetet med att skriva in den i listor för att rita en graf är stor. Python kan läsa olika filer med data. På samma sätt kan resultatet av beräkningar i python behöva skrivas ut i en fil i stället för att bara flimra förbi på skärmen.\n",
    "\n",
    "Vi ska arbeta med 2 olika filtyper, de som har typen .txt och de som har typen .csv (anges ibland i ordbehandlingsprogram som 'text csv'). Vi börjar med filtypen .txt. Ingen extra modul behöver laddas för att hantera filer av denna typ.\n",
    "\n",
    "Processen kan förstås på följande sätt:\n",
    "\n",
    "1. Filer måste öppnas innan man kan göra något med dem, vi får ett `open()` kommando. Precis som du måste öppna en bok för att läsa i den. \n",
    "2. Vi måste naturligtvis ange filen som ska öppnas: `open('data.txt')`. Filen ska ha ändelsen txt, en text-fil. Precis som på bibliotek måste du ange vilken bok du ska läsa.\n",
    "3. Vi måste ange vad vi ska göra: skriva, läsa, lägga till osv.:`open('data.txt', 'r')` för read. Du måste ange om du ska läsa eller skriva. Det är en säkerhetsgrej. Om du bara ska läsa och öppnar för att läsa kommer python hindra dig från att skriva av misstag.\n",
    "\n",
    "\n",
    "Några exempel på varianter på read och write\n",
    "\n",
    "* w innebär att filen öppnas för att skrivas i. Om den redan finns töms den och skrivs på nytt. Om filen inte finns skapas den.\n",
    "\n",
    "* w+ är både läsa och skriva, annars som w.\n",
    "\n",
    "* a innebär append. Filen öppnas för skrivning, filen töms inte utan man skriver sist i filen. Filen skapas om den inte redan finns.\n",
    "\n",
    "\n",
    "\n",
    "\n",
    "\n",
    "\\\n",
    "`f = open(\"datafil1.txt\",\"w\")` öppnar filen datafil1.txt och förbereder den för skrivning. Filen får också ett enklare namn, den kallas bara f.\n",
    "\n",
    "\n",
    "Det finns ett kommando som gör både open och close, det heter `with open as`. Det används som ett alternativ i exemplet nedan.\n"
   ]
  },
  {
   "cell_type": "code",
   "execution_count": 2,
   "metadata": {},
   "outputs": [
    {
     "name": "stdout",
     "output_type": "stream",
     "text": [
      "Detta är rad 1\n",
      "Detta är rad 2\n",
      "Detta är rad 3\n",
      "Detta är rad 4\n",
      "Detta är rad 5\n",
      "Detta är rad 6\n",
      "Detta är rad 7\n",
      "Detta är rad 8\n",
      "Detta är rad 9\n",
      "Detta är rad 10\n",
      "Nu var det slut\n"
     ]
    }
   ],
   "source": [
    "\n",
    "# Öppnar filen för att skriva och ger den ett enklare namn f. \n",
    "# Vi utgår från att den inte finns.\n",
    "f = open(\"datafil1.txt\",\"w\")\n",
    "\n",
    "# Skriver en massa rader till filen som nu har det korta namnet f\n",
    "for i in range(10):\n",
    "    text = \"Detta är rad \" + str(i+1) + \"\\n\"\n",
    "    f.write(text)  # Varje gång vi skriver blir det en ny rad\n",
    "        \n",
    "# Vi stänger filen när vi är färdiga\n",
    "f.close()\n",
    "\n",
    "\n",
    "\n",
    "\n",
    "# För att leka lite med filen så öppnar vi den igen. a står för append\n",
    "f = open(\"datafil1.txt\", \"a\")\n",
    "f.write(\"Nu var det slut\")\n",
    "f.close()\n",
    "\n",
    "\n",
    "\n",
    "# Vi skriver ut filen. Det görs genom att öppna den för läsning och sedan läsa. r read.\n",
    "# Vi använder denna gång kommandot 'with open() as' som stänger automatiskt.\n",
    "with open('datafil1.txt', 'r') as f:\n",
    "    print(f.read())\n",
    "# filen stängs denna gång automatiskt"
   ]
  },
  {
   "cell_type": "markdown",
   "metadata": {},
   "source": [
    "Ändra i föregående kodblock som var\n",
    "\n",
    "```\n",
    "# För att leka lite med filen så öppnar vi den igen. a står för append\n",
    "f = open(\"datafil1.txt\", \"a\")\n",
    "f.write(\"Nu var det slut\")\n",
    "f.close()\n",
    "```\n",
    "\n",
    "så att det står \"w\" i stället för \"a\". Då kommer filen att skrivas över och endast \"Nu var det slut\" kommer att skrivas ut.\n",
    "\n",
    "\\\n",
    "Observera således att en fil måste öppnas för 'read' för att kunna skrivas ut."
   ]
  },
  {
   "cell_type": "markdown",
   "metadata": {},
   "source": [
    "## Läsa hela eller läsa rader\n",
    "\n",
    "Koden demonstrerar användningen av `read()` respektive `readlines()` för filtypen .txt.\n",
    "\n",
    "Filen som ska läsas ska finnas. Data i en fil med ändelsen .txt ligger separat. Du kan skapa en sådan fil genom att skriva in rader i en fil med tex. Microsofts Word eller LibreOffice Writer eller enkla texthanterare. Om du skriver i MS Word eller LO Writer så måste filen sparas som .txt!\n",
    "\n",
    "<!--![LO Writer](./Pictures/pictdatafil2_page12.png) -->\n",
    "\n",
    "<img src=\"./Pictures/pictdatafil2_page12.png\" width=500 height=500 />\n"
   ]
  },
  {
   "cell_type": "code",
   "execution_count": 7,
   "metadata": {},
   "outputs": [
    {
     "name": "stdout",
     "output_type": "stream",
     "text": [
      "Hela filen direkt\n",
      " Första raden\n",
      "Sedan kommer andra raden\n",
      "Och näst sist tredje raden\n",
      "Slut\n",
      "\n",
      "f1 är av datatypen <class 'list'>\n",
      "rad 1: Första raden\n",
      "\n",
      "rad 2: Sedan kommer andra raden\n",
      "\n",
      "rad 3: Och näst sist tredje raden\n",
      "\n",
      "rad 4: Slut\n",
      "\n"
     ]
    }
   ],
   "source": [
    "# Ska läsa en fil som finns\n",
    "f = open(\"datafil2.txt\", \"r\")\n",
    "\n",
    "# Läs hela filen och skriv ut den\n",
    "content = f.read()\n",
    "print(\"Hela filen direkt\\n\", content)\n",
    "\n",
    "f.close()\n",
    "\n",
    "\n",
    "\n",
    "# Vi öppnar filen igen, läser då automatiskt från början\n",
    "\n",
    "f = open(\"datafil2.txt\", \"r\")\n",
    "\n",
    "# Lägg märke till att filen f1 är en lista med varje rad som ett element i listan.\n",
    "# Kommandot är också tydligt readlines().\n",
    "f1=f.readlines()\n",
    "\n",
    "print(\"f1 är av datatypen\", type(f1))\n",
    "print(\"rad 1:\", f1[0])\n",
    "print(\"rad 2:\", f1[1])\n",
    "print(\"rad 3:\", f1[2])\n",
    "print(\"rad 4:\", f1[3])\n",
    "\n",
    "f.close()"
   ]
  },
  {
   "cell_type": "markdown",
   "metadata": {},
   "source": [
    "Vi skulle kunna säga att filen är en lista:\n",
    "f1=[\"Första raden\", \"Sedan kommer andra raden\", \"Och näst...]"
   ]
  },
  {
   "cell_type": "markdown",
   "metadata": {},
   "source": [
    "## Filer med ändelsen .csv\n",
    "Vi ska nu öppna och läsa en fil med ändelsen (extension) csv\n",
    "(file extension översätts till svenska som filsuffix eller filändelse).\n",
    "csv betyder comma separated values. En fil där data separeras med ett kommatecken (,). SCB benämner dem kommaavgränsad fil. Talen använder decimalpunkt så betydelserna hålls isär. Detta är en sak man måste se upp med då man importerar från olika program.\n",
    "https://fileinfo.com/extension/csv\n",
    "\n",
    "För att kunna läsa denna typ av filer måste en modul importeras som heter just csv.\n",
    "\n",
    "Först en bild på den datafil som vi ska läsa. På replit.com skapar du en ny fil och skriver data direkt in. På 3:e raden ligger 2 tal, talet 3 och talet 9. De är separerade med ett kommatecken. Kommatecknet är inte ett decimaltecken i detta sammanhang. Radnummret ingår inte i filen.\n",
    "\n",
    "![csv-fil](./Pictures/pictdatacsv.png)"
   ]
  },
  {
   "cell_type": "code",
   "execution_count": 1,
   "metadata": {},
   "outputs": [
    {
     "name": "stdout",
     "output_type": "stream",
     "text": [
      "radutskrift\n",
      "['1', '0']\n",
      "['2', '2']\n",
      "['3', '10']\n",
      "['4', '14']\n",
      "['5', '26']\n",
      "['7', '48']\n",
      "x och y i listor\n",
      "x [1.0, 2.0, 3.0, 4.0, 5.0, 7.0]\n",
      "y [0.0, 2.0, 10.0, 14.0, 26.0, 48.0]\n"
     ]
    },
    {
     "data": {
      "image/png": "[encoded data removed]",
      "text/plain": [
       "<Figure size 432x288 with 1 Axes>"
      ]
     },
     "metadata": {
      "needs_background": "light"
     },
     "output_type": "display_data"
    }
   ],
   "source": [
    "# Vi behöver importera en modul för att läsa .csv. En fil exporterad som 'text csv'\n",
    "# från LibreOffice läses.\n",
    "\n",
    "import csv\n",
    "\n",
    "with open('testdata.csv','r') as f:\n",
    "  data = csv.reader(f)  # Obs reader för csv, ej read!\n",
    "  print(\"radutskrift\")\n",
    "  for row in data:  # Behöver ej heta row, men det är suggestivt\n",
    "        print(row)  # Observera att elementen i listan är strängar\n",
    "# Automatiskt close i och med vi använt with. Så nästa gång vi använder with börjar vi från början\n",
    "# i filen.\n",
    "\n",
    "\n",
    "\n",
    "import matplotlib.pyplot as plt\n",
    "import numpy as np\n",
    "\n",
    "\n",
    "# Nu ska vi läsa in dessa som x och y listor.\n",
    "# Med rader ungefär som ovan läses varje rad som en lista med två 'tal'; de är lagrade som strängar. \n",
    "# Första elementet i raden är x och det andra y.\n",
    "\n",
    "x=[]; y=[]  # Två tomma listor att starta med\n",
    "\n",
    "with open('testdata.csv','r') as f:\n",
    "  data = csv.reader(f)\n",
    "\n",
    "  for row in data:\n",
    "        x.append(float(row[0]))  # Omvandlar strängarna till float och lägger i en annan lista\n",
    "        y.append(float(row[1]))\n",
    "\n",
    "print(\"x och y i listor\")\n",
    "print(\"x\",x)\n",
    "print(\"y\",y)\n",
    "\n",
    "\n",
    "plt.plot(x, y, 'ro')\n",
    "#red circle\n",
    "\n",
    "plt.savefig('plot.png')\n",
    "plt.show()"
   ]
  },
  {
   "cell_type": "markdown",
   "metadata": {},
   "source": [
    "Vi tittar i detalj på två centrala delar av koden:\n",
    "\n",
    "Del 1\n",
    "\n",
    "```\n",
    "with open('testdata.csv','r') as f:\n",
    "  data = csv.reader(f)\n",
    "  print(\"radutskrift\")\n",
    "  for row in data:  # Behöver ej heta row, men det är suggestivt\n",
    "        print(row)\n",
    "```\n",
    "        \n",
    "Metoden reader stöder iteration, därför kan vi använda det vi fått från reader, data, nästan som en lista, det är dock inte en lista.\n",
    "\n",
    "`for row in data:` behöver variabeln inte heta `row`, den kan heta vad som helst men det är suggestivt med row.\n",
    "\n",
    "\n",
    "Del 2\n",
    "\n",
    "```\n",
    "with open('testdata.csv','r') as f:\n",
    " data = csv.reader(f)\n",
    "  for row in data:\n",
    "        x.append(float(row[0]))\n",
    "        y.append(float(row[1]))\n",
    "```\n",
    "\n",
    "Till stor del samma som föregående, row går igenom data rad för rad. Men varje rad består av en sträng, sedan kommatecken och sedan en sträng till. Den första strängen på raden har index 0, den andra index 1, den tredje index 2 osv. Kommatecknet ingår inte i strängarna.\n",
    "\n",
    "`row[0]` är den första strängen på den aktuella raden. row itererar sig fram genom raderna."
   ]
  },
  {
   "cell_type": "markdown",
   "metadata": {},
   "source": [
    "## Rita med data från kalkylark\n",
    "Vi kombinerar med en större fil för att rita en graf.\n",
    "\n",
    "Vi använder att metoden reader för csv filer stöder iteration. Filen testdata2.csv är skapad i LO Calc som är ett program för kalkylark. Se till att decimaltecknet är en punkt, inte kommatecken. File->Save as-> Text csv."
   ]
  },
  {
   "cell_type": "code",
   "execution_count": 3,
   "metadata": {},
   "outputs": [
    {
     "data": {
      "image/png": "[encoded data removed]",
      "text/plain": [
       "<Figure size 432x288 with 1 Axes>"
      ]
     },
     "metadata": {
      "needs_background": "light"
     },
     "output_type": "display_data"
    }
   ],
   "source": [
    "import csv\n",
    "\n",
    "import matplotlib.pyplot as plt\n",
    "import numpy as np\n",
    "\n",
    "\n",
    "x=[]; y=[]\n",
    "with open('testdata2.csv','r') as f:\n",
    "  data = csv.reader(f)\n",
    "  for row in data:\n",
    "        x.append(float(row[0]))\n",
    "        y.append(float(row[1]))\n",
    "\n",
    "#print(\"x\",x)\n",
    "#print(\"y\",y)\n",
    "\n",
    "#plt.axis([0,3,0,1])\n",
    "\n",
    "plt.plot(x, y, 'ro')\n",
    "#red circle\n",
    "\n",
    "plt.savefig('plot.png')\n",
    "plt.show()"
   ]
  },
  {
   "cell_type": "markdown",
   "metadata": {},
   "source": [
    "## Sammanfattning\n",
    "\n",
    "Du måste öppna en fil innan du ska använda den, du måste stänga den när du är klar. Du bör också ange vad du ska göra: läsa, skriva.\n",
    "Vi har behandlat 2 filformat: txt och csv. Vi behandlar inte kommersiella format. Alla operativsystem kan spara i txt och csv.\n",
    "\n",
    ".txt\n",
    "1. open()\n",
    "2. close()\n",
    "3. `with open('datafil1.txt', 'r') as f:` automatisk close(); f är nu kortnamnet för filen du ska arbeta med.  \n",
    "   * r, w, w+\n",
    "4. f.read när du ska läsa, f.write när du ska skriva\n",
    "5. f.readlines för att läsa en rad åt gången  \n",
    "6. Rader kan adresseras med index\n",
    "\n",
    ".csv\n",
    "1. Kalkylark. Se upp för användningen av decimaltecken; kommatecken eller punkt.\n",
    "2. Typexempel\n",
    "\n",
    "```\n",
    "import csv\n",
    "with open('testdata.csv','r') as f:\n",
    "    data = csv.reader(f)\n",
    "    print(\"radutskrift\")\n",
    "    for row in data:\n",
    "        print(row)\n",
    "```\n",
    "3. Typexempel inför plot; skapa 2 listor som sedan kan ritas\n",
    "\n",
    "```\n",
    "x=[]; y=[] #Två tomma att starta med\n",
    "\n",
    "with open('testdata.csv','r') as f:\n",
    "  data = csv.reader(f)\n",
    "\n",
    "  for row in data:\n",
    "        x.append(float(row[0]))\n",
    "        y.append(float(row[1]))\n",
    "```"
   ]
  },
  {
   "cell_type": "markdown",
   "metadata": {},
   "source": [
    "## Uppgifter\n",
    "\n",
    "**Uppgift 1**\n",
    "\n",
    "Ladda ner filen, öppna den, läs den och plotta den: [uppgift1_fil.csv](./uppg/input2Uppgift1_filcsv.csv)\n",
    "\n",
    "[Lösningsförslag](./uppg/input2Uppgift1.ipynb)\n",
    "\n",
    "**Uppgift 2**\n",
    "\n",
    "Hämta en kommaavgränsad fil från statistiska centralbyrån eller ladda ner [uppgift2_fil.csv](./uppg/EN0108A3_20220618_102912.csv) (hämtad från scb 220618) och plotta datamängden. Filen innehåller \"Eltillförsel netto, GWh efter månad och produktionsslag\".\n",
    "Kommandot `next(data)` gör att en rad hoppas över. Detta kan vara bra då första raden ofta används för rubrik. Koden nedan illustrerar användningen av next().\n",
    "```\n",
    "with open('filnam','r') as f:\n",
    "  data = csv.reader(f)\n",
    "  next(data)  # ! Hoppa en rad\n",
    "  for row in data:\n",
    "        x.append(...)\n",
    "        y.append(...)\n",
    "```\n",
    "\n",
    "\n",
    "[Lösningsförslag](./uppg/input2Uppgift2.ipynb)\n"
   ]
  },
  {
   "cell_type": "code",
   "execution_count": null,
   "metadata": {},
   "outputs": [],
   "source": []
  }
 ],
 "metadata": {
  "kernelspec": {
   "display_name": "Python 3 (ipykernel)",
   "language": "python",
   "name": "python3"
  },
  "language_info": {
   "codemirror_mode": {
    "name": "ipython",
    "version": 3
   },
   "file_extension": ".py",
   "mimetype": "text/x-python",
   "name": "python",
   "nbconvert_exporter": "python",
   "pygments_lexer": "ipython3",
   "version": "3.9.16"
  }
 },
 "nbformat": 4,
 "nbformat_minor": 4
}
