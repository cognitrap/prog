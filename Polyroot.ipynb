{
 "cells": [
  {
   "cell_type": "markdown",
   "id": "b71c49c2-0505-4a13-97ad-8a5da3389ef2",
   "metadata": {},
   "source": [
    "### Att lösa ekvationer av typen p(x)=0 där p(x) är ett polynom.\n",
    "\n",
    "Vi anger ett polynom genom att i princip ange en array. Polynom anges med lägsta gradtalet först i linje med indexeringen som har index 0 på första elementet som då motsvarar $x⁰$. Polynomet $-5x^4+2x^2+4$ ges av"
   ]
  },
  {
   "cell_type": "code",
   "execution_count": 1,
   "id": "9b24eaaf-eaf6-4439-bb69-a478038d73fd",
   "metadata": {},
   "outputs": [
    {
     "data": {
      "text/latex": [
       "$x \\mapsto \\text{4.0}\\color{LightGray}{ + \\text{0.0}\\,x} + \\text{2.0}\\,x^{2}\\color{LightGray}{ + \\text{0.0}\\,x^{3}} - \\text{5.0}\\,x^{4}$"
      ],
      "text/plain": [
       "Polynomial([ 4.,  0.,  2.,  0., -5.], domain=[-1,  1], window=[-1,  1])"
      ]
     },
     "execution_count": 1,
     "metadata": {},
     "output_type": "execute_result"
    }
   ],
   "source": [
    "from numpy.polynomial import Polynomial as P\n",
    "\n",
    "#Lägsta gradtalet först; indexordning\n",
    "p = P([4,0,2,0, -5])\n",
    "\n",
    "p\n",
    "#print(p)"
   ]
  },
  {
   "cell_type": "markdown",
   "id": "38a3d6bf-0787-4c6e-9b58-53597481c37c",
   "metadata": {},
   "source": [
    "Rötterna är en metod till polynomet: p.roots. Vi löser $3+2x+x^2=0$"
   ]
  },
  {
   "cell_type": "code",
   "execution_count": 22,
   "id": "6a326dce-67da-45ec-ac81-4533f5c221c9",
   "metadata": {},
   "outputs": [
    {
     "data": {
      "text/plain": [
       "array([-1.-1.41421356j, -1.+1.41421356j])"
      ]
     },
     "execution_count": 22,
     "metadata": {},
     "output_type": "execute_result"
    }
   ],
   "source": [
    "from numpy.polynomial import Polynomial as P\n",
    "\n",
    "p = P([3, 2, 1])\n",
    "p.roots()\n"
   ]
  },
  {
   "cell_type": "markdown",
   "id": "7439b932-5d44-4c86-9c12-79d6815baacc",
   "metadata": {},
   "source": [
    "Observera alltså att komplexa rötter ges automatiskt.\n",
    "\n",
    "Vi löser 3 typiska: $ (x-2)(x+3)=x^2+x-6=0$ och $ (x-3)(x-3)=x^2-6x+9=0$ och sist $ x^2+1=0$"
   ]
  },
  {
   "cell_type": "code",
   "execution_count": 1,
   "id": "af19ba72-0961-4c42-bf1f-8b4c1be1027a",
   "metadata": {},
   "outputs": [
    {
     "name": "stdout",
     "output_type": "stream",
     "text": [
      "[-3.  2.]\n",
      "[2.99999998 3.00000002]\n",
      "[0.-1.j 0.+1.j]\n"
     ]
    }
   ],
   "source": [
    "from numpy.polynomial import Polynomial as P\n",
    "\n",
    "p1 = P([-6, 1, 1])\n",
    "p2 = P([9, -6, 1])\n",
    "p3 = P([1, 0, 1])\n",
    "print(p1.roots())\n",
    "print(p2.roots())\n",
    "print(p3.roots())"
   ]
  },
  {
   "cell_type": "markdown",
   "id": "a6578eb5-f933-4dd5-a49d-110095e0b78c",
   "metadata": {},
   "source": [
    "\n",
    "Om $p(x)=-5x^4+2x^2+4$ så beräknar vi $p(0)$ och $p(3)$ genom"
   ]
  },
  {
   "cell_type": "code",
   "execution_count": 2,
   "id": "a1a988bc-af79-4130-a402-7c7c55309a55",
   "metadata": {},
   "outputs": [
    {
     "name": "stdout",
     "output_type": "stream",
     "text": [
      "p(0)= 4.0\n",
      "p(3)= -383.0\n"
     ]
    }
   ],
   "source": [
    "from numpy.polynomial import Polynomial as P\n",
    "\n",
    "p = P([4, 0, 2, 0, -5])\n",
    "\n",
    "print(\"p(0)=\",p(0))\n",
    "print(\"p(3)=\",p(3))"
   ]
  },
  {
   "cell_type": "markdown",
   "id": "4352e330-c298-47a3-abf5-c4426c15c8c1",
   "metadata": {},
   "source": [
    "Polynom med komplexa koefficienter\n",
    "\n",
    "$z^2+(1+1j)z=0$"
   ]
  },
  {
   "cell_type": "code",
   "execution_count": 23,
   "id": "07abfdd9-dbc9-4f87-80bf-d40f55a85943",
   "metadata": {},
   "outputs": [
    {
     "data": {
      "text/plain": [
       "array([-1.-1.j,  0.+0.j])"
      ]
     },
     "execution_count": 23,
     "metadata": {},
     "output_type": "execute_result"
    }
   ],
   "source": [
    "from numpy.polynomial import Polynomial as P\n",
    "\n",
    "p = P([0,1+1j,1])\n",
    "\n",
    "p.roots()"
   ]
  }
 ],
 "metadata": {
  "kernelspec": {
   "display_name": "Python 3 (ipykernel)",
   "language": "python",
   "name": "python3"
  },
  "language_info": {
   "codemirror_mode": {
    "name": "ipython",
    "version": 3
   },
   "file_extension": ".py",
   "mimetype": "text/x-python",
   "name": "python",
   "nbconvert_exporter": "python",
   "pygments_lexer": "ipython3",
   "version": "3.9.7"
  }
 },
 "nbformat": 4,
 "nbformat_minor": 5
}
