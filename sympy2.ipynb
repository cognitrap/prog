{
 "cells": [
  {
   "cell_type": "markdown",
   "id": "1196635a-477d-43c6-8819-44680f66b98b",
   "metadata": {},
   "source": [
    "### Tangentplan\n",
    "\n",
    "Med hjälp av sympy konstruerar vi tangentplan till kvadratiska funktioner.\n",
    "https://docs.sympy.org/latest/modules/plotting.html\n",
    "\n",
    "Koden fungerar bra på jupyterlab men inte med binder. Fungerar dåligt på replit.com men utmärkt i en textfil som körs med kommandot python. Så kopiera och klistra in (ta bort %matplotlib widget) i en textfil.\n"
   ]
  },
  {
   "cell_type": "code",
   "execution_count": 2,
   "id": "66f8bbdf-5979-4edb-8be8-61e13ebb968b",
   "metadata": {},
   "outputs": [
    {
     "name": "stdin",
     "output_type": "stream",
     "text": [
      "Ange i vilken punkt tangentplanet ska beräknas 3 3\n"
     ]
    },
    {
     "data": {
      "application/vnd.jupyter.widget-view+json": {
       "model_id": "2b505ecff6a7439ea6e1a8dab474d3fd",
       "version_major": 2,
       "version_minor": 0
      },
      "text/plain": [
       "Canvas(toolbar=Toolbar(toolitems=[('Home', 'Reset original view', 'home', 'home'), ('Back', 'Back to previous …"
      ]
     },
     "metadata": {},
     "output_type": "display_data"
    },
    {
     "data": {
      "text/plain": [
       "<sympy.plotting.plot.Plot at 0x7f9c2aa9eeb0>"
      ]
     },
     "execution_count": 2,
     "metadata": {},
     "output_type": "execute_result"
    }
   ],
   "source": [
    "from sympy import *\n",
    "x,y,f,z=symbols('x y f z')\n",
    "xs0,ys0=symbols('x0s y0s')\n",
    "\n",
    "# fknsvärden. använder symbolisk definition, subs\n",
    "def fz(x0,y0):\n",
    "  fz=f.subs([(x,x0),(y,y0)])\n",
    "  return(fz)\n",
    "\n",
    "# symbolisk def av funktionen\n",
    "f=x**2+y**2\n",
    "\n",
    "x0,y0=input(\"Ange i vilken punkt tangentplanet ska beräknas\").split()\n",
    "\n",
    "\n",
    "#Derivator\n",
    "fpx=diff(f,x)\n",
    "fpy=diff(f,y)\n",
    "\n",
    "fpxnr=fpx.subs([(x,x0),(y,y0)])\n",
    "fpynr=fpy.subs([(x,x0),(y,y0)])\n",
    "\n",
    "#planet symboliskt\n",
    "z=f+fpx*(x-xs0)+fpy*(y-ys0)\n",
    "\n",
    "# sätter in värdena xx\n",
    "znr=z.subs([(xs0,x0),(ys0,y0),\n",
    "(fpx,fpxnr),(fpy,fpynr),\n",
    "(f,fz(x0,y0))])\n",
    "\n",
    "#nu går vi över till plottning\n",
    "from sympy.plotting import plot3d\n",
    "\n",
    "%matplotlib widget \n",
    "#Fungerar i jupyterlab men ej via binder\n",
    "\n",
    "plot3d(znr, f, (x,-10,10), (y,-10,10))\n",
    "# Observera att lambdify inte behövs. Det räcker med att ange de symboliska uttrycken znr och f"
   ]
  },
  {
   "cell_type": "code",
   "execution_count": null,
   "id": "9e941a9e-1d0f-44c0-8f34-ee45f3bed921",
   "metadata": {},
   "outputs": [],
   "source": []
  }
 ],
 "metadata": {
  "kernelspec": {
   "display_name": "Python 3",
   "language": "python",
   "name": "python3"
  },
  "language_info": {
   "codemirror_mode": {
    "name": "ipython",
    "version": 3
   },
   "file_extension": ".py",
   "mimetype": "text/x-python",
   "name": "python",
   "nbconvert_exporter": "python",
   "pygments_lexer": "ipython3",
   "version": "3.8.5"
  }
 },
 "nbformat": 4,
 "nbformat_minor": 5
}
