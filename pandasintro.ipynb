{
 "cells": [
  {
   "cell_type": "markdown",
   "id": "f3b64466-55fa-436f-a6fa-50c2900a094f",
   "metadata": {},
   "source": [
    "### Pandas\n",
    "\n",
    "Pandas är en modul i python https://pandas.pydata.org/. Pandas används ofta för hantering av större datamängder t.ex. genererad av mätningar med hjälp av maskiner (datalogger).\n",
    "\n",
    "Ett centralt begrepp är Serie som i dataserie."
   ]
  },
  {
   "cell_type": "code",
   "execution_count": 1,
   "id": "9c913f66-cd8d-43dc-a551-3217e7efb173",
   "metadata": {},
   "outputs": [
    {
     "name": "stdout",
     "output_type": "stream",
     "text": [
      "0     3\n",
      "1     2\n",
      "2     0\n",
      "3    11\n",
      "dtype: int64\n"
     ]
    }
   ],
   "source": [
    "import numpy as np\n",
    "import pandas as pd\n",
    "tab=pd.Series([3,2,0,11])\n",
    "print(tab)"
   ]
  },
  {
   "cell_type": "markdown",
   "id": "0d7f3279-b656-48cb-937d-b7921fff848d",
   "metadata": {},
   "source": [
    "Vi lägger märke till att pandas skriver i kolumner; har skapat ett index i en kolumn till vänster.\n",
    "\n",
    "Vi kan konstruera index själva och använda kommandot `DataFrame()`"
   ]
  },
  {
   "cell_type": "code",
   "execution_count": 5,
   "id": "2d2f3a66-129a-4c44-b2d0-b0920ed5be80",
   "metadata": {},
   "outputs": [
    {
     "name": "stdout",
     "output_type": "stream",
     "text": [
      "                   A         B         C         D\n",
      "2021-08-27 -0.402561  0.009678  0.340286 -0.044216\n",
      "2021-08-28 -0.294852  0.804351 -0.087947 -0.987862\n",
      "2021-08-29 -0.202052  0.000843 -0.910194  0.290129\n",
      "2021-08-30 -0.535136  1.491951 -0.015505  0.077668\n",
      "2021-08-31 -0.069176 -0.274867  0.764884  2.178564\n",
      "2021-09-01  0.270244  0.287732  1.039937 -0.646730\n",
      "2021-09-02  1.050726  0.639062 -0.170776  0.051549\n",
      "2021-09-03 -1.768100 -0.448353 -1.363587 -1.633002\n"
     ]
    }
   ],
   "source": [
    "datum=pd.date_range(\"20210827\", periods=8)\n",
    "\n",
    "df=pd.DataFrame(np.random.randn(8,4), index=datum, columns=list(\"ABCD\"))\n",
    "print(df)"
   ]
  },
  {
   "cell_type": "markdown",
   "id": "2f386eed-3c96-495a-9b3a-8217568d4345",
   "metadata": {},
   "source": [
    "Lägg märke till att den hanterar antalet dagar i en månad."
   ]
  }
 ],
 "metadata": {
  "kernelspec": {
   "display_name": "Python 3",
   "language": "python",
   "name": "python3"
  },
  "language_info": {
   "codemirror_mode": {
    "name": "ipython",
    "version": 3
   },
   "file_extension": ".py",
   "mimetype": "text/x-python",
   "name": "python",
   "nbconvert_exporter": "python",
   "pygments_lexer": "ipython3",
   "version": "3.8.5"
  }
 },
 "nbformat": 4,
 "nbformat_minor": 5
}
