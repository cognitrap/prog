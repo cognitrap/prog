{
 "cells": [
  {
   "cell_type": "markdown",
   "metadata": {},
   "source": [
    "# Ladda Moduler\n",
    "\n",
    "Vi har än så länge bara använt en grundversion av python. Vill man göra mer avancerade saker måste man ladda något som kallas för moduler. Moduler är program med kod, speciellt så kallade funktioner(`def` som behandlas i 2.4). Python i grundutförandet har inte så många avancerade kommandon utan dessa måste byggas upp. Python i grundutförande kan tex addera men inte ta kvadratroten ur ett tal.\n",
    "\n",
    "Den första modulen vi ska använda heter math.\n",
    "\n",
    "Om du försöker göra sqrt(2) för att dra kvadratroten ur 2 så kommer python i grundversionen att ge felmeddelande om att sqrt inte är definierat."
   ]
  },
  {
   "cell_type": "code",
   "execution_count": 1,
   "metadata": {},
   "outputs": [
    {
     "ename": "NameError",
     "evalue": "name 'sqrt' is not defined",
     "output_type": "error",
     "traceback": [
      "\u001b[0;31m---------------------------------------------------------------------------\u001b[0m",
      "\u001b[0;31mNameError\u001b[0m                                 Traceback (most recent call last)",
      "\u001b[0;32m<ipython-input-1-fc87e550f4ba>\u001b[0m in \u001b[0;36m<module>\u001b[0;34m\u001b[0m\n\u001b[0;32m----> 1\u001b[0;31m \u001b[0mprint\u001b[0m\u001b[0;34m(\u001b[0m\u001b[0msqrt\u001b[0m\u001b[0;34m(\u001b[0m\u001b[0;36m2\u001b[0m\u001b[0;34m)\u001b[0m\u001b[0;34m)\u001b[0m\u001b[0;34m\u001b[0m\u001b[0;34m\u001b[0m\u001b[0m\n\u001b[0m",
      "\u001b[0;31mNameError\u001b[0m: name 'sqrt' is not defined"
     ]
    }
   ],
   "source": [
    "print(sqrt(2))"
   ]
  },
  {
   "cell_type": "markdown",
   "metadata": {},
   "source": [
    "För att ladda math-modulen skriver vi `import math as m`. Vi kan nu skriva m.sqrt(2) och få ett resultat.\n",
    "I sin helhet är det:        "
   ]
  },
  {
   "cell_type": "code",
   "execution_count": 1,
   "metadata": {},
   "outputs": [
    {
     "name": "stdout",
     "output_type": "stream",
     "text": [
      "1.4142135623730951\n"
     ]
    }
   ],
   "source": [
    "import math as m\n",
    "\n",
    "print(m.sqrt(2))"
   ]
  },
  {
   "cell_type": "markdown",
   "metadata": {},
   "source": [
    "`import` säger till programmet att modulen math ska laddas (importeras) så den kan användas.\n",
    "\n",
    "När vi ska ge kommandot för roten ur använder vi `sqrt()`. Vi måste dock tala om att detta kommando finns i modulen m (som vi förkortat den till). \n",
    "\n",
    "Att m står för math kallas för ett alias. Det går nu inte att skriva `math.sqrt(2)`.\n",
    "\n",
    "math innehåller pythonkod, så det är fortfarande python."
   ]
  },
  {
   "cell_type": "markdown",
   "metadata": {},
   "source": [
    "För att få reda på vad en modul innehåller skriver man:"
   ]
  },
  {
   "cell_type": "code",
   "execution_count": 6,
   "metadata": {},
   "outputs": [
    {
     "name": "stdout",
     "output_type": "stream",
     "text": [
      "['__doc__', '__file__', '__loader__', '__name__', '__package__', '__spec__', 'acos', 'acosh', 'asin', 'asinh', 'atan', 'atan2', 'atanh', 'ceil', 'comb', 'copysign', 'cos', 'cosh', 'degrees', 'dist', 'e', 'erf', 'erfc', 'exp', 'expm1', 'fabs', 'factorial', 'floor', 'fmod', 'frexp', 'fsum', 'gamma', 'gcd', 'hypot', 'inf', 'isclose', 'isfinite', 'isinf', 'isnan', 'isqrt', 'ldexp', 'lgamma', 'log', 'log10', 'log1p', 'log2', 'modf', 'nan', 'perm', 'pi', 'pow', 'prod', 'radians', 'remainder', 'sin', 'sinh', 'sqrt', 'tan', 'tanh', 'tau', 'trunc']\n"
     ]
    }
   ],
   "source": [
    "import math  # Naturligtvis\n",
    "print(dir(math))  # directory"
   ]
  },
  {
   "cell_type": "markdown",
   "metadata": {},
   "source": [
    "Engelskans 'directory' betyder katalog, vi får en katalog över kommandona i math. En del är kanske inte förståeligt men vi ser att vi fått trigonometriska funktioner (cos), fakultet (factorial) och logaritmer (log)."
   ]
  },
  {
   "cell_type": "markdown",
   "metadata": {},
   "source": [
    "Den noggranne läsaren undrar kanske varför vi inte skrev (vi behövde inget alias när vi använde dir):"
   ]
  },
  {
   "cell_type": "code",
   "execution_count": 1,
   "metadata": {},
   "outputs": [
    {
     "ename": "NameError",
     "evalue": "name 'sqrt' is not defined",
     "output_type": "error",
     "traceback": [
      "\u001b[0;31m---------------------------------------------------------------------------\u001b[0m",
      "\u001b[0;31mNameError\u001b[0m                                 Traceback (most recent call last)",
      "\u001b[0;32m<ipython-input-1-f08cf334e57d>\u001b[0m in \u001b[0;36m<module>\u001b[0;34m\u001b[0m\n\u001b[1;32m      1\u001b[0m \u001b[0;32mimport\u001b[0m \u001b[0mmath\u001b[0m \u001b[0;31m#inget 'as m'\u001b[0m\u001b[0;34m\u001b[0m\u001b[0;34m\u001b[0m\u001b[0m\n\u001b[0;32m----> 2\u001b[0;31m \u001b[0mprint\u001b[0m\u001b[0;34m(\u001b[0m\u001b[0msqrt\u001b[0m\u001b[0;34m(\u001b[0m\u001b[0;36m2\u001b[0m\u001b[0;34m)\u001b[0m\u001b[0;34m)\u001b[0m\u001b[0;34m\u001b[0m\u001b[0;34m\u001b[0m\u001b[0m\n\u001b[0m",
      "\u001b[0;31mNameError\u001b[0m: name 'sqrt' is not defined"
     ]
    }
   ],
   "source": [
    "import math  # Inget 'as m'\n",
    "print(sqrt(2))"
   ]
  },
  {
   "cell_type": "markdown",
   "metadata": {},
   "source": [
    "Men det fungerar inte utan då måste vi skriva `math.sqrt(2)`\n",
    "\n",
    "Vill man ha in allt utan alias skriver man"
   ]
  },
  {
   "cell_type": "code",
   "execution_count": 3,
   "metadata": {},
   "outputs": [
    {
     "name": "stdout",
     "output_type": "stream",
     "text": [
      "1.4142135623730951\n"
     ]
    }
   ],
   "source": [
    "from math import *\n",
    "\n",
    "print(sqrt(2))"
   ]
  },
  {
   "cell_type": "markdown",
   "metadata": {},
   "source": [
    "Nu kan vi skriva sqrt(2) direkt. Detta rekomenderas dock inte bland annat  eftersom det finns flera olika kvadrots-funktioner och man vill gärna veta vilken det är som används. Dessutom kan en modul innehålla andra moduler och det finns ingen automatik i att de (modulers moduler) alltid importeras, ibland måste man ange dem för sig.\n",
    "\n",
    "Vi kommer ofta att importera numerical python, numpy. Den förkortas vanligtvis till np.\n",
    "Ytterligare importbehov tillkommer då man vill rita grafer eller göra tex. algebraiska förenklingar med symboler.\n",
    "\n",
    "Import av moduler görs alltid på de första raderna i ett program! Du ska bara importera en modul en gång i programmet, så lägg inte importen i en loop.\n",
    "\n",
    "Längre fram kommer du att konstruera egna moduler, vi återkommer till detta."
   ]
  },
  {
   "cell_type": "markdown",
   "metadata": {},
   "source": [
    "**Sammanfattning**\n",
    "\n",
    "import math as m --> m.sqrt()\n",
    "\n",
    "import math --> math.sqrt()\n",
    "\n",
    "from math import * --> sqrt()\n",
    "\n",
    "\n"
   ]
  },
  {
   "cell_type": "markdown",
   "metadata": {},
   "source": [
    "## Uppgifter\n",
    "\n",
    "**Uppgift 1**\n",
    "\n",
    "Ta reda på vad modulen \"Turtle\" används till.\n",
    "\n",
    "[Lösningsförslag](./uppg/ModulerUppgift1.ipynb)\n"
   ]
  }
 ],
 "metadata": {
  "kernelspec": {
   "display_name": "Python 3 (ipykernel)",
   "language": "python",
   "name": "python3"
  },
  "language_info": {
   "codemirror_mode": {
    "name": "ipython",
    "version": 3
   },
   "file_extension": ".py",
   "mimetype": "text/x-python",
   "name": "python",
   "nbconvert_exporter": "python",
   "pygments_lexer": "ipython3",
   "version": "3.11.5"
  }
 },
 "nbformat": 4,
 "nbformat_minor": 4
}
