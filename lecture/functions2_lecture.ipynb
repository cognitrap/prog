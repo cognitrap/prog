{
 "cells": [
  {
   "cell_type": "markdown",
   "metadata": {},
   "source": [
    "# Funktioner\n",
    "\n",
    "Funktioner i python är mer än funktioner i matematiken. Man kan se dem som standardrutiner, ett eget litet program i programmet. En låda som gör en speciell sak och sedan skickar tillbaka resultatet till där man anropade funktionen.\n"
   ]
  },
  {
   "cell_type": "markdown",
   "metadata": {},
   "source": [
    "## Definition\n",
    "\n",
    "Vi **definierar** funktionen $f(x)=x/3-2$ i python genom att skriva just `def`"
   ]
  },
  {
   "cell_type": "code",
   "execution_count": 1,
   "metadata": {},
   "outputs": [
    {
     "name": "stdout",
     "output_type": "stream",
     "text": [
      "0.0\n"
     ]
    }
   ],
   "source": [
    "# Definierar en funktion\n",
    "def f(x):\n",
    "    y = x/3 -2\n",
    "    return(y)\n",
    "\n",
    "print(f(6))  # Anropet till funktionen är f(6)"
   ]
  },
  {
   "cell_type": "markdown",
   "metadata": {},
   "source": [
    "Funktionens definierande kommando är\n",
    "\n",
    "```\n",
    "def f(x):\n",
    "    ett\n",
    "    antal\n",
    "    indragna \n",
    "    satser\n",
    "    return()\n",
    "```\n",
    "Funktionens namn är `f`.\n",
    "\n",
    "Kolon för att det kommer indragna satser, ett kod-block(svit).\n",
    "\n",
    "`return()` för att skicka tillbaka något till anropet (ej nödvändigt). Det som skickas tillbaka är i exemplet resultatet av värdet på y som i sin tur är resultatet av beräkningen `x/3 - 2`."
   ]
  },
  {
   "cell_type": "markdown",
   "metadata": {},
   "source": [
    "Anropet till funktionen finns i `print(f(6))`. Anropet är `f(6)`. Värdet hos `f(6)` är värdet som beräknats och lagrats i `y` och skickas ut från def med hjälp av `return`; i just detta fall talet 0.\n",
    "\n",
    "Funktionen `f(x)` anropas med _argumentet_ 6.`f(6)`\n",
    "\n",
    "`x` i definitionen kallas för _parameter_.\n",
    "\n",
    "Håll isär termerna argument och parameter annars orsakas missförstånd."
   ]
  },
  {
   "cell_type": "markdown",
   "metadata": {},
   "source": [
    "Observera att def inte gör något själv, det är mer som en deklaration. Även om def-satser ska stå i början av koden så körs de **inte före** den egentliga koden; de deklareras först och körs sedan när någon sats **anropar** dem. \n",
    "\n",
    "Kör följande def och den ger inget ut. "
   ]
  },
  {
   "cell_type": "code",
   "execution_count": 2,
   "metadata": {},
   "outputs": [],
   "source": [
    "# Definierar en funktion; den körs inte när du klickar på symbolen för 'run',\n",
    "# ger inget ut även om det står en print-sats.\n",
    "def f(x):\n",
    "    print(\"Dags att vakna\")\n",
    "    return(2*x + 1)"
   ]
  },
  {
   "cell_type": "markdown",
   "metadata": {},
   "source": [
    "I och med att def är en deklaration så är det inte effektivt att ha den t.ex. i en loop; python behöver bara ha funktionen deklarerad 1 gång, då i början av programmet. I en loop deklareras den flera gånger, vilket är resurskrävande."
   ]
  },
  {
   "cell_type": "code",
   "execution_count": 10,
   "metadata": {
    "tags": []
   },
   "outputs": [
    {
     "name": "stdout",
     "output_type": "stream",
     "text": [
      "3\n",
      "Dags att vakna\n",
      "()\n"
     ]
    }
   ],
   "source": [
    "def f():\n",
    "    print(\"Dags att vakna\")\n",
    "    return()\n",
    "\n",
    "print(2+1)\n",
    "a = f()\n",
    "print(a)"
   ]
  },
  {
   "cell_type": "markdown",
   "metadata": {},
   "source": [
    "## Exempel"
   ]
  },
  {
   "cell_type": "markdown",
   "metadata": {},
   "source": [
    "### Roten av ett tal\n",
    "\n",
    "Vi definierar en funktion som beräknar roten av ett tal och använder den i en loop för att beräkna summan av rötter."
   ]
  },
  {
   "cell_type": "code",
   "execution_count": 11,
   "metadata": {},
   "outputs": [
    {
     "name": "stdout",
     "output_type": "stream",
     "text": [
      "i   summa\n",
      "1     1.0\n",
      "2     2.414213562373095\n",
      "3     4.146264369941973\n",
      "4     6.146264369941973\n",
      "5     8.382332347441762\n",
      "6     10.83182209022494\n",
      "7     13.47757340128953\n",
      "8     16.30600052603572\n",
      "9     19.30600052603572\n",
      "10     22.4682781862041\n",
      "11     25.7849029765595\n",
      "12     29.249004591697254\n",
      "13     32.854555867161245\n",
      "14     36.59621325393519\n",
      "15     40.46919660014261\n",
      "16     44.46919660014261\n",
      "17     48.59230222576027\n",
      "18     52.834942912879555\n",
      "19     57.19384185642023\n",
      "20     61.66597781141981\n"
     ]
    }
   ],
   "source": [
    "# Definierar en funktion för roten av ett tal; inget utförs\n",
    "def rot(n):\n",
    "  return(n**(0.5))\n",
    "\n",
    "summarot = 0  # Initiering av variabel\n",
    "print(\"i   summa\")  # Rubrik för tabell\n",
    "\n",
    "for i in range(1,21,1):  # Från 1 till 20\n",
    "  summarot = rot(i) + summarot  # Anrop av funktionen rot(); nu utförs den\n",
    "  print(i, \"   \",summarot)"
   ]
  },
  {
   "cell_type": "markdown",
   "metadata": {},
   "source": [
    "### Upp av två tal\n",
    "\n",
    "En funktion som beräknar det största talet upphöjt till det minsta av två tal som matas in i programmet.\n",
    "Skickar nu 2 tal till en funktion, inte bara 1 som tidigare."
   ]
  },
  {
   "cell_type": "code",
   "execution_count": 13,
   "metadata": {},
   "outputs": [
    {
     "name": "stdout",
     "output_type": "stream",
     "text": [
      "Beräknar upp av två tal\n"
     ]
    },
    {
     "name": "stdin",
     "output_type": "stream",
     "text": [
      "Ange det första talet  1.3\n",
      "Ange det andra talet  2.5\n"
     ]
    },
    {
     "name": "stdout",
     "output_type": "stream",
     "text": [
      "Upp är  3.2909555108355937\n"
     ]
    }
   ],
   "source": [
    "print(\"Beräknar upp av två tal\")\n",
    "\n",
    "def upp(x,y):  # Funktionen definieras, den ska ha 2 tal\n",
    "    if x>y : xy=x**y\n",
    "    else: xy=y**x\n",
    "\n",
    "    return(xy)\n",
    "\n",
    "\n",
    "\n",
    "a = float(input(\"Ange det första talet \"))\n",
    "b = float(input(\"Ange det andra talet \"))\n",
    "print(\"Upp är \", upp(a,b))  # Anrop\n"
   ]
  },
  {
   "cell_type": "markdown",
   "metadata": {},
   "source": [
    "### Andragradsfunktion\n",
    "\n",
    "Programmet skickar 2 tal tillbaka, inte bara 1.\n",
    "När 2 tal, eller fler, skickas tillbaka med return så kan värdena tas fram enskilt genom att som vid listor ange index."
   ]
  },
  {
   "cell_type": "code",
   "execution_count": 11,
   "metadata": {},
   "outputs": [
    {
     "name": "stdout",
     "output_type": "stream",
     "text": [
      "A = 2.0 \n",
      "B= 1.0\n",
      "(2.0, 1.0)\n"
     ]
    }
   ],
   "source": [
    "\"\"\"\n",
    "y=A+B*x^2\n",
    "\n",
    "Ekv system\n",
    "L1[1]=A+B*L1[0]^2\n",
    "L2[1]=A+B*L2[0]^2\n",
    "\n",
    "Ekv 2 minus ekv 1:\n",
    "L2[1]-L1[1]=B*(L2[0]^2-L1[0]^2)\n",
    "så\n",
    "B=(L2[1]-L1[1])/(L2[0]^2-L1[0]^2)\n",
    "\n",
    "och med B insatt i ekv 1\n",
    "\n",
    "A=L1[1]-B*L1[0]^2\n",
    "\n",
    "\"\"\"\n",
    "import math as m\n",
    "# Första punkten\n",
    "L1 = [1.0,3.0]  # (x1,y1)\n",
    "# Andra punkten\n",
    "L2 = [3,11.]  # (x2,y2)\n",
    "# Kan ändras till input() senare när programmet fungerar\n",
    "\n",
    "\n",
    "def andragr(l1,l2):\n",
    "    B=(l2[1]-l1[1])/(l2[0]**2-l1[0]**2)\n",
    "    A=l1[1]-B*l1[0]**2\n",
    "\n",
    "    return(A,B)  # Resultat, 2 tal, blir automatiskt en 'tuple'; fungerar ungefär som en lista\n",
    "\n",
    "\n",
    "values = andragr(L1,L2)  # Anrop\n",
    "\n",
    "# De enskilda värdena i values kan nås med index: values[0] är första elementet\n",
    "print(\"A =\", values[0], \"\\nB=\", values[1])\n",
    "\n",
    "print(values)\n",
    "\n"
   ]
  },
  {
   "cell_type": "markdown",
   "metadata": {},
   "source": [
    "Vi gör en annan variant på föregående program om andragradskurva. Jämför."
   ]
  },
  {
   "cell_type": "code",
   "execution_count": 12,
   "metadata": {},
   "outputs": [
    {
     "name": "stdout",
     "output_type": "stream",
     "text": [
      "A = 2.0 \n",
      "B= 1.0\n",
      "[2.0, 1.0]\n"
     ]
    }
   ],
   "source": [
    "import math as m\n",
    "# Första punkten\n",
    "L1 = [1.0,3.0]  # (x1,y1)\n",
    "# Andra punkten\n",
    "L2 = [3,11.]  # (x2,y2)\n",
    "\n",
    "\n",
    "def andragr(l1,l2):\n",
    "    B=(l2[1]-l1[1])/(l2[0]**2-l1[0]**2)\n",
    "    A=l1[1]-B*l1[0]**2\n",
    "    UT=[A,B]  # Vi gör en egen lista och skickar den\n",
    "    return(UT)\n",
    "\n",
    "\n",
    "values = andragr(L1,L2)  # Anrop\n",
    "\n",
    "# De enskilda värdena i values kan nås med index: values[0] är första elementet\n",
    "print(\"A =\", values[0], \"\\nB=\", values[1])\n",
    "\n",
    "print(values)"
   ]
  },
  {
   "cell_type": "markdown",
   "metadata": {},
   "source": [
    "Precis som i matematiken kan man arbeta med sammansatta funktioner. Skrivsättet liknar det vi är vana vid."
   ]
  },
  {
   "cell_type": "code",
   "execution_count": 15,
   "metadata": {},
   "outputs": [
    {
     "name": "stdout",
     "output_type": "stream",
     "text": [
      "f(g(2))= 2.0\n",
      "g(f(2))= 2.0\n"
     ]
    }
   ],
   "source": [
    "def f(x):\n",
    "    y = 2*x + 1\n",
    "    return(y)\n",
    "\n",
    "def g(x):\n",
    "    y = (x-1)/2\n",
    "    return(y)\n",
    "\n",
    "fg = f(g(2))\n",
    "gf = g(f(2))\n",
    "\n",
    "print(\"f(g(2))=\", fg)\n",
    "\n",
    "print(\"g(f(2))=\", gf)"
   ]
  },
  {
   "cell_type": "markdown",
   "metadata": {},
   "source": [
    "Definitionen av funktionen kan, som nämnts, inte ligga efter anropet. Det genererar felet NameError."
   ]
  },
  {
   "cell_type": "code",
   "execution_count": 8,
   "metadata": {},
   "outputs": [
    {
     "ename": "NameError",
     "evalue": "name 'ff' is not defined",
     "output_type": "error",
     "traceback": [
      "\u001b[0;31m---------------------------------------------------------------------------\u001b[0m",
      "\u001b[0;31mNameError\u001b[0m                                 Traceback (most recent call last)",
      "Input \u001b[0;32mIn [8]\u001b[0m, in \u001b[0;36m<cell line: 1>\u001b[0;34m()\u001b[0m\n\u001b[0;32m----> 1\u001b[0m \u001b[38;5;28mprint\u001b[39m(\u001b[43mff\u001b[49m(\u001b[38;5;241m5\u001b[39m))  \u001b[38;5;66;03m# Kan inte ligga före definitionen\u001b[39;00m\n\u001b[1;32m      3\u001b[0m \u001b[38;5;28;01mdef\u001b[39;00m \u001b[38;5;21mff\u001b[39m(x):\n\u001b[1;32m      4\u001b[0m     y \u001b[38;5;241m=\u001b[39m \u001b[38;5;241m2\u001b[39m\u001b[38;5;241m*\u001b[39mx \u001b[38;5;241m+\u001b[39m \u001b[38;5;241m1\u001b[39m\n",
      "\u001b[0;31mNameError\u001b[0m: name 'ff' is not defined"
     ]
    }
   ],
   "source": [
    "print(ff(5))  # Kan inte ligga före definitionen\n",
    "\n",
    "def ff(x):\n",
    "    y = 2*x + 1\n",
    "    return(y)\n"
   ]
  },
  {
   "cell_type": "markdown",
   "metadata": {},
   "source": [
    "### Rekursiv funktion\n",
    "\n",
    "Att en funktion är rekursiv innebär att den anropar sig själv.\n",
    "Vi studerar den rekursiva funktionen $a_n=3a_{n-1}$ med $a_0=5$"
   ]
  },
  {
   "cell_type": "code",
   "execution_count": 18,
   "metadata": {},
   "outputs": [
    {
     "name": "stdout",
     "output_type": "stream",
     "text": [
      "3\n",
      "2\n",
      "1\n",
      "750\n"
     ]
    }
   ],
   "source": [
    "\"\"\"\n",
    "Löser en rekursiv ekvation\n",
    "a(n)-5a(n-1)=0\n",
    "a(n)=5a(n-1)\n",
    "\"\"\"\n",
    "\n",
    "\n",
    "def rekur(n):\n",
    "  if n == 0:\n",
    "    return 6  # a0 = 6\n",
    "  else:\n",
    "    print(n) #för felsökning\n",
    "    return 5*rekur(n-1)\n",
    "\n",
    "\n",
    "# Beräknar termen med index n\n",
    "# n=3 ger \n",
    "#rekur(3)=5*rekur(3-1)\n",
    "#rekur(3-1)=5*rekur(3-2)\n",
    "#rekur(3-2)=5*rekur(3-3)\n",
    "#rekur(3-3)=6 ger rekur(3-2)=5*6\n",
    "#rekur(3-1)=5*rekur(3-2)=5*5*6\n",
    "#rekur(3)=5*rekur(3-1)=5*5*5*6\n",
    "\n",
    "print(rekur(3))"
   ]
  },
  {
   "cell_type": "markdown",
   "metadata": {},
   "source": [
    "## Variabelt antal argument\n",
    "\n",
    "\n",
    "Låt oss först definiera _positionsbestämda argument_ som att det är argument som tilldelas värden utifrån sina positioner. Första parametern får värdet som anges som första argument, andra parametern får värdet som anges av andra argumentet osv.\n"
   ]
  },
  {
   "cell_type": "code",
   "execution_count": 19,
   "metadata": {},
   "outputs": [
    {
     "name": "stdout",
     "output_type": "stream",
     "text": [
      "0.75\n",
      "1.3333333333333333\n"
     ]
    }
   ],
   "source": [
    "def kvot(a,b):\n",
    "  k=a/b\n",
    "  return k\n",
    "\n",
    "\n",
    "print(kvot(3,4))\n",
    "print(kvot(4,3))\n",
    "  "
   ]
  },
  {
   "cell_type": "markdown",
   "metadata": {},
   "source": [
    "\n",
    "**Packa upp:**\n",
    "Att ha data i en lista och skicka till en funktion som har parametrar. Lite slarvigt innebär det att elementen i listan blir argument till parametrarna. För att ange för python att den ska packa upp listan så skriver man * framför variabeln; i nedanstående fall `*elements`."
   ]
  },
  {
   "cell_type": "code",
   "execution_count": 49,
   "metadata": {},
   "outputs": [
    {
     "name": "stdout",
     "output_type": "stream",
     "text": [
      "[3, 70, 82, 2]\n",
      "93\n"
     ]
    }
   ],
   "source": [
    "import random\n",
    "\n",
    "def viktsumma(a,b,c,d):\n",
    "  s = 1*a - 1*b + 2*c - 2*d\n",
    "  return s\n",
    "\n",
    "L=random.sample(range(1,101), 4)\n",
    "print(L)\n",
    "print(viktsumma(*L))\n",
    "  "
   ]
  },
  {
   "cell_type": "markdown",
   "metadata": {},
   "source": [
    "När `viktsumma()` anropas i print-satsen har vi listan `L` som argument.\n",
    "Men funktionen är inte inställd på att ta emot en lista (vilket bara är 1 argument) utan är inställd på att ta 4 argument eftersom den har 4 parametrar. Men om python packar upp listan och tilldelar parametern a värdet i L[0], tilldelar parametern b värdet i L[1] osv, så blir det som jag vill."
   ]
  },
  {
   "cell_type": "markdown",
   "metadata": {},
   "source": [
    "**Packa ihop**: Den andra möjligheten som finns är att de argument som ges tas emot av funktionen och där packas ihop till en lista(egentligen en tuple) som sedan funktionen använder. Antalet argument är inte bestämt. I regel är det dock 1 parameter, i alla fall för varje lista som ska skapas."
   ]
  },
  {
   "cell_type": "code",
   "execution_count": 56,
   "metadata": {},
   "outputs": [
    {
     "name": "stdout",
     "output_type": "stream",
     "text": [
      "('a', 7, 'e')\n",
      "konkatenering av listans element är a7e\n"
     ]
    }
   ],
   "source": [
    "\"\"\"\n",
    "Tecknet * vid parametern gör om de 5 argumenten till en lista som \n",
    "sedan används för en loop\n",
    "\"\"\"\n",
    "\n",
    "def func(*args): \n",
    "    s = \"\"\n",
    "    print(args)\n",
    "    for a in args:\n",
    "        s = s + str(a)\n",
    "    return(s)\n",
    "\n",
    "dd = func(\"a\",7,\"e\")  # Skickar 3 argument, inte en lista\n",
    "print(\"konkatenering av listans element är\", dd)\n"
   ]
  },
  {
   "cell_type": "code",
   "execution_count": 18,
   "metadata": {},
   "outputs": [
    {
     "ename": "TypeError",
     "evalue": "func() takes 1 positional argument but 5 were given",
     "output_type": "error",
     "traceback": [
      "\u001b[0;31m---------------------------------------------------------------------------\u001b[0m",
      "\u001b[0;31mTypeError\u001b[0m                                 Traceback (most recent call last)",
      "Cell \u001b[0;32mIn[18], line 9\u001b[0m\n\u001b[1;32m      6\u001b[0m         s\u001b[38;5;241m=\u001b[39ms\u001b[38;5;241m+\u001b[39ma\n\u001b[1;32m      7\u001b[0m     \u001b[38;5;28;01mreturn\u001b[39;00m(s)\n\u001b[0;32m----> 9\u001b[0m dd\u001b[38;5;241m=\u001b[39mfunc(\u001b[38;5;241m2\u001b[39m,\u001b[38;5;241m3\u001b[39m,\u001b[38;5;241m1\u001b[39m,\u001b[38;5;241m5\u001b[39m,\u001b[38;5;241m3\u001b[39m)  \u001b[38;5;66;03m# Skickar 5 argument, inte en lista\u001b[39;00m\n\u001b[1;32m     10\u001b[0m \u001b[38;5;28mprint\u001b[39m(\u001b[38;5;124m\"\u001b[39m\u001b[38;5;124msumman av listans element är\u001b[39m\u001b[38;5;124m\"\u001b[39m, dd)\n",
      "\u001b[0;31mTypeError\u001b[0m: func() takes 1 positional argument but 5 were given"
     ]
    }
   ],
   "source": [
    "# Detta fungerar inte, endast tagit bort *\n",
    "\n",
    "def func(args): \n",
    "    s=0\n",
    "    for a in args:\n",
    "        s=s+a\n",
    "    return(s)\n",
    "\n",
    "dd=func(2,3,1,5,3)  # Skickar 5 argument, inte en lista\n",
    "print(\"summan av listans element är\", dd)"
   ]
  },
  {
   "cell_type": "code",
   "execution_count": 19,
   "metadata": {},
   "outputs": [
    {
     "name": "stdout",
     "output_type": "stream",
     "text": [
      "summan av listans element är 14\n"
     ]
    }
   ],
   "source": [
    "# Detta fungerar. Tagit bort *, men gjort om argumentet till en lista.\n",
    "\n",
    "def func(args):  # Tar nu 1 argument\n",
    "    s = 0\n",
    "    for a in args:\n",
    "        s = s + a\n",
    "    return(s)\n",
    "\n",
    "dd = func([2,3,1,5,3])  # Skickar inte 5 argument, utan en lista, vilket är 1 argument.\n",
    "print(\"summan av listans element är\", dd)"
   ]
  },
  {
   "cell_type": "markdown",
   "metadata": {},
   "source": [
    "Kom ihåg:\n",
    "\n",
    "Stjärna * vid anrop (argument) packar upp: anrop(*upp)\n",
    "\n",
    "Stjärna * vid def (parameter) packar ihop: def(*ihop)"
   ]
  },
  {
   "cell_type": "markdown",
   "metadata": {},
   "source": [
    "## Förinställd parameter\n",
    "\n",
    "I många sammanhang kan man vilja arbeta med en funktion på olika sätt. Man kan då använda _förinställda_ parametrar (default). Jag vill att ett program ska producera enbart slutresultat om den anropas på vanligt sätt. Om jag däremot anger ett extra argument så vill jag tex. att den skriver ut mer information."
   ]
  },
  {
   "cell_type": "code",
   "execution_count": 69,
   "metadata": {},
   "outputs": [
    {
     "name": "stdout",
     "output_type": "stream",
     "text": [
      "vinkeln erhålls i radianer 0.3046926540153975\n",
      "vinkel erhålls grader 17.457603123722095\n",
      "vinkel erhålls gon 19.39733680413566\n"
     ]
    }
   ],
   "source": [
    "# s har värdet \"rad\" förinställt, så om inget argument anges så är s=\"rad\"\n",
    "import math as m\n",
    "\n",
    "def vinkel(a, s=\"rad\"):\n",
    "    v = m.asin(a) # v i radianer\n",
    "    if s == \"deg\": v=v/m.pi*180\n",
    "    if s == \"gon\" : v=v/m.pi*200 # (nygrader)\n",
    "    return(v)\n",
    "\n",
    "\n",
    "print(\"vinkeln erhålls i radianer\", vinkel(0.3))\n",
    "print(\"vinkel erhålls grader\", vinkel(0.3, \"deg\"))\n",
    "print(\"vinkel erhålls gon\", vinkel(0.3, \"gon\"))\n",
    "\n"
   ]
  },
  {
   "cell_type": "markdown",
   "metadata": {},
   "source": [
    "Förinställt värde är mycket vanligt. Om vi ser tillbaka på kommandot `range(start,stopp,steg)` så kan vi vid ett anrop av denna funktion skriva `range(8)` som anger att stopp är 8 (exkl.). start och steg antar då de förinställda värdena 0 respektive 1."
   ]
  }
 ],
 "metadata": {
  "kernelspec": {
   "display_name": "Python 3 (ipykernel)",
   "language": "python",
   "name": "python3"
  },
  "language_info": {
   "codemirror_mode": {
    "name": "ipython",
    "version": 3
   },
   "file_extension": ".py",
   "mimetype": "text/x-python",
   "name": "python",
   "nbconvert_exporter": "python",
   "pygments_lexer": "ipython3",
   "version": "3.11.5"
  }
 },
 "nbformat": 4,
 "nbformat_minor": 4
}
