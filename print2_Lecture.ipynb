{
 "cells": [
  {
   "cell_type": "markdown",
   "metadata": {},
   "source": [
    "# Print med formatering\n",
    "\n",
    "## Metoden .format()\n",
    "\n",
    "\n",
    "Att skriva ut med formatering kan inledningsvis delas upp i 2 delar. En del som är statisk och en del som är flexibel.\n",
    "\n",
    "Idén är att ange en sträng (fix) med platshållare för sådant som ska kunna varieras. \n",
    "\n",
    "\n",
    "\"Hyran kostar {}, bensinen kostar {} och försäkringen kostar {}. Totalt blir det för 10 mil {}\"\n",
    "Sedan får man plocka det som ska in i parenteserna från en lista!\n",
    "\n",
    "Sedan måste man ha ett system för detta. Systemet är att man först anger strängen och sedan det som ska in i parenteserna.\n",
    "\n",
    "\"Hyran kostar {}, bensinen kostar {} och försäkringen kostar {}. Totalt blir det för 12 mil {}\".format(2000, 10, 500, 12*10)\n",
    "\n",
    "Vilket innebär att bredden är 2 m, längden är 4 m, djupet är 1,5 m och priset är 234 kr.\n",
    "Vi skriver koden, med ett print() naturligtvis\n"
   ]
  },
  {
   "cell_type": "code",
   "execution_count": 3,
   "metadata": {},
   "outputs": [
    {
     "name": "stdout",
     "output_type": "stream",
     "text": [
      "Hyran kostar 2000, bensinen kostar 10 och försäkringen kostar 500. Totalt blir det för 12 mil 120\n"
     ]
    }
   ],
   "source": [
    "print(\"Hyran kostar {}, bensinen kostar {} och försäkringen kostar {}. Totalt blir det för 12 mil {}\".format(2000, 10, 500, 12*10))\n"
   ]
  },
  {
   "cell_type": "markdown",
   "metadata": {},
   "source": [
    "Vi ser på lite olika fall. Först med strängar som ska in i klammerparenteserna."
   ]
  },
  {
   "cell_type": "code",
   "execution_count": 4,
   "metadata": {},
   "outputs": [
    {
     "name": "stdout",
     "output_type": "stream",
     "text": [
      "Jag har tre blommor och du har två blommor\n"
     ]
    }
   ],
   "source": [
    "print('Jag har {} blommor och du har {} blommor'.format('tre', 'två'))"
   ]
  },
  {
   "cell_type": "markdown",
   "metadata": {},
   "source": [
    "`{}` kan dirigera vilket av elementen i listan som ska skrivas ut var. I `.format('en', 'två')` kan `en` adresseras, inte helt oväntat, med index 0."
   ]
  },
  {
   "cell_type": "code",
   "execution_count": 6,
   "metadata": {},
   "outputs": [
    {
     "name": "stdout",
     "output_type": "stream",
     "text": [
      "blått och gult är vackert\n"
     ]
    }
   ],
   "source": [
    "print(\"{2} och {4} är {0}\".format(\"vackert\",\"fult\",\"blått\",\"grönt\", \"gult\"))"
   ]
  },
  {
   "cell_type": "markdown",
   "metadata": {},
   "source": [
    "## Höger- respektive vänsterjustering. \n",
    "\n",
    "Vi tittar nu på hur utskriften kan justeras till höger eller vänster på utskriftsraden.\n",
    "\n",
    "### Justering av strängar\n",
    "\n",
    "Vi börjar med strängar. Det fungerar annorlunda för tal.\n",
    "\n",
    "För att skriva justerat till höger använder vi symbolen `>` som pekar åt höger."
   ]
  },
  {
   "cell_type": "code",
   "execution_count": 9,
   "metadata": {},
   "outputs": [
    {
     "name": "stdout",
     "output_type": "stream",
     "text": [
      "123456789*\n",
      "rest\n",
      "  rest\n",
      "__rest\n"
     ]
    }
   ],
   "source": [
    "print('123456789*')  # För att positionerna ska synas\n",
    "\n",
    "\n",
    "print('{}'.format('rest'))  # originalet\n",
    "print('{:>6}'.format('rest'))  # 6 positioner reserverade högerjustering\n",
    "print('{:_>6}'.format('rest'))  # Understreck _ används för att fylla ut tomma positioner"
   ]
  },
  {
   "cell_type": "code",
   "execution_count": 2,
   "metadata": {},
   "outputs": [
    {
     "name": "stdout",
     "output_type": "stream",
     "text": [
      "123456789*\n",
      "Hej123456789*\n",
      "Hejrest\n",
      "Hej  rest\n",
      "Hej__rest\n"
     ]
    }
   ],
   "source": [
    "print('123456789*')  # För att positionerna ska synas\n",
    "\n",
    "print('Hej123456789*')  # För att positionerna ska synas\n",
    "\n",
    "print('Hej{}'.format('rest'))  # originalet\n",
    "print('Hej{:>6}'.format('rest'))  # 6 positioner reserverade högerjustering\n",
    "print('Hej{:_>6}'.format('rest'))  # Understreck _ används för att fylla ut tomma positioner"
   ]
  },
  {
   "cell_type": "markdown",
   "metadata": {},
   "source": [
    "Vi ser att ordet rest har t i position 6. Ordets slut är högerjusterat till position 6."
   ]
  },
  {
   "cell_type": "markdown",
   "metadata": {},
   "source": [
    "Skriva strängar justerat till vänster med hjälp av symbolen `<` (som också är förinställt)."
   ]
  },
  {
   "cell_type": "code",
   "execution_count": 5,
   "metadata": {},
   "outputs": [
    {
     "name": "stdout",
     "output_type": "stream",
     "text": [
      "123456789*\n",
      "rest\n",
      "rest_____\n",
      "rest____\n",
      "rest    o\n",
      "rest_____och hus\n",
      "123456789*\n"
     ]
    }
   ],
   "source": [
    "print('123456789*') \n",
    "print('{}'.format('rest'))\n",
    "print('{:_<9}'.format('rest'))\n",
    "print('{:_<8}'.format('rest'))\n",
    "print('{:8}o'.format('rest'))# < är förinställt, så det behöver egentligen inte anges\n",
    "\n",
    "print('{:_<9}och {}'.format('rest',\"hus\")) \n",
    "print('123456789*') \n"
   ]
  },
  {
   "cell_type": "markdown",
   "metadata": {},
   "source": [
    "### Justering av tal\n",
    "\n",
    "#### Heltal\n",
    "\n",
    "Vanliga sättet att formatera heltal, skriv till höger (förinställt vänster för strängar men höger för tal). Symbolen `d` talar om för python att vi arbetar med heltal i basen 10 (decimal integer). Detta är förinställt, d behöver inte anges."
   ]
  },
  {
   "cell_type": "code",
   "execution_count": 9,
   "metadata": {},
   "outputs": [
    {
     "name": "stdout",
     "output_type": "stream",
     "text": [
      "123456789*\n",
      "42\n",
      "  42\n",
      "__42\n",
      "----\n",
      "\n",
      "        42\n",
      "        42\n",
      "----\n",
      "\n",
      "123456789*\n",
      "42__\n",
      "42__hej\n",
      "42________\n",
      "42________hej\n"
     ]
    }
   ],
   "source": [
    "print('123456789*') \n",
    "\n",
    "print('{}'.format(42))  # syns inget intressant\n",
    "\n",
    "#print('{:d}'.format(42))  # syns inget intressant\n",
    "#print('{:4d}'.format(42))\n",
    "print('{:4}'.format(42))\n",
    "print('{:_>4}'.format(42))  # samma som föregående, > förinställt\n",
    "print(\"----\\n\")\n",
    "print('{:10}'.format(42))\n",
    "print('{:10}'.format(42))  # även d kan tas bort\n",
    "print(\"----\\n\")\n",
    "\n",
    "# Och så vänsterjusterat\n",
    "print('123456789*') \n",
    "\n",
    "print('{:_<4}'.format(42))  # vänster\n",
    "print('{:_<4}hej'.format(42))  # vänster 42 tar 4 positioner, därpå följer hej\n",
    "print('{:_<10}'.format(42))  # vänster\n",
    "print('{:_<10}hej'.format(42))  # vänster 42 tar 10 positioner, därpå följer hej\n"
   ]
  },
  {
   "cell_type": "markdown",
   "metadata": {},
   "source": [
    "#### Flyttal\n",
    "\n",
    "Det är vid formatering av flyttal som det börjar hända saker. f står för fixed point notation, dvs ett givet antal decimaler. Förinställt på 6 decimaler."
   ]
  },
  {
   "cell_type": "code",
   "execution_count": 19,
   "metadata": {},
   "outputs": [
    {
     "name": "stdout",
     "output_type": "stream",
     "text": [
      "Talet pi är cirka 3.141593\n",
      "Talet pi är cirka 3.141593\n"
     ]
    }
   ],
   "source": [
    "import numpy as np\n",
    "print('Talet pi är cirka {:f}'.format(3.141592653589793))\n",
    "print('Talet pi är cirka {:f}'.format(np.pi))"
   ]
  },
  {
   "cell_type": "code",
   "execution_count": null,
   "metadata": {},
   "outputs": [],
   "source": [
    "6 positioner med 2 efter decimaltecknet. Det är väl denna typ man bör kunna så\n",
    "att man automatiskt styr framförallt antalet decimaler.\n",
    "6 positioner är just 6 positioner inte 6 siffror. Decimaltecknet upptar en position.\n",
    "0 framför tvingar fram nollor, testa själv genom att ta bort 0."
   ]
  },
  {
   "cell_type": "code",
   "execution_count": 21,
   "metadata": {},
   "outputs": [
    {
     "name": "stdout",
     "output_type": "stream",
     "text": [
      "Talet pi med 2 decimaler är 003.14\n",
      "Talet pi med 2 decimaler är 03.142\n"
     ]
    }
   ],
   "source": [
    "print('Talet pi med 2 decimaler är {:06.2f}'.format(3.141592653589793))\n",
    "print('Talet pi med 3 decimaler är {:06.3f}'.format(np.pi))"
   ]
  },
  {
   "cell_type": "markdown",
   "metadata": {},
   "source": [
    "Och om vi bara vill ange antalet decimaler"
   ]
  },
  {
   "cell_type": "code",
   "execution_count": 11,
   "metadata": {},
   "outputs": [
    {
     "name": "stdout",
     "output_type": "stream",
     "text": [
      "3.1416\n"
     ]
    }
   ],
   "source": [
    "print('{:.4f}'.format(3.141592653589793))\n"
   ]
  },
  {
   "cell_type": "markdown",
   "metadata": {},
   "source": [
    "Heltalsexempel med 0 framför."
   ]
  },
  {
   "cell_type": "code",
   "execution_count": 14,
   "metadata": {},
   "outputs": [
    {
     "name": "stdout",
     "output_type": "stream",
     "text": [
      "0042\n",
      "  42\n"
     ]
    }
   ],
   "source": [
    "print('{:04}'.format(42))\n",
    "print('{:4}'.format(42))  # samma position men inga nollor"
   ]
  },
  {
   "cell_type": "markdown",
   "metadata": {},
   "source": [
    "Följande direkta användning av listor är också möjlig TA EJ UPP"
   ]
  },
  {
   "cell_type": "code",
   "execution_count": 23,
   "metadata": {},
   "outputs": [
    {
     "name": "stdout",
     "output_type": "stream",
     "text": [
      "23 + 42 = ?\n"
     ]
    }
   ],
   "source": [
    "data = [4, 8, 15, 16, 23, 42]\n",
    "print('{d[4]} + {d[5]} = ?'.format(d=data))"
   ]
  },
  {
   "cell_type": "markdown",
   "metadata": {},
   "source": [
    "Man behöver se många exempel. Det sägs ofta att den teoretiska definitionen av formateringen är svår att läsa så vi använder endast exempel, vill man verkligen göra något avancerat får man sätta sig ner med det."
   ]
  },
  {
   "cell_type": "markdown",
   "metadata": {},
   "source": [
    "#### Fler blandade exempel"
   ]
  },
  {
   "cell_type": "markdown",
   "metadata": {},
   "source": [
    "#### För stora tal har vi"
   ]
  },
  {
   "cell_type": "code",
   "execution_count": 19,
   "metadata": {},
   "outputs": [
    {
     "name": "stdout",
     "output_type": "stream",
     "text": [
      "123456789*\n",
      "0003.142e+07\n",
      "   3.142e+07\n",
      "      3.142e+07\n",
      "3.142e+07      \n",
      "3.1416e+07     \n"
     ]
    }
   ],
   "source": [
    "print(\"123456789*\")\n",
    "print('{:012.3e}'.format(31415926.53589793))  # Inledande nollor\n",
    "print('{:12.3e}'.format(31415926.53589793))\n",
    "print('{:15.3e}'.format(31415926.53589793))\n",
    "print('{:<15.3e}'.format(31415926.53589793))\n",
    "print('{:<15.4e}'.format(31415926.53589793))"
   ]
  },
  {
   "cell_type": "markdown",
   "metadata": {},
   "source": [
    "Går också bra med E.\n",
    "\n",
    "Observera att det verkligen rör sig om positioner, inte siffror. Kommatecken, + och e tar var och en 1 position."
   ]
  },
  {
   "cell_type": "markdown",
   "metadata": {},
   "source": [
    "## Avrundning\n",
    "\n",
    "I detta sammanhang tar vi också upp avrundning. Avrundning fungerar som i matematiken med det vanliga undantaget att tal i bas 10 som inte kan representeras exakt i bas 2 kan ge överraskningar. Principiellt avrundas mittemellan tal till jämn siffra 2,35 blir 2,4; 2,45 blir 2,4. Men man måste se upp eftersom talens representation i bas 2 är det som gäller.\n",
    "\n",
    "Kommandot är `round(x, n)` där x anger talet som ska avrundas och n anger antalet decimaler. n är villkorligt och kan utelämnas och är förinställt på 0. Formellt skrivs det som `round(x[,n])`"
   ]
  },
  {
   "cell_type": "code",
   "execution_count": 3,
   "metadata": {},
   "outputs": [
    {
     "name": "stdout",
     "output_type": "stream",
     "text": [
      "2\n"
     ]
    }
   ],
   "source": [
    "print(round(2.346))  # Förinställt 0 antal decimaler"
   ]
  },
  {
   "cell_type": "code",
   "execution_count": 4,
   "metadata": {},
   "outputs": [
    {
     "name": "stdout",
     "output_type": "stream",
     "text": [
      "2.35\n"
     ]
    }
   ],
   "source": [
    "print(round(2.346,2))  # Som vi förväntar oss"
   ]
  },
  {
   "cell_type": "code",
   "execution_count": 24,
   "metadata": {},
   "outputs": [
    {
     "name": "stdout",
     "output_type": "stream",
     "text": [
      "2.35\n",
      "2.34500000000000019539925233402755111455917358398437500\n",
      "2.33\n",
      "2.33499999999999996447286321199499070644378662109375000\n"
     ]
    }
   ],
   "source": [
    "print(round(2.345,2))  # Avrundas upp, men principen säger 2.34\n",
    "print(\"{:.53f}\".format(2.345))  # Förklaringen: talet är lagrat binärt och är då större än 2,345\n",
    "\n",
    "print(round(2.335,2))  # Avrundas ner, principen säger 2.34\n",
    "print(\"{:.53f}\".format(2.335))  # Förklaringen"
   ]
  },
  {
   "cell_type": "code",
   "execution_count": 15,
   "metadata": {},
   "outputs": [
    {
     "name": "stdout",
     "output_type": "stream",
     "text": [
      "3.88\n",
      "3.87500000000000000000000000000000000000000000000000000\n"
     ]
    }
   ],
   "source": [
    "print(round(3.875,2))  # Principen säger upp, talet är exakt representerbart i basen 2\n",
    "print(format(3.875, '.53f'))"
   ]
  },
  {
   "cell_type": "markdown",
   "metadata": {},
   "source": [
    "## Sammanfattning\n",
    "\n",
    "Kommandona reserverar positioner så att inga andra utskrifter kan hamna i de positioner som reserverats.\n",
    "\n",
    "Kommandostrukturer att ta med sig (typexempel):\n",
    "\n",
    "\n",
    "1. print(\"Bredden är {} m, längden är {} m och djupet är {} m. Priset: {} kr\".format(2,4,1.5,234)) \n",
    "   Ange en sträng för utskriften med {} som platshållare. Innehållet står i .format().\n",
    "\n",
    "2. Text. Automatiskt vänsterjusterat: <. För högerjusterat skriv: print('{:>6}'.format('rest'))\n",
    "\n",
    "3. Tal. Förinställt höger >.\n",
    "\n",
    "   3.1 Heltal: print('{:>4d}'.format(42))\n",
    "\n",
    "   3.2 Flyttal: print(\"{:9.3f}\".format(12.2346))\n",
    "\n",
    "4. Avrundning: print(round(2.346,2))\n"
   ]
  },
  {
   "cell_type": "markdown",
   "metadata": {},
   "source": [
    "## Uppgifter \n",
    "\n",
    "\n",
    "**Uppgift 1**\n",
    "\n",
    "Skriv ett program som läser in heltalskoefficienter för en andragradsekvation och sedan skriver ut ekvationen snyggt tex. 3x^2+4x-2=0\n",
    "\n",
    "[Lösningsförslag](./uppg/print2Uppgift1.ipynb)"
   ]
  },
  {
   "cell_type": "markdown",
   "metadata": {},
   "source": [
    "**Uppgift 2**\n",
    "\n",
    "\n",
    "Skriv ett program som skriver ut följande tabell.\n",
    "```\n",
    "1234567890ABCDE\n",
    "Oslo        223\n",
    "Stockholm   145\n",
    "Malmö       452\n",
    "Ystad       553\n",
    "Luleå       112\n",
    "Östersund   612\n",
    "```\n",
    "Tabellen ska ha 10 positioner för orten (1,2...0)  vänsterjusterat och 5 positioner för talen högerjusterat (A...E). Lämpligen en lista för orterna och en lista för talen.\n",
    "\n",
    "\n",
    "[Lösningsförslag](./uppg/print2Uppgift2.ipynb)"
   ]
  }
 ],
 "metadata": {
  "kernelspec": {
   "display_name": "Python 3 (ipykernel)",
   "language": "python",
   "name": "python3"
  },
  "language_info": {
   "codemirror_mode": {
    "name": "ipython",
    "version": 3
   },
   "file_extension": ".py",
   "mimetype": "text/x-python",
   "name": "python",
   "nbconvert_exporter": "python",
   "pygments_lexer": "ipython3",
   "version": "3.9.7"
  },
  "toc-autonumbering": true
 },
 "nbformat": 4,
 "nbformat_minor": 4
}
