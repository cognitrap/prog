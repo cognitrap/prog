{
 "cells": [
  {
   "cell_type": "markdown",
   "metadata": {},
   "source": [
    "# Mer om strängar\n",
    "\n",
    "Strängar kan också adresseras som listor, utan att göra om dem till listor med hjälp av `list()`. Man kan dock inte ändra i dem men väl plocka ut en del av strängen. Variabler som inte kan ändras kallas för immutable. Strängar är variabler av typen immutable."
   ]
  },
  {
   "cell_type": "code",
   "execution_count": 1,
   "metadata": {},
   "outputs": [
    {
     "name": "stdout",
     "output_type": "stream",
     "text": [
      "E\n"
     ]
    }
   ],
   "source": [
    "S = \"Ett äpple om dagen\"\n",
    "print(S[0])  # Vi kan addressera"
   ]
  },
  {
   "cell_type": "code",
   "execution_count": 1,
   "metadata": {},
   "outputs": [
    {
     "name": "stdout",
     "output_type": "stream",
     "text": [
      "Ett\n",
      "Ett\n"
     ]
    }
   ],
   "source": [
    "# Vi tar ut \"Ett\"\n",
    "\n",
    "S = \"Ett äpple om dagen\"\n",
    "\n",
    "print(S[0:3]) # Vi kan addressera\n",
    "One = S[0:3]\n",
    "print(One)"
   ]
  },
  {
   "cell_type": "code",
   "execution_count": 2,
   "metadata": {},
   "outputs": [
    {
     "name": "stdout",
     "output_type": "stream",
     "text": [
      "Ett päron om dagen\n"
     ]
    }
   ],
   "source": [
    "S = \"Ett äpple om dagen\"\n",
    "\n",
    "# Vi kan addressera och plocka ihop\n",
    "Ny = S[0:4] + \"päron \" + S[10:13] + S[13:18]\n",
    "print(Ny)"
   ]
  },
  {
   "cell_type": "markdown",
   "metadata": {},
   "source": [
    "Man kan dock inte ändra i strängen på något enkelt sätt. Strängar är immutable."
   ]
  },
  {
   "cell_type": "code",
   "execution_count": 3,
   "metadata": {},
   "outputs": [
    {
     "ename": "TypeError",
     "evalue": "'str' object does not support item assignment",
     "output_type": "error",
     "traceback": [
      "\u001b[0;31m---------------------------------------------------------------------------\u001b[0m",
      "\u001b[0;31mTypeError\u001b[0m                                 Traceback (most recent call last)",
      "Cell \u001b[0;32mIn[3], line 2\u001b[0m\n\u001b[1;32m      1\u001b[0m S \u001b[38;5;241m=\u001b[39m \u001b[38;5;124m\"\u001b[39m\u001b[38;5;124mEtt äpple om dagen\u001b[39m\u001b[38;5;124m\"\u001b[39m\n\u001b[0;32m----> 2\u001b[0m S[\u001b[38;5;241m0\u001b[39m] \u001b[38;5;241m=\u001b[39m \u001b[38;5;124m\"\u001b[39m\u001b[38;5;124mA\u001b[39m\u001b[38;5;124m\"\u001b[39m\n",
      "\u001b[0;31mTypeError\u001b[0m: 'str' object does not support item assignment"
     ]
    }
   ],
   "source": [
    "S = \"Ett äpple om dagen\"\n",
    "S[0] = \"A\"  # Kommer inte ändra E till A"
   ]
  },
  {
   "cell_type": "markdown",
   "metadata": {},
   "source": [
    "Observera skillnaden. Element i en sträng kan refereras till med hjälp av index men du kan inte ändra element genom att använda index.\n",
    "\n",
    "\n",
    "\n",
    "\n",
    "Strängar kan användas utan att ges ett variabelnamn"
   ]
  },
  {
   "cell_type": "code",
   "execution_count": 2,
   "metadata": {},
   "outputs": [
    {
     "name": "stdout",
     "output_type": "stream",
     "text": [
      "o\n",
      "e\n"
     ]
    }
   ],
   "source": [
    "print(\"Solens gång\"[1])\n",
    "print(\"Solens gång\"[3])"
   ]
  },
  {
   "cell_type": "markdown",
   "metadata": {},
   "source": [
    "`.split()` delar upp en sträng. Den är förinställd på att dela vid mellanslag (inget argument behöver ges). Man kan också tex. dela vid kommatecken."
   ]
  },
  {
   "cell_type": "code",
   "execution_count": 5,
   "metadata": {},
   "outputs": [
    {
     "name": "stdout",
     "output_type": "stream",
     "text": [
      "['Solens', 'gång']\n"
     ]
    }
   ],
   "source": [
    "a = \"Solens gång\"\n",
    "x = a.split()\n",
    "print(x)"
   ]
  },
  {
   "cell_type": "markdown",
   "metadata": {},
   "source": [
    "På liknande sätt kan strängar sättas ihop, tex. med mellanslag: `.join`"
   ]
  },
  {
   "cell_type": "code",
   "execution_count": 5,
   "metadata": {},
   "outputs": [
    {
     "name": "stdout",
     "output_type": "stream",
     "text": [
      "<class 'str'>\n",
      "Solens gång\n"
     ]
    }
   ],
   "source": [
    "x = ['Solens', 'gång']\n",
    "y = \" \".join(x)\n",
    "print(type(y))\n",
    "print(y)"
   ]
  },
  {
   "cell_type": "markdown",
   "metadata": {},
   "source": [
    "## Uppgifter\n",
    "\n",
    "**Uppgift 1**\n",
    "\n",
    "- Skapa en sträng: \"God morgon alla människor\"\n",
    "- Dela upp strängen vid mellanslagen och skapa en lista med de 4 orden som sträng-element.\n",
    "- Tag bort \"alla\" och \"människor\"\n",
    "- Skriv ut listan.\n",
    "- Lägg till \"Johan\" sist i listan.\n",
    "- Skriv ut listan.\n",
    "- Sätt ihop listans sträng-element till en sträng, skriv ut strängen.\n",
    "\n",
    "[Lösningsförslag](./uppg/strings2Uppgift1.ipynb)\n",
    "\n",
    "**Uppgift 2**\n",
    "\n",
    "\n",
    "Låt användaren ange ett ord och kontrollera om det är en palindrom. Ej tillåtet använda kommandot .reverse() utan arbeta dig igenom listan själv.\n",
    "\n",
    "[Lösningsförslag](./uppg/strings2Uppgift2.ipynb)\n"
   ]
  }
 ],
 "metadata": {
  "kernelspec": {
   "display_name": "Python 3 (ipykernel)",
   "language": "python",
   "name": "python3"
  },
  "language_info": {
   "codemirror_mode": {
    "name": "ipython",
    "version": 3
   },
   "file_extension": ".py",
   "mimetype": "text/x-python",
   "name": "python",
   "nbconvert_exporter": "python",
   "pygments_lexer": "ipython3",
   "version": "3.11.5"
  }
 },
 "nbformat": 4,
 "nbformat_minor": 4
}
