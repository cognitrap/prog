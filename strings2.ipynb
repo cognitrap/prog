{
 "cells": [
  {
   "cell_type": "markdown",
   "metadata": {},
   "source": [
    "# Mer om strängar\n",
    "\n",
    "Strängar kan också adresseras som listor, utan att använda `list()`. Man kan dock inte ändra i dem men väl plocka ut en del av strängen. Variabler som inte kan ändras kallas för immutable."
   ]
  },
  {
   "cell_type": "code",
   "execution_count": 1,
   "metadata": {},
   "outputs": [
    {
     "data": {
      "text/plain": [
       "'E'"
      ]
     },
     "execution_count": 1,
     "metadata": {},
     "output_type": "execute_result"
    }
   ],
   "source": [
    "S = \"Ett äpple om dagen\"\n",
    "S[0]"
   ]
  },
  {
   "cell_type": "code",
   "execution_count": 9,
   "metadata": {},
   "outputs": [
    {
     "name": "stdout",
     "output_type": "stream",
     "text": [
      "Ett\n",
      "Ett\n"
     ]
    }
   ],
   "source": [
    "print(S[0:3])\n",
    "One = S[0:3]\n",
    "print(One)"
   ]
  },
  {
   "cell_type": "code",
   "execution_count": 6,
   "metadata": {},
   "outputs": [
    {
     "name": "stdout",
     "output_type": "stream",
     "text": [
      "Ett päron om dagen\n"
     ]
    }
   ],
   "source": [
    "Ny = S[0:4] + \"päron \" + S[10:13] + S[13:18]\n",
    "print(Ny)"
   ]
  },
  {
   "cell_type": "markdown",
   "metadata": {},
   "source": [
    "Man kan dock inte ändra i strängen på något enkelt sätt."
   ]
  },
  {
   "cell_type": "code",
   "execution_count": 7,
   "metadata": {},
   "outputs": [
    {
     "ename": "TypeError",
     "evalue": "'str' object does not support item assignment",
     "output_type": "error",
     "traceback": [
      "\u001b[0;31m---------------------------------------------------------------------------\u001b[0m",
      "\u001b[0;31mTypeError\u001b[0m                                 Traceback (most recent call last)",
      "\u001b[0;32m<ipython-input-7-07eb65b470ac>\u001b[0m in \u001b[0;36m<module>\u001b[0;34m\u001b[0m\n\u001b[1;32m      1\u001b[0m \u001b[0mS\u001b[0m\u001b[0;34m=\u001b[0m\u001b[0;34m\"Ett äpple om dagen\"\u001b[0m\u001b[0;34m\u001b[0m\u001b[0;34m\u001b[0m\u001b[0m\n\u001b[0;32m----> 2\u001b[0;31m \u001b[0mS\u001b[0m\u001b[0;34m[\u001b[0m\u001b[0;36m0\u001b[0m\u001b[0;34m]\u001b[0m\u001b[0;34m=\u001b[0m\u001b[0;34m\"A\"\u001b[0m \u001b[0;31m#kommer inte ändra E till A\u001b[0m\u001b[0;34m\u001b[0m\u001b[0;34m\u001b[0m\u001b[0m\n\u001b[0m",
      "\u001b[0;31mTypeError\u001b[0m: 'str' object does not support item assignment"
     ]
    }
   ],
   "source": [
    "S = \"Ett äpple om dagen\"\n",
    "S[0] = \"A\"  # Kommer inte ändra E till A"
   ]
  },
  {
   "cell_type": "markdown",
   "metadata": {},
   "source": [
    "Observera skillnaden. Element i en sträng kan refereras till med hjälp av index men du kan inte ändra element genom att använda index.\n",
    "\n",
    "\n",
    "\n",
    "\n",
    "Strängar kan användas utan att ges ett variabelnamn"
   ]
  },
  {
   "cell_type": "code",
   "execution_count": 2,
   "metadata": {},
   "outputs": [
    {
     "name": "stdout",
     "output_type": "stream",
     "text": [
      "o\n",
      "e\n"
     ]
    }
   ],
   "source": [
    "print(\"Solens gång\"[1])\n",
    "print(\"Solens gång\"[3])"
   ]
  },
  {
   "cell_type": "markdown",
   "metadata": {},
   "source": [
    "`.split()` delar upp en sträng. Den är förinställd på att dela vid mellanslag (inget argument behöver ges). Man kan också tex. dela vid kommatecken."
   ]
  },
  {
   "cell_type": "code",
   "execution_count": 5,
   "metadata": {},
   "outputs": [
    {
     "name": "stdout",
     "output_type": "stream",
     "text": [
      "['Solens', 'gång']\n"
     ]
    }
   ],
   "source": [
    "a = \"Solens gång\"\n",
    "x = a.split()\n",
    "print(x)"
   ]
  },
  {
   "cell_type": "markdown",
   "metadata": {},
   "source": [
    "På liknande sätt kan strängar sättas ihop, tex. med mellanslag."
   ]
  },
  {
   "cell_type": "code",
   "execution_count": 5,
   "metadata": {},
   "outputs": [
    {
     "name": "stdout",
     "output_type": "stream",
     "text": [
      "<class 'str'>\n",
      "Solens gång\n"
     ]
    }
   ],
   "source": [
    "x = ['Solens', 'gång']\n",
    "y = \" \".join(x)\n",
    "print(type(y))\n",
    "print(y)"
   ]
  },
  {
   "cell_type": "markdown",
   "metadata": {},
   "source": [
    "## Uppgifter\n",
    "\n",
    "**Uppgift 1**\n",
    "\n",
    "- Skapa en sträng: \"God morgon alla människor\"\n",
    "- Dela upp strängen vid mellanslagen och skapa en lista med de 4 orden som sträng-element.\n",
    "- Tag bort \"alla\" och \"människor\"\n",
    "- Skriv ut listan.\n",
    "- Lägg till \"Johan\" sist i listan.\n",
    "- Skriv ut listan.\n",
    "- Sätt ihop listans sträng-element till en sträng, skriv ut strängen.\n",
    "\n",
    "[Lösningsförslag](./uppg/strings2Uppgift1.ipynb)\n",
    "\n",
    "**Uppgift 2**\n",
    "\n",
    "**Även denna kan vänta till måndag om du inte läser början på avsnittet om loopar**\n",
    "\n",
    "Låt användaren ange ett ord och kontrollera om det är en palindrom. Ej tillåtet använda kommandot .reverse() utan arbeta dig igenom listan själv.\n",
    "\n",
    "[Lösningsförslag](./uppg/strings2Uppgift2.ipynb)\n"
   ]
  },
  {
   "cell_type": "code",
   "execution_count": null,
   "metadata": {},
   "outputs": [],
   "source": [
    "\n"
   ]
  }
 ],
 "metadata": {
  "kernelspec": {
   "display_name": "Python 3 (ipykernel)",
   "language": "python",
   "name": "python3"
  },
  "language_info": {
   "codemirror_mode": {
    "name": "ipython",
    "version": 3
   },
   "file_extension": ".py",
   "mimetype": "text/x-python",
   "name": "python",
   "nbconvert_exporter": "python",
   "pygments_lexer": "ipython3",
   "version": "3.9.7"
  }
 },
 "nbformat": 4,
 "nbformat_minor": 4
}
