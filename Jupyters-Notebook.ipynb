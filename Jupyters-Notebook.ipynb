{
 "cells": [
  {
   "cell_type": "markdown",
   "metadata": {},
   "source": [
    "# Jupyter Notebook"
   ]
  },
  {
   "cell_type": "markdown",
   "metadata": {},
   "source": [
    "### Introduktion\n",
    "\n",
    "Text på Jupyter (som denna text) kan sägas bestå av tre huvud-komponenter. Den ena är vanlig text, som du läser just nu. Den andra är latex kod för att kunna skriva matematik snyggt, $e^{\\sin(x)}$. Den tredje är kod skriven i python.\n",
    "\n",
    "Koden skriven i python kan köras genom att du placerar markören i en cell med python-kod. Tryck sedan på symbolen för Run. Här kommer en cell med kod nedanför (just nu är du i en cell med text)."
   ]
  },
  {
   "cell_type": "code",
   "execution_count": 1,
   "metadata": {
    "scrolled": true
   },
   "outputs": [
    {
     "data": {
      "text/plain": [
       "5"
      ]
     },
     "execution_count": 1,
     "metadata": {},
     "output_type": "execute_result"
    }
   ],
   "source": [
    "2+3"
   ]
  },
  {
   "cell_type": "markdown",
   "metadata": {},
   "source": [
    "Testa att placera markören i kod-cellen och tryck på Run; en pil/triangel som kan uppfattas som att den pekar åt höger; befinner sig rakt ovanför denna text. En ny rad med resultatet ska visas precis nedanför python-koden."
   ]
  },
  {
   "cell_type": "markdown",
   "metadata": {},
   "source": [
    "Du kan ändra i kod-cellen. Markera bara och ändra som du vill. Du ändrar inte i originalet.\n",
    "Använd detta mycket, experimentera direkt med koden där den står."
   ]
  },
  {
   "cell_type": "markdown",
   "metadata": {},
   "source": [
    "Om du vill ta bort alla resultat-celler så gör Edit>Clear All Outputs.\n",
    "\n",
    "Om du vill köra alla kod-celler så gör Run>Run All Cells.\n",
    "\n",
    "\n",
    "Även text-celler behöver köras med Run. Speciellt om det finns avancerade matematiska tecken, de är då skrivna i ett layoutspråk som heter LaTeX.\n",
    "\n",
    "En cell kan också köras genom att placera markören i cellen och sedan göra shift-return eller ctrl-return (håll nere shift eller ctrl och tryck på return). Shift-return flyttar markören till nästa cell, med ctrl-shift stannar du kvar i cellen. "
   ]
  },
  {
   "cell_type": "markdown",
   "metadata": {},
   "source": [
    "### Kernel restart\n",
    "\n",
    "Ett pop-up fönster som säger att kontakten med en kernel är tappad dyker upp då och då.\n",
    "\n",
    "Varje sida på jupyter sköts av en kernel. Den utgår från att du är aktiv, är du inte det så stänger den ner dig. \n",
    "\n",
    "\n",
    "Efter ungefär 10 minuter förlorar du kontakten med kernelen. Du kan upprätthålla kontakten genom att vara aktiv. Enklast är att placera en markör i en cell med pyton kod och sedan göra ctrl-shift så cellen körs. Detta gäller bara för den sida du kör. \n",
    "\n",
    "\n",
    "Har du en annan sida öppen som du inte använder så stängs den ner. Går du tillbaka till den sidan kan den behöva att du gör en återstart (restart kernel).\n"
   ]
  },
  {
   "cell_type": "markdown",
   "metadata": {},
   "source": [
    "### Mer avancerad användning\n",
    "\n",
    "Du kan ladda ner hela den interaktiva kursen genom att installera jupyter notebook och sedan gå till https://github.com/cognitrap/progr och ladda ner kursen. \n",
    "\n",
    "För att få tag på jupyter notebook brukar det vara lättast att ladda ner Anaconda och sedan starta jupyter notebook inifrån den. En bra instruktion för att ladda ner anaconda och sedan köra jupyter notebook finns på https://www.techgeekbuzz.com/how-to-install-jupyter-notebook/. Använd inte pip som också beskrivs.\n",
    "\n",
    "\n",
    "Nerladdning av kursen gör du genom att klicka på den gröna knappen \"Code\" och sedan välja \"Download ZIP\". Sedan packa upp filen. \n",
    "\n",
    "Därefter startar du jupyter notebok och går till den nedladdade kursen och väljer att öppna filen som heter index.ipynb. Du behöver nu inte internet för att arbeta med kursens sidor på github. Sedan är det bara att köra med din egen version. Naturligtvis ändras inte din version när saker ändras på github."
   ]
  }
 ],
 "metadata": {
  "kernelspec": {
   "display_name": "Python 3 (ipykernel)",
   "language": "python",
   "name": "python3"
  },
  "language_info": {
   "codemirror_mode": {
    "name": "ipython",
    "version": 3
   },
   "file_extension": ".py",
   "mimetype": "text/x-python",
   "name": "python",
   "nbconvert_exporter": "python",
   "pygments_lexer": "ipython3",
   "version": "3.9.7"
  }
 },
 "nbformat": 4,
 "nbformat_minor": 4
}
