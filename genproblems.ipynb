{
 "cells": [
  {
   "cell_type": "markdown",
   "metadata": {},
   "source": [
    "### Att söka det största talet i en lista\n",
    "\n",
    "Vi skriver en funktion som tar emot en lista och letar upp det största talet i listan. Returnerar index för det största talet samt talet."
   ]
  },
  {
   "cell_type": "code",
   "execution_count": 28,
   "metadata": {},
   "outputs": [
    {
     "name": "stdout",
     "output_type": "stream",
     "text": [
      "[5, 6, 7, -2]\n",
      "7\n"
     ]
    }
   ],
   "source": [
    "import random\n",
    "\n",
    "def findLargest(l):\n",
    "    j=len(l) #Hur många element i listan\n",
    "    large=l[0] #Sätter största elementet lika med första elementet som en början\n",
    "    for i in range(1,j): #går igenom alla element med index från 0 till j-2\n",
    "        if l[i]>large: #ser om nästa element är större\n",
    "            large=l[i] #byter om det var större\n",
    "    return(large)        \n",
    "\n",
    "\n",
    "#Finns två varianter av data för att undersöka att det fungerar. \n",
    "#Antingen en fix lista eller en slumpad lista.\n",
    "#L=random.sample(range(0,1000), 10)\n",
    "L=[5,6,7,-2]\n",
    "\n",
    "M=findLargest(L)\n",
    "print(L)\n",
    "print(M)"
   ]
  },
  {
   "cell_type": "markdown",
   "metadata": {},
   "source": [
    "Radnummer i koden ovan:\n",
    "- 1. Vi importerar random bara för att kunna skapa slumpmässiga listor att leka med.\n",
    "- 3. Funktionen heter findLargest; ett ok namn som säger vad den gör.\n",
    "- 4. Vi tar reda på antalet element i listan, ska hålla reda på indexen så vi inte adresserar utanför listan.\n",
    "- 5. Initiering. Vi sätter det största talet till det första talet i listan.\n",
    "- 6. Loop. Vi söker igenom listan. Vi börjar med index 1; vi har redan satt talet vid index 0 till det största. Vi ska gå till index j-1, vilket innebär att vi  satt range(1,j) och det är ju exklusive j.\n",
    "- 7. Vi jämför första gången `l[1]>large`. `l[1]` är det andra elementet och det jämförs med det första elementet(index 0; large=l[0] vid initiering). \n",
    "- 8. Om `l[1]` är större än large så ska `l[1]` vara vårt nya large.\n",
    "Man bör noga undersöka att index fungerar för det sista talet också.\n",
    "- 9. Skickar det största talet.\n",
    "\n",
    "Sorteringen görs på 7 rader kod."
   ]
  },
  {
   "cell_type": "code",
   "execution_count": null,
   "metadata": {},
   "outputs": [],
   "source": []
  },
  {
   "cell_type": "markdown",
   "metadata": {},
   "source": [
    "### Sortera en lista\n",
    "\n",
    "Det finns ett flertal metoder att sortera en lista. Vi kan använda föregående program för att finna det största talet och lägga det i en ny lista, och ta bort talet från ursprungslistan och sedan leta upp det största igen osv. Vi lägger ovanstående funktion i en modul och importerar den; kalla modulen för sortera.py."
   ]
  },
  {
   "cell_type": "code",
   "execution_count": null,
   "metadata": {},
   "outputs": [],
   "source": [
    "import sortera as s\n",
    "\n",
    "#sortera denna\n",
    "L=[3,-2,0,22,2e+3,56]\n",
    "\n",
    "M=[]\n",
    "l=len(L)\n",
    "\n",
    "for i in range(l):\n",
    "    st=findLargest(L)\n",
    "    M.append(st)\n",
    "    L.remove(st)"
   ]
  },
  {
   "cell_type": "markdown",
   "metadata": {},
   "source": [
    "### Beräkna en integral\n",
    "\n",
    "Den enklaste metoden är att dela in arean under kurvan i rektanglar och göra trianglarna smalare och smalare och samtidigt fler. Summan av areorna konvergerar förhoppningsvis mot integralen."
   ]
  }
 ],
 "metadata": {
  "kernelspec": {
   "display_name": "Python 3 (ipykernel)",
   "language": "python",
   "name": "python3"
  },
  "language_info": {
   "codemirror_mode": {
    "name": "ipython",
    "version": 3
   },
   "file_extension": ".py",
   "mimetype": "text/x-python",
   "name": "python",
   "nbconvert_exporter": "python",
   "pygments_lexer": "ipython3",
   "version": "3.9.7"
  }
 },
 "nbformat": 4,
 "nbformat_minor": 4
}
