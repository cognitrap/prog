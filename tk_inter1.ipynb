{
 "cells": [
  {
   "cell_type": "markdown",
   "metadata": {},
   "source": [
    "### Tkinter\n",
    "\n",
    "\n",
    "Tkinter står för Tk interface. Det är kod i python som kommunicerar med ett annat datorprogram 'Tk GUI toolkit'; ett program som är en verktygslåda för grafiskt gränssnitt. Det är pythons de facto standard för grafiskt gränssnitt. Det är som standard inkluderat vid installation av python i Linux, Microsoft Windows och Mac OS X. Tkinter är skriven av Fredrik Lundh. Andra grafiska gränssnitt är wxPython, PyQt, PySide, Pygame, Pyglet, PyGTK.\n",
    "Enkelt uttryckt är det ett sätt att kontrollera från python ett annat program som innehåller för-designade grafiska gränssnitt som knappar, lådor, glidare osv.\n",
    "Kritiken som riktas mot tkinter är ofta att själva formgivningen känns lite ålderdomlig.\n",
    "\n",
    "\n",
    "Kör nedanstående kod för att få ett grafiskt gränssnitt. Obs öppnas i ett eget fönster (inte 'inline'); det är inte säkert att fönstret hamnar överst på din skärm så du kan behöva leta upp den."
   ]
  },
  {
   "cell_type": "code",
   "execution_count": 2,
   "metadata": {},
   "outputs": [],
   "source": [
    "import tkinter as tk\n",
    "\n",
    "window = tk.Tk() #ett fönster\n",
    "\n",
    "#Här lägger vi senare in vilka widgets vi vill ha\n",
    "\n",
    "window.mainloop() #vi håller fönstret igång"
   ]
  },
  {
   "cell_type": "markdown",
   "metadata": {},
   "source": []
  },
  {
   "cell_type": "code",
   "execution_count": 4,
   "metadata": {},
   "outputs": [],
   "source": [
    "import tkinter as tk\n",
    "\n",
    "window = tk.Tk() #ett fönster\n",
    "\n",
    "knapp=tk.Button(window, text=\"hej\") #Vi vill ha en knapp\n",
    "knapp.pack()\n",
    "\n",
    "window.mainloop() #vi håller fönstret igång\n"
   ]
  },
  {
   "cell_type": "code",
   "execution_count": 23,
   "metadata": {},
   "outputs": [],
   "source": [
    "\n",
    "import tkinter as tk \n",
    "window = tk.Tk() \n",
    "window.title('Counting Seconds') \n",
    "button = tk.Button(window, text='Stop', width=25, command=window.destroy) \n",
    "button.pack() \n",
    "window.mainloop() \n",
    "\n",
    "\n",
    "\n",
    "\n",
    "import tkinter as tk \n",
    "r = tk.Tk() \n",
    "r.title('Counting Seconds') \n",
    "button = tk.Button(r, text='Stop', width=25, command=r.destroy) \n",
    "button.pack() \n",
    "r.mainloop() \n",
    "\n"
   ]
  },
  {
   "cell_type": "markdown",
   "metadata": {},
   "source": [
    "Kladdddddd"
   ]
  },
  {
   "cell_type": "code",
   "execution_count": 1,
   "metadata": {},
   "outputs": [],
   "source": [
    "# Create the data.\n",
    "from numpy import pi, sin, cos, mgrid\n",
    "dphi, dtheta = pi/250.0, pi/250.0\n",
    "[phi,theta] = mgrid[0:pi+dphi*1.5:dphi,0:2*pi+dtheta*1.5:dtheta]\n",
    "m0 = 4; m1 = 3; m2 = 2; m3 = 3; m4 = 6; m5 = 2; m6 = 6; m7 = 4;\n",
    "r = sin(m0*phi)**m1 + cos(m2*phi)**m3 + sin(m4*theta)**m5 + cos(m6*theta)**m7\n",
    "x = r*sin(phi)*cos(theta)\n",
    "y = r*cos(phi)\n",
    "z = r*sin(phi)*sin(theta)\n",
    "\n",
    "# View it.\n",
    "from mayavi import mlab\n",
    "s = mlab.mesh(x, y, z)\n",
    "mlab.show()"
   ]
  },
  {
   "cell_type": "code",
   "execution_count": 2,
   "metadata": {},
   "outputs": [
    {
     "name": "stdout",
     "output_type": "stream",
     "text": [
      "Notebook initialized with ipy backend.\n"
     ]
    },
    {
     "data": {
      "application/vnd.jupyter.widget-view+json": {
       "model_id": "6c73dd2b5be149c2baaaaafa3b8bf246",
       "version_major": 2,
       "version_minor": 0
      },
      "text/plain": [
       "Image(value=b'\\x89PNG\\r\\n\\x1a\\n\\x00\\x00\\x00\\rIHDR\\x00\\x00\\x01\\x90\\x00\\x00\\x01^\\x08\\x02\\x00\\x00\\x00$?\\xde_\\x00\\…"
      ]
     },
     "metadata": {},
     "output_type": "display_data"
    }
   ],
   "source": [
    "from mayavi import mlab\n",
    "mlab.init_notebook()\n",
    "s = mlab.test_plot3d()#default ipy\n",
    "s"
   ]
  },
  {
   "cell_type": "code",
   "execution_count": 2,
   "metadata": {},
   "outputs": [],
   "source": [
    "import tkinter as tk\n",
    "\n",
    "class Application(tk.Frame):\n",
    "    def __init__(self, master=None):\n",
    "        super().__init__(master)\n",
    "        self.master = master\n",
    "        self.pack()\n",
    "        self.create_widgets()\n",
    "\n",
    "    def create_widgets(self):\n",
    "        self.hi_there = tk.Button(self)\n",
    "        self.hi_there[\"text\"] = \"Hello World\\n(click me)\"\n",
    "        self.hi_there[\"command\"] = self.say_hi\n",
    "        self.hi_there.pack(side=\"top\")\n",
    "\n",
    "        self.quit = tk.Button(self, text=\"QUIT\", fg=\"red\",\n",
    "                              command=self.master.destroy)\n",
    "        self.quit.pack(side=\"bottom\")\n",
    "\n",
    "    def say_hi(self):\n",
    "        print(\"hi there, everyone!\")\n",
    "\n",
    "root = tk.Tk()\n",
    "app = Application(master=root)\n",
    "app.mainloop()"
   ]
  },
  {
   "cell_type": "code",
   "execution_count": null,
   "metadata": {},
   "outputs": [],
   "source": []
  }
 ],
 "metadata": {
  "kernelspec": {
   "display_name": "Python 3 (ipykernel)",
   "language": "python",
   "name": "python3"
  },
  "language_info": {
   "codemirror_mode": {
    "name": "ipython",
    "version": 3
   },
   "file_extension": ".py",
   "mimetype": "text/x-python",
   "name": "python",
   "nbconvert_exporter": "python",
   "pygments_lexer": "ipython3",
   "version": "3.11.5"
  }
 },
 "nbformat": 4,
 "nbformat_minor": 4
}
