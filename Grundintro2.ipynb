{
 "cells": [
  {
   "cell_type": "markdown",
   "id": "6253a5f4-70c5-43dd-af1a-257e3e6d2d19",
   "metadata": {},
   "source": [
    "\n",
    "Datorn gör i den enklaste varianten av kod så att den läser rad efter rad. Det innebär att\n",
    "hela programmet inte är automatiskt tillgängligt för datorn. Det innebär också att saker som behövs just nu på en viss rad måste vara specificerade tidigare.\n",
    "\n",
    "Det innebär att följande kodsnutt inte kommer att fungera:\n",
    "```\n",
    "1  s=5*a\n",
    "2  a=3\n",
    "```\n",
    "eftersom `a` inte fär sitt värde förrän en rad senare. `a` används på rad 1 men får sitt värde först på rad 2. DU kan visserligen se båda dessa samtidigt, men det är inte så datorn fungerar utan den läser rad för rad i nummerordning och minns vad den läst men den kan inte förutsäga värden. Datorn kommer att äg att 'a' inte är definierad och visa på rad 1; testa nedan."
   ]
  },
  {
   "cell_type": "code",
   "execution_count": 1,
   "id": "3b18611c-7bfe-4f64-a89e-2baf25b66d33",
   "metadata": {},
   "outputs": [
    {
     "ename": "NameError",
     "evalue": "name 'a' is not defined",
     "output_type": "error",
     "traceback": [
      "\u001b[0;31m---------------------------------------------------------------------------\u001b[0m",
      "\u001b[0;31mNameError\u001b[0m                                 Traceback (most recent call last)",
      "\u001b[0;32m<ipython-input-1-467020103c73>\u001b[0m in \u001b[0;36m<module>\u001b[0;34m\u001b[0m\n\u001b[0;32m----> 1\u001b[0;31m \u001b[0ms\u001b[0m\u001b[0;34m=\u001b[0m\u001b[0;36m5\u001b[0m\u001b[0;34m*\u001b[0m\u001b[0ma\u001b[0m\u001b[0;34m\u001b[0m\u001b[0;34m\u001b[0m\u001b[0m\n\u001b[0m\u001b[1;32m      2\u001b[0m \u001b[0ma\u001b[0m\u001b[0;34m=\u001b[0m\u001b[0;36m3\u001b[0m\u001b[0;34m\u001b[0m\u001b[0;34m\u001b[0m\u001b[0m\n",
      "\u001b[0;31mNameError\u001b[0m: name 'a' is not defined"
     ]
    }
   ],
   "source": [
    "s=5*a\n",
    "a=3"
   ]
  },
  {
   "cell_type": "markdown",
   "id": "cd38e374-7eab-4bee-9546-648cb3c940e9",
   "metadata": {},
   "source": [
    "Öva dig på att arbeta som en dator genom att följa kodsnutten nedan. Utför beräkningar, lagra resultat, skriv ut."
   ]
  },
  {
   "cell_type": "code",
   "execution_count": 2,
   "id": "9d591173-9d9a-4590-8264-2d3563454004",
   "metadata": {},
   "outputs": [
    {
     "name": "stdout",
     "output_type": "stream",
     "text": [
      "3\n",
      "0\n"
     ]
    }
   ],
   "source": [
    "s=3\n",
    "print(s)\n",
    "f=s**2-3*s\n",
    "print(f)\n",
    "r=f-s"
   ]
  },
  {
   "cell_type": "code",
   "execution_count": null,
   "id": "4ae538e2-1aa8-467c-b955-f4402b04b945",
   "metadata": {},
   "outputs": [],
   "source": []
  }
 ],
 "metadata": {
  "kernelspec": {
   "display_name": "Python 3",
   "language": "python",
   "name": "python3"
  },
  "language_info": {
   "codemirror_mode": {
    "name": "ipython",
    "version": 3
   },
   "file_extension": ".py",
   "mimetype": "text/x-python",
   "name": "python",
   "nbconvert_exporter": "python",
   "pygments_lexer": "ipython3",
   "version": "3.8.5"
  }
 },
 "nbformat": 4,
 "nbformat_minor": 5
}
