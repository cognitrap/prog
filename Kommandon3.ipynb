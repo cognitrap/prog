{
 "cells": [
  {
   "cell_type": "markdown",
   "id": "f2fb8abe-4dcb-42b6-a659-7778ae2be381",
   "metadata": {},
   "source": [
    "# Fördjupningar\n",
    "\n",
    "\n",
    "## Objekt-referens\n",
    "\n",
    "\n",
    "Python har inte variabler utan referenser till objekt. Vi illustrerar grafiskt. Namnen som används för objekt-referens kallas identifierare; tidigare variabelnamn.\n",
    "\n",
    "\n",
    "<img src=\"https://github.com/cognitrap/progr/blob/a720bf870f68c859f4f799f6da876eb8b89e9e47/Pictures/objectreference.png?raw=true\" width=50% height=40%>"
   ]
  },
  {
   "cell_type": "code",
   "execution_count": null,
   "id": "ef84dc7f-1291-42de-8bdb-33a04d211295",
   "metadata": {},
   "outputs": [],
   "source": []
  }
 ],
 "metadata": {
  "kernelspec": {
   "display_name": "Python 3 (ipykernel)",
   "language": "python",
   "name": "python3"
  },
  "language_info": {
   "codemirror_mode": {
    "name": "ipython",
    "version": 3
   },
   "file_extension": ".py",
   "mimetype": "text/x-python",
   "name": "python",
   "nbconvert_exporter": "python",
   "pygments_lexer": "ipython3",
   "version": "3.8.12"
  }
 },
 "nbformat": 4,
 "nbformat_minor": 5
}
