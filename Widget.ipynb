{
 "cells": [
  {
   "cell_type": "markdown",
   "metadata": {},
   "source": [
    "# Widgets\n",
    "\n",
    "Kan ej köras i python-terminal eller på repl.it.\n",
    "Widget står för kontroller av typ glidare, radioknappar, boxar osv.\n",
    "\n",
    "\n",
    "\n",
    "\n",
    "## Några kontroller\n"
   ]
  },
  {
   "cell_type": "code",
   "execution_count": 3,
   "metadata": {},
   "outputs": [
    {
     "data": {
      "application/vnd.jupyter.widget-view+json": {
       "model_id": "b5cadb517fdc4c009ee9b9728977907d",
       "version_major": 2,
       "version_minor": 0
      },
      "text/plain": [
       "interactive(children=(IntSlider(value=5, description='A', max=15, min=-5), Output()), _dom_classes=('widget-in…"
      ]
     },
     "metadata": {},
     "output_type": "display_data"
    },
    {
     "data": {
      "text/plain": [
       "<function __main__.f(A)>"
      ]
     },
     "execution_count": 3,
     "metadata": {},
     "output_type": "execute_result"
    }
   ],
   "source": [
    "from ipywidgets import interact\n",
    "\n",
    "\n",
    "def f(A):\n",
    "    return A\n",
    "\n",
    "interact(f, A=5)"
   ]
  },
  {
   "cell_type": "markdown",
   "metadata": {},
   "source": [
    "Som framgår får vi en glidare med beteckningen A. A tilldelas värdet 5 och genom att dra med muspekaren på den runda knappen kan A:s värde ökas eller minskas.\n",
    "\n",
    "Vi använder glidaren ovan till att variera amplituden för en sinusfunktion."
   ]
  },
  {
   "cell_type": "code",
   "execution_count": 4,
   "metadata": {},
   "outputs": [
    {
     "data": {
      "application/vnd.jupyter.widget-view+json": {
       "model_id": "da3430935f1e4065abcb714c7665ed53",
       "version_major": 2,
       "version_minor": 0
      },
      "text/plain": [
       "interactive(children=(IntSlider(value=0, description='A', max=5, min=-5), Output()), _dom_classes=('widget-int…"
      ]
     },
     "metadata": {},
     "output_type": "display_data"
    },
    {
     "data": {
      "text/plain": [
       "<function __main__.f(A)>"
      ]
     },
     "execution_count": 4,
     "metadata": {},
     "output_type": "execute_result"
    }
   ],
   "source": [
    "from ipywidgets import interact\n",
    "import numpy as np\n",
    "import matplotlib.pyplot as plt\n",
    "\n",
    "\n",
    "def f(A):\n",
    "    t=np.linspace(0,5,40) #parameter\n",
    "    x=t\n",
    "    y=A*np.sin(t)\n",
    "    plt.plot(x, y)\n",
    "    plt.ylim(-10, 10)#låser y-axeln så att grafen inte skalas om\n",
    "    plt.show()\n",
    "    return A\n",
    "\n",
    "interact(f, A=(-5,5))\n",
    "\n"
   ]
  },
  {
   "cell_type": "code",
   "execution_count": 5,
   "metadata": {},
   "outputs": [
    {
     "data": {
      "application/vnd.jupyter.widget-view+json": {
       "model_id": "e32e29938ecc4b269b1d709cd9c4c0a4",
       "version_major": 2,
       "version_minor": 0
      },
      "text/plain": [
       "interactive(children=(IntSlider(value=5, description='a', max=15, min=-5), IntSlider(value=5, description='b',…"
      ]
     },
     "metadata": {},
     "output_type": "display_data"
    },
    {
     "data": {
      "text/plain": [
       "<function __main__.f(a, b, c)>"
      ]
     },
     "execution_count": 5,
     "metadata": {},
     "output_type": "execute_result"
    }
   ],
   "source": [
    "from ipywidgets import interact\n",
    "import numpy as np\n",
    "import matplotlib.pyplot as plt\n",
    "\n",
    "def f(a,b,c):\n",
    "    \n",
    "    #ett sätt att ändra storlek\n",
    "    #f = plt.figure() \n",
    "    #f.set_figwidth(9) #bredd i tum\n",
    "    #f.set_figheight(8) #höjd i tum\n",
    "    \n",
    "    #ett annat sätt\n",
    "    plt.figure(figsize=(9,8)) \n",
    "    \n",
    "    \n",
    "    \n",
    "    t=np.linspace(0,5,40) #parameter\n",
    "    x=t\n",
    "    y=a*(x-b)**2+c\n",
    "    plt.plot(x, y)\n",
    "    plt.ylim(-5, 10)#låser y-axeln så att grafen inte skalas om\n",
    "    plt.show()\n",
    "    return a,b,c\n",
    "\n",
    "interact(f, a=5, b=5, c=5)\n"
   ]
  },
  {
   "cell_type": "markdown",
   "metadata": {},
   "source": [
    "Vi ser på lite olika varianter av glidare.\n",
    "f visar start, stopp och steglängd med heltal.\n",
    "g visar motsvarande med flyttal."
   ]
  },
  {
   "cell_type": "code",
   "execution_count": 6,
   "metadata": {},
   "outputs": [
    {
     "data": {
      "application/vnd.jupyter.widget-view+json": {
       "model_id": "7e4b87ebb6a54f59ad366c0e3ec050e8",
       "version_major": 2,
       "version_minor": 0
      },
      "text/plain": [
       "interactive(children=(IntSlider(value=0, description='A', max=5, min=-2, step=2), Output()), _dom_classes=('wi…"
      ]
     },
     "metadata": {},
     "output_type": "display_data"
    },
    {
     "data": {
      "application/vnd.jupyter.widget-view+json": {
       "model_id": "9dd177328e764c8da81d8d56f8eaa5e4",
       "version_major": 2,
       "version_minor": 0
      },
      "text/plain": [
       "interactive(children=(FloatSlider(value=5.0, description='x', max=10.0, step=0.02), Output()), _dom_classes=('…"
      ]
     },
     "metadata": {},
     "output_type": "display_data"
    },
    {
     "data": {
      "text/plain": [
       "<function __main__.g(x)>"
      ]
     },
     "execution_count": 6,
     "metadata": {},
     "output_type": "execute_result"
    }
   ],
   "source": [
    "from ipywidgets import interact\n",
    "\n",
    "\n",
    "def f(A):\n",
    "    return A\n",
    "\n",
    "def g(x):\n",
    "    return x\n",
    "\n",
    "interact(f, A=(-2,5,2))\n",
    "\n",
    "interact(g, x=(0.0,10.0,0.02)) #max, min, steg"
   ]
  },
  {
   "cell_type": "markdown",
   "metadata": {},
   "source": [
    "I nedanstående exempel väljs amplituden från en 'drop-down'-lista (rullgardin). Texten som ska till listan är en sträng men värdet som skickas till funktionen är det som står i andra positionen, i detta fall ett tal.\n",
    "`('label', value)`"
   ]
  },
  {
   "cell_type": "code",
   "execution_count": 7,
   "metadata": {},
   "outputs": [
    {
     "data": {
      "application/vnd.jupyter.widget-view+json": {
       "model_id": "e6c3cd17961f46d7a5f208980c06f8bc",
       "version_major": 2,
       "version_minor": 0
      },
      "text/plain": [
       "interactive(children=(Dropdown(description='A', options=(('5', 5), ('10', 10), ('15', 15)), value=5), Output()…"
      ]
     },
     "metadata": {},
     "output_type": "display_data"
    }
   ],
   "source": [
    "from ipywidgets import interact\n",
    "import numpy as np\n",
    "import matplotlib.pyplot as plt\n",
    "\n",
    "def f(A):\n",
    "    t=np.linspace(0,5,40) #parameter\n",
    "    x=t\n",
    "    y=A*np.sin(x)\n",
    "    plt.plot(x, y)\n",
    "    plt.ylim(-15, 15)#låser y-axeln så att grafen inte skalas om\n",
    "    plt.show()\n",
    "    return A\n",
    "\n",
    "interact(f, A=[('5', 5), ('10', 10), ('15', 15)]);"
   ]
  },
  {
   "cell_type": "markdown",
   "metadata": {},
   "source": [
    "I nästa exempel kan vilka funktioner som ska visas väljas genom att kryssa i rutor.\n"
   ]
  },
  {
   "cell_type": "code",
   "execution_count": 8,
   "metadata": {},
   "outputs": [
    {
     "data": {
      "application/vnd.jupyter.widget-view+json": {
       "model_id": "937f321625674591b9e3e04e6accdc4a",
       "version_major": 2,
       "version_minor": 0
      },
      "text/plain": [
       "interactive(children=(Checkbox(value=True, description='sin(x)'), Checkbox(value=False, description='x^2'), Ch…"
      ]
     },
     "metadata": {},
     "output_type": "display_data"
    },
    {
     "data": {
      "text/plain": [
       "<function __main__.f(e, g, h)>"
      ]
     },
     "execution_count": 8,
     "metadata": {},
     "output_type": "execute_result"
    }
   ],
   "source": [
    "from ipywidgets import interact\n",
    "import ipywidgets as w\n",
    "import numpy as np\n",
    "import matplotlib.pyplot as plt\n",
    "\n",
    "def f(e,g,h):\n",
    "    t=np.linspace(0,5,40)\n",
    "    if e==True:\n",
    "        x=t    \n",
    "        y=np.sin(x)\n",
    "        plt.plot(x, y)\n",
    "    if g==True:\n",
    "        x=t\n",
    "        y=t**2\n",
    "        plt.plot(x, y)\n",
    "    if h==True:\n",
    "        x=t\n",
    "        y=np.sqrt(t)\n",
    "        plt.plot(x, y)        \n",
    "    plt.ylim(-10, 10)\n",
    "    plt.show()\n",
    "    return (e,g,h)\n",
    "\n",
    "\n",
    "interact(f,e=w.Checkbox(value=True, description='sin(x)', disabled=False),\n",
    "        g=w.Checkbox(value=False, description='x^2', disabled=False),\n",
    "        h=w.Checkbox(value=False, description='sqrt(x)', disabled=False))\n"
   ]
  },
  {
   "cell_type": "markdown",
   "metadata": {},
   "source": [
    "Vi använder kontroller för att plotta i 3D."
   ]
  },
  {
   "cell_type": "code",
   "execution_count": 9,
   "metadata": {},
   "outputs": [
    {
     "data": {
      "application/vnd.jupyter.widget-view+json": {
       "model_id": "417d8f35938648c4a5016b168ed854c4",
       "version_major": 2,
       "version_minor": 0
      },
      "text/plain": [
       "interactive(children=(FloatSlider(value=5.0, description='a', max=10.0, step=0.02), FloatSlider(value=5.0, des…"
      ]
     },
     "metadata": {},
     "output_type": "display_data"
    },
    {
     "data": {
      "text/plain": [
       "<function __main__.f(a, b, c, d)>"
      ]
     },
     "execution_count": 9,
     "metadata": {},
     "output_type": "execute_result"
    }
   ],
   "source": [
    "from ipywidgets import interact\n",
    "from mpl_toolkits import mplot3d\n",
    "import numpy as np\n",
    "import matplotlib.pyplot as plt\n",
    "\n",
    "def f(a,b,c,d):\n",
    "    \n",
    "    #för att få den i eget fönster\n",
    "    #kommentera bort om du vill ha 'inline' dvs löpande i dokumentet\n",
    "    #uppdateringen i eget fönster är dock hackig. Tk\n",
    "    #%matplotlib tk\n",
    "    \n",
    "    fig = plt.figure() #handtag för figur\n",
    "    ax = plt.axes(projection='3d') #handtag för objektet 'axes'\n",
    "    plt.xlim(-10,10)\n",
    "    plt.ylim(-10,10)\n",
    "    \n",
    "    X = np.arange(-10, 10, 0.25)\n",
    "    Y = np.arange(-10, 10, 0.25)\n",
    "    X, Y = np.meshgrid(X, Y)\n",
    "    Z = (a*X+b*Y+d)/(-c)\n",
    "    \n",
    "\n",
    "# Rita ytan.\n",
    "    surf = ax.plot_surface(X, Y, Z,\n",
    "                       linewidth=0, antialiased=False, cmap=\"coolwarm\")\n",
    "    #plt.show()\n",
    "    return (a,b,c,d)\n",
    "\n",
    "\n",
    "interact(f, a=(0.0,10.0,0.02), b=(0.0,10.0,0.02), c=(0.0,10.0,0.02), d=(0.0,10.0,0.02)) \n"
   ]
  },
  {
   "cell_type": "code",
   "execution_count": null,
   "metadata": {},
   "outputs": [],
   "source": []
  }
 ],
 "metadata": {
  "kernelspec": {
   "display_name": "Python 3 (ipykernel)",
   "language": "python",
   "name": "python3"
  },
  "language_info": {
   "codemirror_mode": {
    "name": "ipython",
    "version": 3
   },
   "file_extension": ".py",
   "mimetype": "text/x-python",
   "name": "python",
   "nbconvert_exporter": "python",
   "pygments_lexer": "ipython3",
   "version": "3.9.7"
  }
 },
 "nbformat": 4,
 "nbformat_minor": 4
}
