{
 "cells": [
  {
   "cell_type": "markdown",
   "metadata": {},
   "source": [
    "# Att anpassa kurvor till data\n",
    "\n",
    "## Komandot polyfit\n",
    "\n",
    "Ändras: nytt kommando Polynomial.fit!\n",
    "\n",
    "Kommandot `polyfit()` i numpy kan direkt användas för att bestämma koefficienter i $y=kx+m$ och i $y=ax^2+bx+c$. Först skapar vi lite data med statistiskt brus. Vi gör det genom att generera en rät linje och lägger till lite slumpmässiga variationer i y-värdena. Delen av programmet där data genereras är inget som behövs i en realistisk situation. I 'teoretiska' situationer kan detta läggas i en def."
   ]
  },
  {
   "cell_type": "code",
   "execution_count": 9,
   "metadata": {},
   "outputs": [
    {
     "name": "stdout",
     "output_type": "stream",
     "text": [
      "[2.00612383 8.23706351]\n",
      "<class 'numpy.ndarray'>\n"
     ]
    },
    {
     "data": {
      "image/png": "[encoded data removed]",
      "text/plain": [
       "<Figure size 432x288 with 1 Axes>"
      ]
     },
     "metadata": {
      "needs_background": "light"
     },
     "output_type": "display_data"
    }
   ],
   "source": [
    "import matplotlib.pyplot as plt\n",
    "import random as r\n",
    "import numpy as np\n",
    "\n",
    "#Vi låser till 10 element\n",
    "x=np.linspace(-20,20,10)\n",
    "\n",
    "#Vi måste arbeta med listor\n",
    "x=list(x)\n",
    "noise=[]\n",
    "y=[]\n",
    "\n",
    "#Vi delar upp det i två\n",
    "for i in range(0,10):\n",
    "    noise.append(r.random())\n",
    "for i in range(0,10):\n",
    "    y.append(2*x[i]+5+5*noise[i])\n",
    "    \n",
    "plt.plot(x,y,'o')\n",
    "\n",
    "#Nu kommer anpassningen\n",
    "pk=np.polyfit(x,y,1)\n",
    "print(pk)"
   ]
  },
  {
   "cell_type": "markdown",
   "metadata": {},
   "source": [
    "`np.polyfit(x,y,1)` skickar listan x och listan y till anpassnings-modulen polyfit. Vi ber också om att polynomet ska ha gradtalet 1, dvs en anpassning till $y=kx+m$.\n",
    "\n",
    "När vi skriver ut det som skickats med `return()` till oss från polyfit funktionen så är första elementet i 'listan' koefficienten framför $x^1$ och andra elementet står framför $x^0$: $y=pk[0]x+pk[1]$.\n",
    "\n",
    "Men vi vill rita det anpassade polynomet också. Vi låter x vara oförändrat, `x_fit=x`, och beräknar y från det anpassade polynomet, `y_fit=pk[0]x_fit+pk[1]`, men vi kan inte skriva så(!) utan måste loopa igenom alla värdena, `x_fit[i]`, och använda append: `    y_fit.append(pk[0]*x_fit[i]+pk[1])`.\n"
   ]
  },
  {
   "cell_type": "code",
   "execution_count": 14,
   "metadata": {},
   "outputs": [
    {
     "name": "stdout",
     "output_type": "stream",
     "text": [
      "[ 1.90877087 14.4771657 ]\n"
     ]
    },
    {
     "data": {
      "text/plain": [
       "[<matplotlib.lines.Line2D at 0x7fcf20641970>]"
      ]
     },
     "execution_count": 14,
     "metadata": {},
     "output_type": "execute_result"
    },
    {
     "data": {
      "image/png": "[encoded data removed]",
      "text/plain": [
       "<Figure size 432x288 with 1 Axes>"
      ]
     },
     "metadata": {
      "needs_background": "light"
     },
     "output_type": "display_data"
    }
   ],
   "source": [
    "import matplotlib.pyplot as plt\n",
    "import random as r\n",
    "import numpy as np\n",
    "\n",
    "x=np.linspace(-20,20,10)\n",
    "#Vi måste arbeta med listor\n",
    "x=list(x)\n",
    "noise=[]\n",
    "y=[]\n",
    "#delar upp det i två omgångar\n",
    "for i in range(0,10):\n",
    "    noise.append(r.random())\n",
    "for i in range(0,10):\n",
    "    y.append(2*x[i]+5+20*noise[i])\n",
    "    \n",
    "\n",
    "#Nu kommer anpassningen\n",
    "pk=np.polyfit(x,y,1)\n",
    "print(pk)\n",
    "#x_fit är samma som x, y_fit beräknas ur y=kx+m\n",
    "x_fit=x\n",
    "y_fit=[]\n",
    "for i in range(0,10):\n",
    "    y_fit.append(pk[0]*x_fit[i]+pk[1])\n",
    "\n",
    "plt.plot(x,y,'o')\n",
    "plt.plot(x_fit,y_fit,'--')\n"
   ]
  },
  {
   "cell_type": "markdown",
   "metadata": {},
   "source": [
    "Liknande procedur gäller för att anpassa ett kvadratiskt polynom.\n",
    "På samma sätt som tidigare så skapar vi data med brus och anpassar sedan och plottar därefter. Denna gång använder vi dock fler punkter för att rita den anpassade kurvan."
   ]
  },
  {
   "cell_type": "code",
   "execution_count": 18,
   "metadata": {},
   "outputs": [
    {
     "name": "stdout",
     "output_type": "stream",
     "text": [
      "[ 2.52478884  1.14039337 10.29472774]\n"
     ]
    },
    {
     "data": {
      "text/plain": [
       "[<matplotlib.lines.Line2D at 0x7fcf207fd670>]"
      ]
     },
     "execution_count": 18,
     "metadata": {},
     "output_type": "execute_result"
    },
    {
     "data": {
      "image/png": "[encoded data removed]",
      "text/plain": [
       "<Figure size 432x288 with 1 Axes>"
      ]
     },
     "metadata": {
      "needs_background": "light"
     },
     "output_type": "display_data"
    }
   ],
   "source": [
    "import matplotlib.pyplot as plt\n",
    "import random as r\n",
    "import numpy as np\n",
    "\n",
    "x=np.linspace(-4,4,10)\n",
    "#Vi måste arbeta med listor\n",
    "x=list(x)\n",
    "noise=[]\n",
    "y=[]\n",
    "#delar upp det i två omgångar\n",
    "for i in range(0,10):\n",
    "    noise.append(r.random())\n",
    "for i in range(0,10):\n",
    "    y.append(2*x[i]**2+5+20*noise[i])\n",
    "    \n",
    "\n",
    "#Nu kommer anpassningen\n",
    "pk=np.polyfit(x,y,2)\n",
    "print(pk)\n",
    "#x_fit innehåller fler punkter för att få en jämnare graf\n",
    "x_fit=list(np.linspace(-4,4,30))\n",
    "y_fit=[]\n",
    "for i in range(0,30):\n",
    "    y_fit.append(pk[0]*(x_fit[i])**2+pk[1]*x_fit[i]+pk[2])\n",
    "\n",
    "plt.plot(x,y,'o')\n",
    "plt.plot(x_fit,y_fit,'--')"
   ]
  },
  {
   "cell_type": "markdown",
   "metadata": {},
   "source": [
    "Prova med att sänka bruset till 0 och se om anpassningen ger samma funktion som vi använt. Sätt koefficienten framför noise till 0."
   ]
  },
  {
   "cell_type": "markdown",
   "metadata": {},
   "source": [
    "Kanske tycker man att det borde vara möjligt för en lista att multiplicera alla element i listan med ett tal! När man multiplicerar en lista med ett tal, tex. 3, så är det en konkatenering. Säg att vi har L=[1,2] och skriver `M=3*L`, då erhåller vi `M=[1,2,1,2,1,2]`. Men säg att vi vill att `3*L=[3*1,3*2]` då måste vi använda något som heter array() som lägger grunden för vektorer och matriser."
   ]
  },
  {
   "cell_type": "markdown",
   "metadata": {},
   "source": [
    "## Uppgifter\n",
    "\n",
    "**Uppgift 1**\n",
    "\n",
    "Läs in data från filen [data1v2.csv](./uppg/data1v2.csv) och anpassa ett andragradspolynom.\n",
    "\n",
    "<!--[Lösningsförslag](./uppg/polyfitUppg1.ipynb)-->"
   ]
  },
  {
   "cell_type": "code",
   "execution_count": null,
   "metadata": {},
   "outputs": [],
   "source": []
  }
 ],
 "metadata": {
  "kernelspec": {
   "display_name": "Python 3 (ipykernel)",
   "language": "python",
   "name": "python3"
  },
  "language_info": {
   "codemirror_mode": {
    "name": "ipython",
    "version": 3
   },
   "file_extension": ".py",
   "mimetype": "text/x-python",
   "name": "python",
   "nbconvert_exporter": "python",
   "pygments_lexer": "ipython3",
   "version": "3.11.3"
  }
 },
 "nbformat": 4,
 "nbformat_minor": 4
}
