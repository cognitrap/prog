{
 "cells": [
  {
   "cell_type": "markdown",
   "metadata": {},
   "source": [
    "# Input till program\n",
    "\n",
    "## input\n",
    "\n",
    "Vi tittar nu på hur program kan ta emot data från tex. tangentbordet. Vi har redan använt detta lite.\n",
    "\n",
    "Huvudkommandot är `input()`.\n",
    "\n",
    "Ofta har man behov av att samtidigt ange vad det är som ska in, det görs med en sträng i början. När rutan för inmatning kommer upp skriver du in talet där och trycker på retur/enter."
   ]
  },
  {
   "cell_type": "code",
   "execution_count": 3,
   "metadata": {},
   "outputs": [
    {
     "name": "stdin",
     "output_type": "stream",
     "text": [
      "Ange ett heltal 5\n"
     ]
    },
    {
     "name": "stdout",
     "output_type": "stream",
     "text": [
      "Du angav talet  5\n",
      "input läser strängar  <class 'str'>\n"
     ]
    }
   ],
   "source": [
    "a = input(\"Ange ett heltal\")\n",
    "print(\"Du angav talet \",a)\n",
    "print(\"input läser strängar \", type(a))"
   ]
  },
  {
   "cell_type": "markdown",
   "metadata": {},
   "source": [
    "Variabeln `a` tilldelas det värde du anger. Det du skriver in betraktas som en sträng."
   ]
  },
  {
   "cell_type": "markdown",
   "metadata": {},
   "source": [
    "Vi kontrollerar genom en print-sats"
   ]
  },
  {
   "cell_type": "code",
   "execution_count": 3,
   "metadata": {},
   "outputs": [
    {
     "name": "stdout",
     "output_type": "stream",
     "text": [
      "ange ett heltal4\n",
      "4\n"
     ]
    }
   ],
   "source": [
    "a = input(\"Ange ett heltal\")\n",
    "print(a)"
   ]
  },
  {
   "cell_type": "markdown",
   "metadata": {},
   "source": [
    "Vi försöker göra något med talet."
   ]
  },
  {
   "cell_type": "code",
   "execution_count": 1,
   "metadata": {},
   "outputs": [
    {
     "name": "stdin",
     "output_type": "stream",
     "text": [
      "Ange ett heltal  3\n"
     ]
    },
    {
     "name": "stdout",
     "output_type": "stream",
     "text": [
      "33\n"
     ]
    }
   ],
   "source": [
    "a = input(\"Ange ett heltal \")\n",
    "print(a + a)"
   ]
  },
  {
   "cell_type": "markdown",
   "metadata": {},
   "source": [
    "Talet(?) är inte ett heltal, utan det är en sträng.\n",
    "\n",
    "Din uppgift nu som programmerare är att undersöka vad det är du fått in och hantera det på ett säkert sätt. Programmet ska inte krascha för att någon matar in talet 0 tex. eller bara allmänt nonsens.\n",
    "\n",
    "I vårt fall räcker det med att vi gör om det till ett heltal, om det är det vi behöver i programmet..."
   ]
  },
  {
   "cell_type": "code",
   "execution_count": 4,
   "metadata": {},
   "outputs": [
    {
     "name": "stdin",
     "output_type": "stream",
     "text": [
      "Ange ett heltal  4\n"
     ]
    },
    {
     "name": "stdout",
     "output_type": "stream",
     "text": [
      "8\n"
     ]
    }
   ],
   "source": [
    "a = input(\"Ange ett heltal \")\n",
    "a = int(a)\n",
    "print(a + a)"
   ]
  },
  {
   "cell_type": "markdown",
   "metadata": {},
   "source": [
    "Detta är en så vanlig sak så det skrivs ofta på en rad"
   ]
  },
  {
   "cell_type": "code",
   "execution_count": null,
   "metadata": {},
   "outputs": [],
   "source": [
    "a = int(input(\"Ange ett heltal\"))"
   ]
  },
  {
   "cell_type": "markdown",
   "metadata": {},
   "source": [
    "Observera att detta är en sammansatt funktion precis som i matematiken `int(input())=f(g(x))`"
   ]
  },
  {
   "cell_type": "markdown",
   "metadata": {},
   "source": [
    "Om du vill ha flyttal så ska det stå `float()`. Skriver du int när det ska vara float så får man felmeddelande."
   ]
  },
  {
   "cell_type": "code",
   "execution_count": 1,
   "metadata": {},
   "outputs": [
    {
     "name": "stdin",
     "output_type": "stream",
     "text": [
      "Ange ett tal med 3 decimaler 3.124\n"
     ]
    },
    {
     "ename": "ValueError",
     "evalue": "invalid literal for int() with base 10: '3.124'",
     "output_type": "error",
     "traceback": [
      "\u001b[0;31m---------------------------------------------------------------------------\u001b[0m",
      "\u001b[0;31mValueError\u001b[0m                                Traceback (most recent call last)",
      "\u001b[0;32m/tmp/ipykernel_18372/2541416114.py\u001b[0m in \u001b[0;36m<module>\u001b[0;34m\u001b[0m\n\u001b[0;32m----> 1\u001b[0;31m \u001b[0md\u001b[0m \u001b[0;34m=\u001b[0m \u001b[0mint\u001b[0m\u001b[0;34m(\u001b[0m\u001b[0minput\u001b[0m\u001b[0;34m(\u001b[0m\u001b[0;34m\"Ange ett tal med 3 decimaler\"\u001b[0m\u001b[0;34m)\u001b[0m\u001b[0;34m)\u001b[0m\u001b[0;34m\u001b[0m\u001b[0;34m\u001b[0m\u001b[0m\n\u001b[0m\u001b[1;32m      2\u001b[0m \u001b[0mprint\u001b[0m\u001b[0;34m(\u001b[0m\u001b[0md\u001b[0m\u001b[0;34m)\u001b[0m\u001b[0;34m\u001b[0m\u001b[0;34m\u001b[0m\u001b[0m\n",
      "\u001b[0;31mValueError\u001b[0m: invalid literal for int() with base 10: '3.124'"
     ]
    }
   ],
   "source": [
    "d = int(input(\"Ange ett tal med 3 decimaler\"))\n",
    "print(d)"
   ]
  },
  {
   "cell_type": "markdown",
   "metadata": {},
   "source": [
    "`input()` kan ta emot fler än ett objekt åt gången, separerade med mellanslag, med hjälp av `.split()`. split kan ta parametrar men vi tar inte upp det."
   ]
  },
  {
   "cell_type": "code",
   "execution_count": 9,
   "metadata": {},
   "outputs": [
    {
     "name": "stdin",
     "output_type": "stream",
     "text": [
      "Ange 3 tal separerade med mellanslag  3 5 123\n"
     ]
    },
    {
     "name": "stdout",
     "output_type": "stream",
     "text": [
      "a= 3  b= 5  c= 123\n"
     ]
    }
   ],
   "source": [
    "a, b, c = input(\"Ange 3 tal separerade med mellanslag \").split()\n",
    "print(\"a=\", a,\" b=\", b, \" c=\", c)"
   ]
  },
  {
   "cell_type": "markdown",
   "metadata": {},
   "source": [
    "## Enkel styrning av output\n",
    "\n",
    "Fastän detta ska handla om input tar vi några enkla och bra saker för utskriften.\n",
    "Kommandon för ny rad och tabulatorsteg ges av `\\n` respektive `\\t`.\n",
    "Bakstrecket kallas för ett 'escape'-tecken. Detta måste in före n och t, annars är de naturligtvis vanliga bokstäver i strängen."
   ]
  },
  {
   "cell_type": "code",
   "execution_count": 11,
   "metadata": {},
   "outputs": [
    {
     "name": "stdout",
     "output_type": "stream",
     "text": [
      "Solen går strax upp\n",
      "Dagen är här\n"
     ]
    }
   ],
   "source": [
    "print(\"Solen går strax upp\\nDagen är här\")"
   ]
  },
  {
   "cell_type": "markdown",
   "metadata": {},
   "source": [
    "Observera att symbolerna står tätt, mellanrum ger mellanslag:"
   ]
  },
  {
   "cell_type": "code",
   "execution_count": 12,
   "metadata": {},
   "outputs": [
    {
     "name": "stdout",
     "output_type": "stream",
     "text": [
      "Solen går strax upp\n",
      "  Dagen är här\n"
     ]
    }
   ],
   "source": [
    "print(\"Solen går strax upp\\n  Dagen är här\")"
   ]
  },
  {
   "cell_type": "code",
   "execution_count": 3,
   "metadata": {},
   "outputs": [
    {
     "name": "stdout",
     "output_type": "stream",
     "text": [
      "Den hemliga koden är:\t345197\n"
     ]
    }
   ],
   "source": [
    "print(\"Den hemliga koden är:\\t345197\")"
   ]
  },
  {
   "cell_type": "markdown",
   "metadata": {},
   "source": [
    "## Uppgifter\n",
    "\n",
    "**Uppgift 1**\n",
    "\n",
    "Läs in 2 tal på en rad och skriv ut dem i storleksordning.\n",
    "\n",
    "[Lösningsförslag](./uppg/inputUppg1.ipynb)\n"
   ]
  }
 ],
 "metadata": {
  "kernelspec": {
   "display_name": "Python 3 (ipykernel)",
   "language": "python",
   "name": "python3"
  },
  "language_info": {
   "codemirror_mode": {
    "name": "ipython",
    "version": 3
   },
   "file_extension": ".py",
   "mimetype": "text/x-python",
   "name": "python",
   "nbconvert_exporter": "python",
   "pygments_lexer": "ipython3",
   "version": "3.9.7"
  }
 },
 "nbformat": 4,
 "nbformat_minor": 4
}
