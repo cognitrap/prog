{
 "cells": [
  {
   "cell_type": "markdown",
   "metadata": {},
   "source": [
    "# Input till program\n",
    "\n",
    "## input\n",
    "\n",
    "Vi tittar nu på hur program kan ta emot data från tangentbordet. Vi har redan använt detta lite.\n",
    "\n",
    "Huvudkommandot är `input()`.\n",
    "\n",
    "Ofta har man behov av att samtidigt ange information om vad det är användaren ska mata in, det görs med en sträng i början, inuti parentesen. När rutan för inmatning kommer upp skriver du in talet där och trycker på retur/enter."
   ]
  },
  {
   "cell_type": "code",
   "execution_count": 1,
   "metadata": {},
   "outputs": [
    {
     "name": "stdout",
     "output_type": "stream",
     "text": [
      "4\n"
     ]
    }
   ],
   "source": [
    "a = input(\"Ange ett heltal \")\n",
    "print(a)"
   ]
  },
  {
   "cell_type": "markdown",
   "metadata": {},
   "source": [
    "Variabeln `a` tilldelas det värde du anger. Det du skriver in betraktas som en sträng. Vi kontrollerar det med kommandot `type()`."
   ]
  },
  {
   "cell_type": "code",
   "execution_count": 3,
   "metadata": {},
   "outputs": [
    {
     "name": "stdout",
     "output_type": "stream",
     "text": [
      "Ange ett heltal 5\n",
      "Du angav talet  5\n",
      "input läser strängar  <class 'str'>\n"
     ]
    }
   ],
   "source": [
    "a = input(\"Ange ett heltal\")\n",
    "print(\"Du angav talet \",a)\n",
    "print(\"input läser strängar \", type(a))"
   ]
  },
  {
   "cell_type": "markdown",
   "metadata": {},
   "source": []
  },
  {
   "cell_type": "markdown",
   "metadata": {},
   "source": [
    "Vi försöker göra något med talet."
   ]
  },
  {
   "cell_type": "code",
   "execution_count": 1,
   "metadata": {},
   "outputs": [
    {
     "name": "stdout",
     "output_type": "stream",
     "text": [
      "Ange ett heltal  3\n",
      "33\n"
     ]
    }
   ],
   "source": [
    "a = input(\"Ange ett heltal \")\n",
    "print(a + a)"
   ]
  },
  {
   "cell_type": "markdown",
   "metadata": {},
   "source": [
    "Talet(?) är inte ett heltal, utan det är en sträng. Det följer reglerna för datatypen sträng.\n",
    "\n",
    "Din uppgift nu som programmerare är att undersöka vad det är du fått in och hantera det på ett säkert sätt. Programmet ska inte krascha för att någon matar in talet 0 tex. eller bara allmänt nonsens.\n",
    "\n",
    "I vårt fall räcker det ofta med att vi gör om det till ett heltal, om det är det vi behöver i programmet..."
   ]
  },
  {
   "cell_type": "code",
   "execution_count": 1,
   "metadata": {},
   "outputs": [
    {
     "name": "stdout",
     "output_type": "stream",
     "text": [
      "Ange ett heltal  4\n",
      "8\n"
     ]
    }
   ],
   "source": [
    "a = input(\"Ange ett heltal \")\n",
    "a = int(a)  # strängen omvandlas till heltal\n",
    "print(a + a)"
   ]
  },
  {
   "cell_type": "markdown",
   "metadata": {},
   "source": [
    "Detta är en så vanlig sak så det skrivs ofta på en rad:"
   ]
  },
  {
   "cell_type": "code",
   "execution_count": null,
   "metadata": {},
   "outputs": [],
   "source": [
    "a = int(input(\"Ange ett heltal\"))"
   ]
  },
  {
   "cell_type": "markdown",
   "metadata": {},
   "source": [
    "Observera att detta är en sammansatt funktion precis som i matematiken `int(input())=f(g(x))`."
   ]
  },
  {
   "cell_type": "markdown",
   "metadata": {},
   "source": [
    "Om du vill ha flyttal så ska det stå `float()`. Skriver du int när det ska vara float så får man felmeddelande."
   ]
  },
  {
   "cell_type": "code",
   "execution_count": 2,
   "metadata": {},
   "outputs": [
    {
     "name": "stdout",
     "output_type": "stream",
     "text": [
      "Ange ett tal med 3 decimaler 3.122\n"
     ]
    },
    {
     "ename": "ValueError",
     "evalue": "invalid literal for int() with base 10: '3.122'",
     "output_type": "error",
     "traceback": [
      "\u001b[0;31m---------------------------------------------------------------------------\u001b[0m",
      "\u001b[0;31mValueError\u001b[0m                                Traceback (most recent call last)",
      "Input \u001b[0;32mIn [2]\u001b[0m, in \u001b[0;36m<cell line: 1>\u001b[0;34m()\u001b[0m\n\u001b[0;32m----> 1\u001b[0m d \u001b[38;5;241m=\u001b[39m \u001b[38;5;28;43mint\u001b[39;49m\u001b[43m(\u001b[49m\u001b[38;5;28;43minput\u001b[39;49m\u001b[43m(\u001b[49m\u001b[38;5;124;43m\"\u001b[39;49m\u001b[38;5;124;43mAnge ett tal med 3 decimaler\u001b[39;49m\u001b[38;5;124;43m\"\u001b[39;49m\u001b[43m)\u001b[49m\u001b[43m)\u001b[49m\n\u001b[1;32m      2\u001b[0m \u001b[38;5;28mprint\u001b[39m(d)\n",
      "\u001b[0;31mValueError\u001b[0m: invalid literal for int() with base 10: '3.122'"
     ]
    }
   ],
   "source": [
    "d = int(input(\"Ange ett tal med 3 decimaler\"))\n",
    "print(d)"
   ]
  },
  {
   "cell_type": "code",
   "execution_count": null,
   "metadata": {},
   "outputs": [],
   "source": []
  },
  {
   "cell_type": "markdown",
   "metadata": {},
   "source": [
    "`input()` kan ta emot fler än ett objekt åt gången, separerade med mellanslag, med hjälp av `.split()`. "
   ]
  },
  {
   "cell_type": "code",
   "execution_count": 1,
   "metadata": {},
   "outputs": [
    {
     "name": "stdin",
     "output_type": "stream",
     "text": [
      "Ange 3 tal separerade med mellanslag  3 4 6\n"
     ]
    },
    {
     "name": "stdout",
     "output_type": "stream",
     "text": [
      "a= 3  b= 4  c= 6\n"
     ]
    },
    {
     "name": "stdin",
     "output_type": "stream",
     "text": [
      "Ange 3 tal separerade med kommatecken  1.2, 4.1, 5.6\n"
     ]
    },
    {
     "name": "stdout",
     "output_type": "stream",
     "text": [
      "a= 1.2  b=  4.1  c=  5.6\n"
     ]
    }
   ],
   "source": [
    "a, b, c = input(\"Ange 3 tal separerade med mellanslag \").split()\n",
    "print(\"a=\", a,\" b=\", b, \" c=\", c)\n",
    "\n",
    "a, b, c = input(\"Ange 3 tal separerade med kommatecken \").split(\",\")\n",
    "print(\"a=\", a,\" b=\", b, \" c=\", c)"
   ]
  },
  {
   "cell_type": "markdown",
   "metadata": {},
   "source": [
    "## Enkel styrning av output\n",
    "\n",
    "Fastän detta ska handla om input tar vi några enkla och bra saker för utskriften.\n",
    "Kommandon för ny rad och tabulatorsteg ges av `\\n` respektive `\\t`.\n",
    "Bakstrecket kallas för ett 'escape'-tecken. Detta måste in före n och t, annars är de naturligtvis vanliga bokstäver i strängen."
   ]
  },
  {
   "cell_type": "code",
   "execution_count": 11,
   "metadata": {},
   "outputs": [
    {
     "name": "stdout",
     "output_type": "stream",
     "text": [
      "Solen går strax upp\n",
      "Dagen är här\n"
     ]
    }
   ],
   "source": [
    "print(\"Solen går strax upp\\nDagen är här\")"
   ]
  },
  {
   "cell_type": "markdown",
   "metadata": {},
   "source": [
    "Observera att symbolerna står tätt, mellanrum ger mellanslag:"
   ]
  },
  {
   "cell_type": "code",
   "execution_count": 12,
   "metadata": {},
   "outputs": [
    {
     "name": "stdout",
     "output_type": "stream",
     "text": [
      "Solen går strax upp\n",
      "  Dagen är här\n"
     ]
    }
   ],
   "source": [
    "print(\"Solen går strax upp\\n  Dagen är här\")"
   ]
  },
  {
   "cell_type": "markdown",
   "metadata": {},
   "source": [
    "Observera att bokstaven D är indragen i utskriften, det är mellanslagen efter ny rad och innan D i strängen i print-satsen."
   ]
  },
  {
   "cell_type": "markdown",
   "metadata": {},
   "source": [
    "Ett exempel på tabulator."
   ]
  },
  {
   "cell_type": "code",
   "execution_count": 3,
   "metadata": {},
   "outputs": [
    {
     "name": "stdout",
     "output_type": "stream",
     "text": [
      "Den hemliga koden är:\t345197\n",
      "Den hemliga koden är:\t197\n"
     ]
    }
   ],
   "source": [
    "print(\"Den hemliga koden är:\\t345197\")\n",
    "print(\"Den hemliga koden är:\\t197\")"
   ]
  },
  {
   "cell_type": "markdown",
   "metadata": {},
   "source": [
    "## Uppgifter\n",
    "\n",
    "**Uppgift 1**\n",
    "\n",
    "Läs in 2 flyttal på en rad och skriv ut dem i storleksordning. Dvs. läs in en sträng, dela upp den och omvandla de 2 delarna till flyttal.\n",
    "\n",
    "[Lösningsförslag](./uppg/inputUppg1.ipynb)\n"
   ]
  }
 ],
 "metadata": {
  "kernelspec": {
   "display_name": "Python 3 (ipykernel)",
   "language": "python",
   "name": "python3"
  },
  "language_info": {
   "codemirror_mode": {
    "name": "ipython",
    "version": 3
   },
   "file_extension": ".py",
   "mimetype": "text/x-python",
   "name": "python",
   "nbconvert_exporter": "python",
   "pygments_lexer": "ipython3",
   "version": "3.11.5"
  }
 },
 "nbformat": 4,
 "nbformat_minor": 4
}
