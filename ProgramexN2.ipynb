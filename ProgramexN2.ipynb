{
 "cells": [
  {
   "cell_type": "markdown",
   "metadata": {},
   "source": [
    "# Exempel på program\n",
    "\n",
    "Ger exempel på program utifrån det som tagits upp hitintills\n"
   ]
  },
  {
   "cell_type": "markdown",
   "metadata": {},
   "source": [
    "## Kvadratrotstabell"
   ]
  },
  {
   "cell_type": "code",
   "execution_count": 1,
   "metadata": {},
   "outputs": [
    {
     "name": "stdout",
     "output_type": "stream",
     "text": [
      "Var ska tabellen starta? 1\n",
      "Var ska tabellen sluta? 5\n",
      "Hur stora steg ska tas? 1\n"
     ]
    },
    {
     "name": "stdout",
     "output_type": "stream",
     "text": [
      "x-värde roten ur x\n",
      "   1       1.0\n",
      "   2       1.4142135623730951\n",
      "   3       1.7320508075688772\n",
      "   4       2.0\n",
      "   5       2.23606797749979\n"
     ]
    }
   ],
   "source": [
    "import math as m\n",
    "\n",
    "start = int(input(\"Var ska tabellen starta?\"))\n",
    "stop = int(input(\"Var ska tabellen sluta?\"))\n",
    "step = int(input(\"Hur stora steg ska tas?\"))\n",
    "\n",
    "print(\"x-värde\", \"roten ur x\")\n",
    "\n",
    "for i in range(start, stop+1, step):\n",
    "    print(\"  \", i, \"     \", m.sqrt(i))\n"
   ]
  },
  {
   "cell_type": "markdown",
   "metadata": {},
   "source": [
    "## Sökning\n",
    "\n",
    "Det finns flera olika sätt att sortera listor. Kan kanske tyckas vara en tråkig sysselsättning men mycket matematiskt arbete har lagts ner, och läggs ner, på att sortera så effektivt som möjligt. När du söker på internet är så att säga internet redan sorterat så det ska gå snabbt att söka. Ibland säger man att det inte är frågan om att använda sökmaskiner på internet utan sorteringsmaskiner. Google och Duck duck go osv. är egentligen sorteringsmaskiner.\n",
    "\n",
    "I detta inledande fall ska vi ta en fix lista och söka upp det största talet, ett inledande steg i en sortering."
   ]
  },
  {
   "cell_type": "code",
   "execution_count": null,
   "metadata": {},
   "outputs": [],
   "source": [
    "# Listan vi ska söka största talet i\n",
    "L = [3, 7, 5]\n",
    "\n",
    "# Vi gör en loop\n",
    "large = L[0]  # Startläge, första talet är det största än så länge\n",
    "for i in L:  # i antar värdena i listan, inget index behövs\n",
    "    if i > large:  # Om vi hittar ett tal som är större så uppdatera variabeln large\n",
    "        large = i\n",
    "\n",
    "\n",
    "print(\"Det största talet är\", large)"
   ]
  },
  {
   "cell_type": "markdown",
   "metadata": {},
   "source": [
    "Ändra i pythonprogrammet och testa lite olika tal (t.ex. alla tal lika, bara negativa tal).\n",
    "\n",
    "Nu kan man lägga det största talet i en annan lista S och sudda det tal man fann och fortsätta tills listan L är tom, då har man en sorterad lista S!"
   ]
  },
  {
   "cell_type": "markdown",
   "metadata": {},
   "source": [
    "## Delbart med 3\n",
    "\n",
    "Vi konstruerar ett program som undersöker om ett tal är delbart med 3."
   ]
  },
  {
   "cell_type": "code",
   "execution_count": 2,
   "metadata": {},
   "outputs": [
    {
     "name": "stdout",
     "output_type": "stream",
     "text": [
      "Ange ett heltal 6\n"
     ]
    },
    {
     "name": "stdout",
     "output_type": "stream",
     "text": [
      "Talet är delbart med 3\n"
     ]
    }
   ],
   "source": [
    "a = int(input(\"Ange ett heltal\"))\n",
    "\n",
    "if a//3 == a/3:\n",
    "    print(\"Talet är delbart med 3\")\n",
    "else:\n",
    "    print(\"Talet är inte delbart med 3\")"
   ]
  },
  {
   "cell_type": "markdown",
   "metadata": {},
   "source": [
    "Kontrollen sker genom att jämföra heltalsdivision `//` med vanlig division. Är de lika var talet delbart med 3, ingen rest förekom.\n",
    "\n",
    "if-satsen ska ha något som är sant eller falskt. Jag har använt `==` som är ekvivalens. Om heltalsdivisionen är lika med divisionen så har uttrycket `a//3 == a/3` värdet `True` och satsen omedelbart efter utförs (och inget mer!), om det har värdet `False` görs det som står under `else`."
   ]
  },
  {
   "cell_type": "code",
   "execution_count": null,
   "metadata": {},
   "outputs": [],
   "source": []
  }
 ],
 "metadata": {
  "kernelspec": {
   "display_name": "Python 3 (ipykernel)",
   "language": "python",
   "name": "python3"
  },
  "language_info": {
   "codemirror_mode": {
    "name": "ipython",
    "version": 3
   },
   "file_extension": ".py",
   "mimetype": "text/x-python",
   "name": "python",
   "nbconvert_exporter": "python",
   "pygments_lexer": "ipython3",
   "version": "3.11.5"
  }
 },
 "nbformat": 4,
 "nbformat_minor": 4
}
