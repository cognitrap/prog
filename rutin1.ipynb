{
 "cells": [
  {
   "cell_type": "markdown",
   "metadata": {},
   "source": [
    "## Rutinuppgifter\n",
    "\n",
    "Exempel på program som kan skapas av dator och som ger mängdövningar."
   ]
  },
  {
   "cell_type": "markdown",
   "metadata": {},
   "source": [
    "Skriv ett program där datorn anger 2 punkter i ett koordinatsystem(graf) och användaren anger intercept och riktningskoefficient. Sedan ritas de 2 punkterna och den föreslagna räta linjen. Rätt svar accepteras med felmarginal.\n",
    "\n",
    "[Lösningsförslag](./uppg/rutin1uppgift1.ipynb)\n"
   ]
  },
  {
   "cell_type": "code",
   "execution_count": null,
   "metadata": {},
   "outputs": [],
   "source": []
  }
 ],
 "metadata": {
  "kernelspec": {
   "display_name": "Python 3",
   "language": "python",
   "name": "python3"
  },
  "language_info": {
   "codemirror_mode": {
    "name": "ipython",
    "version": 3
   },
   "file_extension": ".py",
   "mimetype": "text/x-python",
   "name": "python",
   "nbconvert_exporter": "python",
   "pygments_lexer": "ipython3",
   "version": "3.8.3"
  }
 },
 "nbformat": 4,
 "nbformat_minor": 4
}
