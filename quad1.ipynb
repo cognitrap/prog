{
 "cells": [
  {
   "cell_type": "markdown",
   "metadata": {},
   "source": [
    "Att integrera en funktion följer i regel  en enkel mall. Två saker behövs:\n",
    "\n",
    "- import scipy.integrate\n",
    "- en sorts beskrivning av en funktions form, kallad lambda, behövs\n",
    "\n",
    "\n",
    "Själva funktionen definieras i koden:\n",
    "`f= lambda x:exp(-x**2)`\n",
    "Vi definierar här formen på en funktion. Det är mer algebra än numeriskt. Vi anger inga värden för x eller anger x som en lista; det är bara platshållare till den funktion vi senare anropar. Lambda gör det möjligt för oss att skicka en funktion som argument.\n",
    "\n",
    "Efter `lambda` anges variabeln. Därefter själva funktionsuttrycket tex. `exp(-x**2)` som är $e^{-x^2}$.\n",
    "\n",
    "För att integrera anropar vi funktionen som vi importerat`integrate.quad(funktion, nedre gräns, övre gräns)`.\n",
    "\n",
    "Funktionen integrate.quad() returnerar integralens värde samt en uppskattning av felet; de nås genom index 0 respektive 1.\n",
    "\n",
    "Gör några exempel att visa upp.\n",
    "Konstruera också integralen som funktion av x, se nedan\n",
    "\n",
    "Om man ur detta vill beräkna integralen som funktion av x, framställd som en graf, får man integrera med tex. den övre gränsen x=a och sedan successivt flytta denna uppåt och lägga värdena i en lista som kan plottas. \n",
    "\n",
    "$$F\\left(x\\right)=\\int_{0}^{x}f\\left(t\\right)\\,\\textrm{dt}$$\n",
    "\n",
    "något idémässigt typ\n",
    "\n",
    "$$F=\\left[\\int_{0}^{0}f\\left(t\\right),\\int_{0}^{0.1}f\\left(t\\right),\\int_{0}^{0.2}f\\left(t\\right),\\int_{0}^{0.3}f\\left(t\\right),...\\right]$$\n",
    "\n",
    "och sedan plotta dessa mot $x=[0,0.1,0.2,0.3,...]$\n",
    "\n",
    "[Lösningsförslag](./uppg/quad1uppgift1.ipynb)\n",
    "\n"
   ]
  },
  {
   "cell_type": "code",
   "execution_count": null,
   "metadata": {},
   "outputs": [],
   "source": []
  }
 ],
 "metadata": {
  "kernelspec": {
   "display_name": "Python 3",
   "language": "python",
   "name": "python3"
  },
  "language_info": {
   "codemirror_mode": {
    "name": "ipython",
    "version": 3
   },
   "file_extension": ".py",
   "mimetype": "text/x-python",
   "name": "python",
   "nbconvert_exporter": "python",
   "pygments_lexer": "ipython3",
   "version": "3.8.3"
  }
 },
 "nbformat": 4,
 "nbformat_minor": 4
}
