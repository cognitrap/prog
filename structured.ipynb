{
 "cells": [
  {
   "cell_type": "markdown",
   "id": "e8cedd3c-1ef8-4c83-a15a-13c66e373d14",
   "metadata": {},
   "source": [
    "### Datastrukturer\n",
    "\n",
    "Vi behandlar: tupler (tuples), mängder (sets). Vi har tidigare behandlat listor (lists) och strängar (strings)."
   ]
  },
  {
   "cell_type": "markdown",
   "id": "6d387f45-da28-465b-9916-8cc77ac3cad4",
   "metadata": {},
   "source": [
    "#### Tuples\n",
    "\n",
    "Tupler liknar listor men elementen i en tuple kan inte ändras (elementen i en sträng kan inte heller ändras)\n",
    "\n",
    "En tuple definieras genom att räkna upp elementen innanför parenteser\n",
    ". `T=(1, True, 2, \"Hej\")`\n",
    "\n",
    "En lista hade definierats som `L=[1, True, 2, \"Hej\"]`\n",
    "\n",
    "I en lista kan vi göra `L[1]=False` men detta går inte att göra i en tuple: `T(1)=False` ger felmeddelande. I strängar kan vi inte heller göra denna typ av operation. Om vi anger en sträng som `S='Hej'` så kan vi inte utföra `S[0]=D` (Vi har inte ens hakparenetesen definierad i detta sammanhang.\n",
    "\n",
    "I många fall kan man även släppa den omgivande parentesen `T= 1, True, 2, \"Hej\"`"
   ]
  },
  {
   "cell_type": "code",
   "execution_count": 6,
   "id": "fe19860e-6757-4df7-821e-31b273793eda",
   "metadata": {},
   "outputs": [
    {
     "name": "stdout",
     "output_type": "stream",
     "text": [
      "(1, True, 2, 'Hej')\n"
     ]
    },
    {
     "ename": "TypeError",
     "evalue": "'tuple' object is not callable",
     "output_type": "error",
     "traceback": [
      "\u001b[0;31m---------------------------------------------------------------------------\u001b[0m",
      "\u001b[0;31mTypeError\u001b[0m                                 Traceback (most recent call last)",
      "\u001b[0;32m/tmp/ipykernel_4808/1039226672.py\u001b[0m in \u001b[0;36m<module>\u001b[0;34m\u001b[0m\n\u001b[1;32m      1\u001b[0m \u001b[0mT\u001b[0m\u001b[0;34m=\u001b[0m\u001b[0;34m(\u001b[0m\u001b[0;36m1\u001b[0m\u001b[0;34m,\u001b[0m \u001b[0;32mTrue\u001b[0m\u001b[0;34m,\u001b[0m \u001b[0;36m2\u001b[0m\u001b[0;34m,\u001b[0m \u001b[0;34m\"Hej\"\u001b[0m\u001b[0;34m)\u001b[0m  \u001b[0;31m# Definierar en tuple\u001b[0m\u001b[0;34m\u001b[0m\u001b[0;34m\u001b[0m\u001b[0m\n\u001b[1;32m      2\u001b[0m \u001b[0mprint\u001b[0m\u001b[0;34m(\u001b[0m\u001b[0mT\u001b[0m\u001b[0;34m)\u001b[0m  \u001b[0;31m# Försöker skriva datastrukturen\u001b[0m\u001b[0;34m\u001b[0m\u001b[0;34m\u001b[0m\u001b[0m\n\u001b[0;32m----> 3\u001b[0;31m \u001b[0mprint\u001b[0m\u001b[0;34m(\u001b[0m\u001b[0mT\u001b[0m\u001b[0;34m(\u001b[0m\u001b[0;36m1\u001b[0m\u001b[0;34m)\u001b[0m\u001b[0;34m)\u001b[0m  \u001b[0;31m# Försöker skriva ett visst element, går ej\u001b[0m\u001b[0;34m\u001b[0m\u001b[0;34m\u001b[0m\u001b[0m\n\u001b[0m",
      "\u001b[0;31mTypeError\u001b[0m: 'tuple' object is not callable"
     ]
    }
   ],
   "source": [
    "T=(1, True, 2, \"Hej\")  # Definierar en tuple\n",
    "print(T)  # Försöker skriva datastrukturen, går bra\n",
    "print(T(1))  # Försöker skriva ett visst element, går ej"
   ]
  },
  {
   "cell_type": "code",
   "execution_count": 7,
   "id": "094133d8-96dc-4847-9093-22c7bd255ca3",
   "metadata": {},
   "outputs": [
    {
     "name": "stdout",
     "output_type": "stream",
     "text": [
      "True\n"
     ]
    }
   ],
   "source": [
    "T = (1, True, 2, \"Hej\")\n",
    "print(T[1])  #Fungerar dock!!!! VArför automatisk omvandling?"
   ]
  }
 ],
 "metadata": {
  "kernelspec": {
   "display_name": "Python 3 (ipykernel)",
   "language": "python",
   "name": "python3"
  },
  "language_info": {
   "codemirror_mode": {
    "name": "ipython",
    "version": 3
   },
   "file_extension": ".py",
   "mimetype": "text/x-python",
   "name": "python",
   "nbconvert_exporter": "python",
   "pygments_lexer": "ipython3",
   "version": "3.9.7"
  }
 },
 "nbformat": 4,
 "nbformat_minor": 5
}
