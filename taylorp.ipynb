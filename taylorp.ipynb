{
 "cells": [
  {
   "cell_type": "markdown",
   "metadata": {},
   "source": [
    "Funktioner kan approximeras med polynom. Tex. kan sinusfunktionen skrivas som $$ \\sin\\left(x\\right)=x-\\frac{x^{3}}{3!}+\\frac{x^{5}}{5!}-\\frac{x^{7}}{7!}+... $$\n",
    "\n",
    "Tar man inte med alla oändligt många termer blir det en bra approximation nära x=0. Ju längre bort från x du går desto fler termer måste tas med."
   ]
  },
  {
   "cell_type": "markdown",
   "metadata": {},
   "source": [
    "Ange en formel för termerna i serieutvecklingen. \n",
    "Skriv en funktion som när den anropas med x returnerar värdet på termen. Funktionen kräver 2 parametrar: värdet på x och vilken term n."
   ]
  },
  {
   "cell_type": "markdown",
   "metadata": {},
   "source": [
    "Modifiera programmet så att användaren anger hur högt största gradtalet i polynomet ska vara. Programmet använder alla termer upp till ett visst gradtal.\n",
    "\n",
    "Rita sedan både sinusfunktionen och polynomet i samma figur."
   ]
  },
  {
   "cell_type": "markdown",
   "metadata": {},
   "source": [
    "[Lösningsförslag](./uppg/taylorpuppgift1.ipynb)"
   ]
  },
  {
   "cell_type": "code",
   "execution_count": null,
   "metadata": {},
   "outputs": [],
   "source": []
  }
 ],
 "metadata": {
  "kernelspec": {
   "display_name": "Python 3",
   "language": "python",
   "name": "python3"
  },
  "language_info": {
   "codemirror_mode": {
    "name": "ipython",
    "version": 3
   },
   "file_extension": ".py",
   "mimetype": "text/x-python",
   "name": "python",
   "nbconvert_exporter": "python",
   "pygments_lexer": "ipython3",
   "version": "3.8.5"
  }
 },
 "nbformat": 4,
 "nbformat_minor": 4
}
