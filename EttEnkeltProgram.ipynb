{
 "cells": [
  {
   "cell_type": "markdown",
   "metadata": {},
   "source": [
    "# Ett enkelt program"
   ]
  },
  {
   "cell_type": "markdown",
   "metadata": {},
   "source": [
    "Vi skriver ett program som skriver ut det största av 3 tal.\n",
    "Gör Run för kod-cellen, ange ett tal, tryck på retur/enter,  ange ett nytt tal osv.\n",
    "\n",
    "Vi börjar med att få inmatningen korrekt."
   ]
  },
  {
   "cell_type": "code",
   "execution_count": 1,
   "metadata": {
    "scrolled": true
   },
   "outputs": [
    {
     "name": "stdout",
     "output_type": "stream",
     "text": [
      "Ange tre tal och programmet skriver ut det största\n"
     ]
    },
    {
     "name": "stdin",
     "output_type": "stream",
     "text": [
      "Ange det första 2\n",
      "Ange det andra 4\n",
      "Ange det tredje 7\n"
     ]
    }
   ],
   "source": [
    "print(\"Ange tre tal och programmet skriver ut det största\")\n",
    "a = int(input(\"Ange det första\"))\n",
    "b = int(input(\"Ange det andra\"))\n",
    "c = int(input(\"Ange det tredje\"))"
   ]
  },
  {
   "cell_type": "markdown",
   "metadata": {},
   "source": [
    "I nästa omgång kod kontrollerar vi vilket tal som är störst. I första raden kontrollerar vi om a är störst, i så fall skrivs värdet på a ut. I andra raden kontrolleras om b är störst, i så fall skrivs b ut. I sista raden kontrolleras om c är störst.\n",
    "\n",
    "Alla raderna genomlöps varje gång, vilket inte är så effektivt.\n",
    "\n",
    "Villkoret består av hela uttrycket `(a > b) and (a > c)`, dvs båda ska vara uppfyllda (`True`) för att a ska skrivas ut."
   ]
  },
  {
   "cell_type": "code",
   "execution_count": 2,
   "metadata": {},
   "outputs": [
    {
     "name": "stdout",
     "output_type": "stream",
     "text": [
      "7\n"
     ]
    }
   ],
   "source": [
    "if (a > b) and (a > c): print(a)\n",
    "if (b > a) and (b > c): print(b)\n",
    "if (c > a) and (c > b): print(c)"
   ]
  },
  {
   "cell_type": "code",
   "execution_count": null,
   "metadata": {},
   "outputs": [],
   "source": [
    "Sätter samman alla kod-raderna så du kan köra och testa."
   ]
  },
  {
   "cell_type": "code",
   "execution_count": 2,
   "metadata": {},
   "outputs": [
    {
     "name": "stdout",
     "output_type": "stream",
     "text": [
      "Ange tre tal och programmet skriver ut det största\n"
     ]
    },
    {
     "name": "stdin",
     "output_type": "stream",
     "text": [
      "Ange det första 2\n",
      "Ange det andra 4\n",
      "Ange det tredje 4\n"
     ]
    }
   ],
   "source": [
    "print(\"Ange tre tal och programmet skriver ut det största\")\n",
    "a = int(input(\"Ange det första\"))\n",
    "b = int(input(\"Ange det andra\"))\n",
    "c = int(input(\"Ange det tredje\"))\n",
    "\n",
    "if (a > b) and (a > c): print(a)\n",
    "if (b > a) and (b > c): print(b)\n",
    "if (c > a) and (c > b): print(c)"
   ]
  },
  {
   "cell_type": "markdown",
   "metadata": {},
   "source": [
    "Ett problem med koden är om några av talen är lika. Då får vi ingen utskrift.\n",
    "Om vi ändrar till `>=` får vi i stället flera likadana utskrifter."
   ]
  },
  {
   "cell_type": "code",
   "execution_count": 5,
   "metadata": {},
   "outputs": [
    {
     "name": "stdout",
     "output_type": "stream",
     "text": [
      "Ange tre tal och programmet skriver ut det största\n"
     ]
    },
    {
     "name": "stdin",
     "output_type": "stream",
     "text": [
      "Ange det första 5\n",
      "Ange det andra 3\n",
      "Ange det tredje 5\n"
     ]
    },
    {
     "name": "stdout",
     "output_type": "stream",
     "text": [
      "5\n",
      "5\n"
     ]
    }
   ],
   "source": [
    "print(\"Ange tre tal och programmet skriver ut det största\")\n",
    "a = int(input(\"Ange det första\"))\n",
    "b = int(input(\"Ange det andra\"))\n",
    "c = int(input(\"Ange det tredje\"))\n",
    "\n",
    "if (a >= b) and (a >= c): print(a)\n",
    "if (b >= a) and (b >= c): print(b)\n",
    "if (c >= a) and (c >= b): print(c)"
   ]
  },
  {
   "cell_type": "code",
   "execution_count": null,
   "metadata": {},
   "outputs": [],
   "source": [
    "Det finns många sätt att lösa detta på. Här kommer en möjlighet.\n",
    "Inför en variabel som håller reda på om det redan skett en utskrift."
   ]
  },
  {
   "cell_type": "code",
   "execution_count": 13,
   "metadata": {},
   "outputs": [
    {
     "name": "stdout",
     "output_type": "stream",
     "text": [
      "Ange tre tal och programmet skriver ut det största\n"
     ]
    },
    {
     "name": "stdin",
     "output_type": "stream",
     "text": [
      "Ange det första 4\n",
      "Ange det andra 4\n",
      "Ange det tredje 4\n"
     ]
    },
    {
     "name": "stdout",
     "output_type": "stream",
     "text": [
      "4\n"
     ]
    }
   ],
   "source": [
    "print(\"Ange tre tal och programmet skriver ut det största\")\n",
    "a = int(input(\"Ange det första\"))\n",
    "b = int(input(\"Ange det andra\"))\n",
    "c = int(input(\"Ange det tredje\"))\n",
    " \n",
    "pr = False\n",
    "if (a >= b) and (a >= c): print(a); pr = True\n",
    "if (b >= a) and (b >= c) and not(pr): print(b); pr = True\n",
    "if (c >= a) and (c >= b) and not(pr): print(c)"
   ]
  }
 ],
 "metadata": {
  "kernelspec": {
   "display_name": "Python 3 (ipykernel)",
   "language": "python",
   "name": "python3"
  },
  "language_info": {
   "codemirror_mode": {
    "name": "ipython",
    "version": 3
   },
   "file_extension": ".py",
   "mimetype": "text/x-python",
   "name": "python",
   "nbconvert_exporter": "python",
   "pygments_lexer": "ipython3",
   "version": "3.11.5"
  }
 },
 "nbformat": 4,
 "nbformat_minor": 4
}
